{
 "cells": [
  {
   "cell_type": "code",
   "execution_count": 1,
   "metadata": {},
   "outputs": [
    {
     "name": "stdout",
     "output_type": "stream",
     "text": [
      "Response HTTP Status Code: 504\n",
      "Response HTTP Response Body: b'<html>\\r\\n<head><title>504 Gateway Time-out</title></head>\\r\\n<body>\\r\\n<center><h1>504 Gateway Time-out</h1></center>\\r\\n<hr><center>nginx/1.21.1</center>\\r\\n</body>\\r\\n</html>\\r\\n'\n"
     ]
    }
   ],
   "source": [
    "import requests\n",
    "import json\n",
    "\n",
    "response = requests.post(\n",
    "            url=\"https://api.open-elevation.com/api/v1/lookup\",\n",
    "            headers={\n",
    "                \"Accept\": \"application/json\",\n",
    "                \"Content-Type\": \"application/json; charset=utf-8\",\n",
    "            },\n",
    "            data=json.dumps({\n",
    "                \"locations\": [\n",
    "                    {\n",
    "                        \"longitude\": 10,\n",
    "                        \"latitude\": 10\n",
    "                    },\n",
    "                    {\n",
    "                        \"longitude\": 20,\n",
    "                        \"latitude\": 20\n",
    "                    }\n",
    "                ]\n",
    "            })\n",
    "        )\n",
    "\n",
    "print('Response HTTP Status Code: {status_code}'.format(status_code=response.status_code))\n",
    "print('Response HTTP Response Body: {content}'.format(content=response.content))"
   ]
  },
  {
   "cell_type": "code",
   "execution_count": 7,
   "metadata": {},
   "outputs": [
    {
     "name": "stdout",
     "output_type": "stream",
     "text": [
      "42.53333,-85.88333\n",
      "26.96667,-105.31667\n",
      "44.61667,-70.75\n",
      "38.5,-94.3\n",
      "['42.53333,-85.88333', '26.96667,-105.31667', '44.61667,-70.75', '38.5,-94.3']\n",
      "42.53333,-85.88333\n",
      "{'results': [{'dataset': 'etopo1', 'elevation': 225.0, 'location': {'lat': 42.53333, 'lng': -85.88333}}], 'status': 'OK'}\n",
      "26.96667,-105.31667\n",
      "{'results': [{'dataset': 'etopo1', 'elevation': 1575.0, 'location': {'lat': 26.96667, 'lng': -105.31667}}], 'status': 'OK'}\n",
      "44.61667,-70.75\n",
      "{'results': [{'dataset': 'etopo1', 'elevation': 220.0, 'location': {'lat': 44.61667, 'lng': -70.75}}], 'status': 'OK'}\n",
      "38.5,-94.3\n",
      "{'results': [{'dataset': 'etopo1', 'elevation': 264.0, 'location': {'lat': 38.5, 'lng': -94.3}}], 'status': 'OK'}\n",
      "[{'results': [{'dataset': 'etopo1', 'elevation': 225.0, 'location': {'lat': 42.53333, 'lng': -85.88333}}], 'status': 'OK'}, {'results': [{'dataset': 'etopo1', 'elevation': 1575.0, 'location': {'lat': 26.96667, 'lng': -105.31667}}], 'status': 'OK'}, {'results': [{'dataset': 'etopo1', 'elevation': 220.0, 'location': {'lat': 44.61667, 'lng': -70.75}}], 'status': 'OK'}, {'results': [{'dataset': 'etopo1', 'elevation': 264.0, 'location': {'lat': 38.5, 'lng': -94.3}}], 'status': 'OK'}]\n"
     ]
    }
   ],
   "source": [
    "# Dependencies\n",
    "import requests\n",
    "\n",
    "# url = f\"https://api.opentopodata.org/v1/etopo1?locations={qlat},{qlong}\"\n",
    "\n",
    "qlats = [42.53333, 26.96667, 44.61667, 38.5]\n",
    "qlongs = [-85.88333, -105.31667, -70.75, -94.3]\n",
    "\n",
    "qlatlong = []\n",
    "\n",
    "for x in range(0,len(qlats)):\n",
    "    strlalo= f'{qlats[x]},{qlongs[x]}'\n",
    "    qlatlong.append(strlalo)\n",
    "    print(strlalo)\n",
    "    type(strlalo)\n",
    "\n",
    "print(qlatlong)\n",
    "\n",
    "\n",
    "responses = []\n",
    "\n",
    "for qlat in qlatlong:\n",
    "    print(qlat)\n",
    "    url = f\"https://api.opentopodata.org/v1/etopo1?locations={qlat}\"\n",
    "    movie_data = requests.get(url).json()\n",
    "    responses.append(movie_data)\n",
    "    print(movie_data)\n",
    "\n",
    "print(responses)"
   ]
  }
 ],
 "metadata": {
  "kernelspec": {
   "display_name": "mlenv",
   "language": "python",
   "name": "python3"
  },
  "language_info": {
   "codemirror_mode": {
    "name": "ipython",
    "version": 3
   },
   "file_extension": ".py",
   "mimetype": "text/x-python",
   "name": "python",
   "nbconvert_exporter": "python",
   "pygments_lexer": "ipython3",
   "version": "3.7.13"
  },
  "orig_nbformat": 4
 },
 "nbformat": 4,
 "nbformat_minor": 2
}
