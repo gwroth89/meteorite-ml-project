{
  "cells": [
    {
      "cell_type": "code",
      "execution_count": 1,
      "metadata": {
        "id": "-vHo1qGaTInh"
      },
      "outputs": [],
      "source": [
        "from sqlalchemy import create_engine\n",
        "from sqlalchemy.types import Integer, Text, String, DateTime, Float\n",
        "import psycopg2"
      ]
    },
    {
      "cell_type": "code",
      "execution_count": 2,
      "metadata": {
        "id": "P2JjMtJFTIni"
      },
      "outputs": [],
      "source": [
        "import numpy as np\n",
        "import pandas as pd\n",
        "import matplotlib.pyplot as plt\n",
        "import plotly.express as px\n",
        "import geopy\n",
        "from geopy.geocoders import Nominatim\n",
        "from pathlib import Path\n",
        "from sklearn.preprocessing import StandardScaler, normalize\n",
        "from sklearn.decomposition import PCA\n",
        "from sklearn.cluster import KMeans, AgglomerativeClustering\n",
        "from sklearn.datasets import make_classification, make_regression\n",
        "from sklearn.ensemble import RandomForestClassifier, ExtraTreesClassifier\n",
        "from sklearn.linear_model import LogisticRegression, LinearRegression, Ridge, Lasso, ElasticNet\n",
        "from sklearn.model_selection import train_test_split\n",
        "from sklearn.metrics import confusion_matrix, classification_report, roc_curve, auc\n",
        "from sklearn.neighbors import KNeighborsClassifier\n",
        "from sklearn.svm import SVC\n",
        "from scipy.cluster.hierarchy import dendrogram, linkage\n",
        "from config import aws_pw, pg_pw"
      ]
    },
    {
      "cell_type": "markdown",
      "metadata": {
        "id": "q_SWu35CTIni"
      },
      "source": [
        "# POSTGRES LOCAL CONNECTION"
      ]
    },
    {
      "cell_type": "code",
      "execution_count": 3,
      "metadata": {
        "id": "XMXlGyP3TIni"
      },
      "outputs": [],
      "source": [
        "# # link to postgresql on my local machine\n",
        "# # https://naysan.ca/2020/05/31/postgresql-to-pandas/\n",
        "# param_dic = {\n",
        "#     \"host\"      : \"localhost\",  \n",
        "#     \"database\"  : \"Meteorites\",\n",
        "#     \"user\"      : \"postgres\",\n",
        "#     \"password\"  : pg_pw\n",
        "# }\n",
        "# def connect(params_dic):\n",
        "#     \"\"\" Connect to the PostgreSQL database server \"\"\"\n",
        "#     conn = None\n",
        "#     try:\n",
        "#         # connect to the PostgreSQL server\n",
        "#         print('Connecting to the PostgreSQL database...')\n",
        "#         conn = psycopg2.connect(**params_dic)\n",
        "#     except (Exception, psycopg2.DatabaseError) as error:\n",
        "#         print(error)\n",
        "#         sys.exit(1) \n",
        "#     print(\"Connection successful\")\n",
        "#     return conn"
      ]
    },
    {
      "cell_type": "markdown",
      "metadata": {
        "id": "1lvGLDlyTInj"
      },
      "source": [
        "# AWS DB CONNECTION"
      ]
    },
    {
      "cell_type": "code",
      "execution_count": 4,
      "metadata": {
        "id": "Kq4e2CYJTInj"
      },
      "outputs": [],
      "source": [
        "# link to aws\n",
        "# https://naysan.ca/2020/05/31/postgresql-to-pandas/\n",
        "param_dic = {\n",
        "    \"host\"      : \"meteorite-ml-db.cl3jquwwq7kn.us-east-1.rds.amazonaws.com\",  \n",
        "    \"database\"  : \"meteorite_ml_db\",\n",
        "    \"user\"      : \"postgres\",\n",
        "    \"password\"  : aws_pw\n",
        "}\n",
        "def connect(params_dic):\n",
        "    \"\"\" Connect to the PostgreSQL/AWS database server \"\"\"\n",
        "    conn = None\n",
        "    try:\n",
        "        # connect to the PostgreSQL server\n",
        "        print('Connecting to the PostgreSQL/AWS database...')\n",
        "        conn = psycopg2.connect(**params_dic)\n",
        "    except (Exception, psycopg2.DatabaseError) as error:\n",
        "        print(error)\n",
        "        sys.exit(1) \n",
        "    print(\"Connection successful\")\n",
        "    return conn"
      ]
    },
    {
      "cell_type": "code",
      "execution_count": 5,
      "metadata": {
        "id": "dLky8FKATInj"
      },
      "outputs": [],
      "source": [
        "# function to query database and put data into df\n",
        "def postgresql_to_dataframe(conn, select_query, column_names):\n",
        "    \"\"\"\n",
        "    Tranform a SELECT query into a pandas dataframe\n",
        "    \"\"\"\n",
        "    cursor = conn.cursor()\n",
        "    try:\n",
        "        cursor.execute(select_query)\n",
        "    except (Exception, psycopg2.DatabaseError) as error:\n",
        "        print(\"Error: %s\" % error)\n",
        "        cursor.close()\n",
        "        return 1\n",
        "    \n",
        "    # Naturally we get a list of tupples\n",
        "    tupples = cursor.fetchall()\n",
        "    cursor.close()\n",
        "    \n",
        "    # We just need to turn it into a pandas dataframe\n",
        "    df = pd.DataFrame(tupples, columns=column_names)\n",
        "    return df"
      ]
    },
    {
      "cell_type": "code",
      "execution_count": 6,
      "metadata": {
        "id": "weoyue5rTInk"
      },
      "outputs": [],
      "source": [
        "# create list of column names for each db table\n",
        "landcover_cols=[\"id\",\"state_abbrev\",\"variable\",\"value\"]\n",
        "state_cols=[\"state_abbrev\",\"state\",\"FIPS\",\"area_sqkm\",\"country\"]\n",
        "meteorite_type_cols=[\"recclass\",\"meteorite_class_subclass\",\"meteorite_class\",\"meteorite_type\"]\n",
        "meteorite_main_cols=[\"id\",\"name\",\"recclass\",\"mass_grams\",\"fall\",\"year\",\"reclat\",\"reclong\",\"geolocation\",\"geometry\",\"elevation\",\"country\",\"state_abbrev\"]"
      ]
    },
    {
      "cell_type": "code",
      "execution_count": 7,
      "metadata": {
        "colab": {
          "base_uri": "https://localhost:8080/"
        },
        "id": "LFdGBPHQTInk",
        "outputId": "51007127-5ac8-43c7-cc38-06e798ce3fc9"
      },
      "outputs": [
        {
          "name": "stdout",
          "output_type": "stream",
          "text": [
            "Connecting to the PostgreSQL/AWS database...\n",
            "Connection successful\n"
          ]
        }
      ],
      "source": [
        "# connect to database\n",
        "conn = connect(param_dic)\n"
      ]
    },
    {
      "cell_type": "code",
      "execution_count": 8,
      "metadata": {
        "colab": {
          "base_uri": "https://localhost:8080/",
          "height": 224
        },
        "id": "Z86lz0sdTInk",
        "outputId": "6bc52ca1-d489-4914-9a36-343708f3869f"
      },
      "outputs": [
        {
          "name": "stdout",
          "output_type": "stream",
          "text": [
            "52\n"
          ]
        },
        {
          "data": {
            "text/html": [
              "\n",
              "  <div id=\"df-f33d83be-3139-4622-932b-ec33488d9d51\">\n",
              "    <div class=\"colab-df-container\">\n",
              "      <div>\n",
              "<style scoped>\n",
              "    .dataframe tbody tr th:only-of-type {\n",
              "        vertical-align: middle;\n",
              "    }\n",
              "\n",
              "    .dataframe tbody tr th {\n",
              "        vertical-align: top;\n",
              "    }\n",
              "\n",
              "    .dataframe thead th {\n",
              "        text-align: right;\n",
              "    }\n",
              "</style>\n",
              "<table border=\"1\" class=\"dataframe\">\n",
              "  <thead>\n",
              "    <tr style=\"text-align: right;\">\n",
              "      <th></th>\n",
              "      <th>state_abbrev</th>\n",
              "      <th>state</th>\n",
              "      <th>FIPS</th>\n",
              "      <th>area_sqkm</th>\n",
              "      <th>country</th>\n",
              "    </tr>\n",
              "  </thead>\n",
              "  <tbody>\n",
              "    <tr>\n",
              "      <th>0</th>\n",
              "      <td>AL</td>\n",
              "      <td>Alabama</td>\n",
              "      <td>01</td>\n",
              "      <td>135767</td>\n",
              "      <td>United States</td>\n",
              "    </tr>\n",
              "    <tr>\n",
              "      <th>1</th>\n",
              "      <td>AK</td>\n",
              "      <td>Alaska</td>\n",
              "      <td>02</td>\n",
              "      <td>1723337</td>\n",
              "      <td>United States</td>\n",
              "    </tr>\n",
              "    <tr>\n",
              "      <th>2</th>\n",
              "      <td>AZ</td>\n",
              "      <td>Arizona</td>\n",
              "      <td>04</td>\n",
              "      <td>295234</td>\n",
              "      <td>United States</td>\n",
              "    </tr>\n",
              "    <tr>\n",
              "      <th>3</th>\n",
              "      <td>AR</td>\n",
              "      <td>Arkansas</td>\n",
              "      <td>05</td>\n",
              "      <td>137732</td>\n",
              "      <td>United States</td>\n",
              "    </tr>\n",
              "    <tr>\n",
              "      <th>4</th>\n",
              "      <td>CA</td>\n",
              "      <td>California</td>\n",
              "      <td>06</td>\n",
              "      <td>423967</td>\n",
              "      <td>United States</td>\n",
              "    </tr>\n",
              "  </tbody>\n",
              "</table>\n",
              "</div>\n",
              "      <button class=\"colab-df-convert\" onclick=\"convertToInteractive('df-f33d83be-3139-4622-932b-ec33488d9d51')\"\n",
              "              title=\"Convert this dataframe to an interactive table.\"\n",
              "              style=\"display:none;\">\n",
              "        \n",
              "  <svg xmlns=\"http://www.w3.org/2000/svg\" height=\"24px\"viewBox=\"0 0 24 24\"\n",
              "       width=\"24px\">\n",
              "    <path d=\"M0 0h24v24H0V0z\" fill=\"none\"/>\n",
              "    <path d=\"M18.56 5.44l.94 2.06.94-2.06 2.06-.94-2.06-.94-.94-2.06-.94 2.06-2.06.94zm-11 1L8.5 8.5l.94-2.06 2.06-.94-2.06-.94L8.5 2.5l-.94 2.06-2.06.94zm10 10l.94 2.06.94-2.06 2.06-.94-2.06-.94-.94-2.06-.94 2.06-2.06.94z\"/><path d=\"M17.41 7.96l-1.37-1.37c-.4-.4-.92-.59-1.43-.59-.52 0-1.04.2-1.43.59L10.3 9.45l-7.72 7.72c-.78.78-.78 2.05 0 2.83L4 21.41c.39.39.9.59 1.41.59.51 0 1.02-.2 1.41-.59l7.78-7.78 2.81-2.81c.8-.78.8-2.07 0-2.86zM5.41 20L4 18.59l7.72-7.72 1.47 1.35L5.41 20z\"/>\n",
              "  </svg>\n",
              "      </button>\n",
              "      \n",
              "  <style>\n",
              "    .colab-df-container {\n",
              "      display:flex;\n",
              "      flex-wrap:wrap;\n",
              "      gap: 12px;\n",
              "    }\n",
              "\n",
              "    .colab-df-convert {\n",
              "      background-color: #E8F0FE;\n",
              "      border: none;\n",
              "      border-radius: 50%;\n",
              "      cursor: pointer;\n",
              "      display: none;\n",
              "      fill: #1967D2;\n",
              "      height: 32px;\n",
              "      padding: 0 0 0 0;\n",
              "      width: 32px;\n",
              "    }\n",
              "\n",
              "    .colab-df-convert:hover {\n",
              "      background-color: #E2EBFA;\n",
              "      box-shadow: 0px 1px 2px rgba(60, 64, 67, 0.3), 0px 1px 3px 1px rgba(60, 64, 67, 0.15);\n",
              "      fill: #174EA6;\n",
              "    }\n",
              "\n",
              "    [theme=dark] .colab-df-convert {\n",
              "      background-color: #3B4455;\n",
              "      fill: #D2E3FC;\n",
              "    }\n",
              "\n",
              "    [theme=dark] .colab-df-convert:hover {\n",
              "      background-color: #434B5C;\n",
              "      box-shadow: 0px 1px 3px 1px rgba(0, 0, 0, 0.15);\n",
              "      filter: drop-shadow(0px 1px 2px rgba(0, 0, 0, 0.3));\n",
              "      fill: #FFFFFF;\n",
              "    }\n",
              "  </style>\n",
              "\n",
              "      <script>\n",
              "        const buttonEl =\n",
              "          document.querySelector('#df-f33d83be-3139-4622-932b-ec33488d9d51 button.colab-df-convert');\n",
              "        buttonEl.style.display =\n",
              "          google.colab.kernel.accessAllowed ? 'block' : 'none';\n",
              "\n",
              "        async function convertToInteractive(key) {\n",
              "          const element = document.querySelector('#df-f33d83be-3139-4622-932b-ec33488d9d51');\n",
              "          const dataTable =\n",
              "            await google.colab.kernel.invokeFunction('convertToInteractive',\n",
              "                                                     [key], {});\n",
              "          if (!dataTable) return;\n",
              "\n",
              "          const docLinkHtml = 'Like what you see? Visit the ' +\n",
              "            '<a target=\"_blank\" href=https://colab.research.google.com/notebooks/data_table.ipynb>data table notebook</a>'\n",
              "            + ' to learn more about interactive tables.';\n",
              "          element.innerHTML = '';\n",
              "          dataTable['output_type'] = 'display_data';\n",
              "          await google.colab.output.renderOutput(dataTable, element);\n",
              "          const docLink = document.createElement('div');\n",
              "          docLink.innerHTML = docLinkHtml;\n",
              "          element.appendChild(docLink);\n",
              "        }\n",
              "      </script>\n",
              "    </div>\n",
              "  </div>\n",
              "  "
            ],
            "text/plain": [
              "  state_abbrev       state FIPS  area_sqkm        country\n",
              "0           AL     Alabama   01     135767  United States\n",
              "1           AK      Alaska   02    1723337  United States\n",
              "2           AZ     Arizona   04     295234  United States\n",
              "3           AR    Arkansas   05     137732  United States\n",
              "4           CA  California   06     423967  United States"
            ]
          },
          "execution_count": 8,
          "metadata": {},
          "output_type": "execute_result"
        }
      ],
      "source": [
        "# pull all from state table\n",
        "state_df = postgresql_to_dataframe(conn,\"select * from state\",state_cols)\n",
        "print(len(state_df))\n",
        "state_df.head()"
      ]
    },
    {
      "cell_type": "code",
      "execution_count": 9,
      "metadata": {
        "colab": {
          "base_uri": "https://localhost:8080/",
          "height": 224
        },
        "id": "yZU_RKxyTInk",
        "outputId": "9b621cd2-a42f-4a19-ee2c-f8d9033b3a45"
      },
      "outputs": [
        {
          "name": "stdout",
          "output_type": "stream",
          "text": [
            "459\n"
          ]
        },
        {
          "data": {
            "text/html": [
              "\n",
              "  <div id=\"df-7bd6643e-990a-4cfa-807e-7b648a4c6a95\">\n",
              "    <div class=\"colab-df-container\">\n",
              "      <div>\n",
              "<style scoped>\n",
              "    .dataframe tbody tr th:only-of-type {\n",
              "        vertical-align: middle;\n",
              "    }\n",
              "\n",
              "    .dataframe tbody tr th {\n",
              "        vertical-align: top;\n",
              "    }\n",
              "\n",
              "    .dataframe thead th {\n",
              "        text-align: right;\n",
              "    }\n",
              "</style>\n",
              "<table border=\"1\" class=\"dataframe\">\n",
              "  <thead>\n",
              "    <tr style=\"text-align: right;\">\n",
              "      <th></th>\n",
              "      <th>id</th>\n",
              "      <th>state_abbrev</th>\n",
              "      <th>variable</th>\n",
              "      <th>value</th>\n",
              "    </tr>\n",
              "  </thead>\n",
              "  <tbody>\n",
              "    <tr>\n",
              "      <th>0</th>\n",
              "      <td>1</td>\n",
              "      <td>AL</td>\n",
              "      <td>FOREST</td>\n",
              "      <td>64.872148</td>\n",
              "    </tr>\n",
              "    <tr>\n",
              "      <th>1</th>\n",
              "      <td>2</td>\n",
              "      <td>AL</td>\n",
              "      <td>GRSL</td>\n",
              "      <td>19.904490</td>\n",
              "    </tr>\n",
              "    <tr>\n",
              "      <th>2</th>\n",
              "      <td>3</td>\n",
              "      <td>AL</td>\n",
              "      <td>WETL</td>\n",
              "      <td>0.176988</td>\n",
              "    </tr>\n",
              "    <tr>\n",
              "      <th>3</th>\n",
              "      <td>4</td>\n",
              "      <td>AL</td>\n",
              "      <td>SHRUBL</td>\n",
              "      <td>1.222573</td>\n",
              "    </tr>\n",
              "    <tr>\n",
              "      <th>4</th>\n",
              "      <td>5</td>\n",
              "      <td>AL</td>\n",
              "      <td>SPARSE_VEGETATION</td>\n",
              "      <td>0.034765</td>\n",
              "    </tr>\n",
              "  </tbody>\n",
              "</table>\n",
              "</div>\n",
              "      <button class=\"colab-df-convert\" onclick=\"convertToInteractive('df-7bd6643e-990a-4cfa-807e-7b648a4c6a95')\"\n",
              "              title=\"Convert this dataframe to an interactive table.\"\n",
              "              style=\"display:none;\">\n",
              "        \n",
              "  <svg xmlns=\"http://www.w3.org/2000/svg\" height=\"24px\"viewBox=\"0 0 24 24\"\n",
              "       width=\"24px\">\n",
              "    <path d=\"M0 0h24v24H0V0z\" fill=\"none\"/>\n",
              "    <path d=\"M18.56 5.44l.94 2.06.94-2.06 2.06-.94-2.06-.94-.94-2.06-.94 2.06-2.06.94zm-11 1L8.5 8.5l.94-2.06 2.06-.94-2.06-.94L8.5 2.5l-.94 2.06-2.06.94zm10 10l.94 2.06.94-2.06 2.06-.94-2.06-.94-.94-2.06-.94 2.06-2.06.94z\"/><path d=\"M17.41 7.96l-1.37-1.37c-.4-.4-.92-.59-1.43-.59-.52 0-1.04.2-1.43.59L10.3 9.45l-7.72 7.72c-.78.78-.78 2.05 0 2.83L4 21.41c.39.39.9.59 1.41.59.51 0 1.02-.2 1.41-.59l7.78-7.78 2.81-2.81c.8-.78.8-2.07 0-2.86zM5.41 20L4 18.59l7.72-7.72 1.47 1.35L5.41 20z\"/>\n",
              "  </svg>\n",
              "      </button>\n",
              "      \n",
              "  <style>\n",
              "    .colab-df-container {\n",
              "      display:flex;\n",
              "      flex-wrap:wrap;\n",
              "      gap: 12px;\n",
              "    }\n",
              "\n",
              "    .colab-df-convert {\n",
              "      background-color: #E8F0FE;\n",
              "      border: none;\n",
              "      border-radius: 50%;\n",
              "      cursor: pointer;\n",
              "      display: none;\n",
              "      fill: #1967D2;\n",
              "      height: 32px;\n",
              "      padding: 0 0 0 0;\n",
              "      width: 32px;\n",
              "    }\n",
              "\n",
              "    .colab-df-convert:hover {\n",
              "      background-color: #E2EBFA;\n",
              "      box-shadow: 0px 1px 2px rgba(60, 64, 67, 0.3), 0px 1px 3px 1px rgba(60, 64, 67, 0.15);\n",
              "      fill: #174EA6;\n",
              "    }\n",
              "\n",
              "    [theme=dark] .colab-df-convert {\n",
              "      background-color: #3B4455;\n",
              "      fill: #D2E3FC;\n",
              "    }\n",
              "\n",
              "    [theme=dark] .colab-df-convert:hover {\n",
              "      background-color: #434B5C;\n",
              "      box-shadow: 0px 1px 3px 1px rgba(0, 0, 0, 0.15);\n",
              "      filter: drop-shadow(0px 1px 2px rgba(0, 0, 0, 0.3));\n",
              "      fill: #FFFFFF;\n",
              "    }\n",
              "  </style>\n",
              "\n",
              "      <script>\n",
              "        const buttonEl =\n",
              "          document.querySelector('#df-7bd6643e-990a-4cfa-807e-7b648a4c6a95 button.colab-df-convert');\n",
              "        buttonEl.style.display =\n",
              "          google.colab.kernel.accessAllowed ? 'block' : 'none';\n",
              "\n",
              "        async function convertToInteractive(key) {\n",
              "          const element = document.querySelector('#df-7bd6643e-990a-4cfa-807e-7b648a4c6a95');\n",
              "          const dataTable =\n",
              "            await google.colab.kernel.invokeFunction('convertToInteractive',\n",
              "                                                     [key], {});\n",
              "          if (!dataTable) return;\n",
              "\n",
              "          const docLinkHtml = 'Like what you see? Visit the ' +\n",
              "            '<a target=\"_blank\" href=https://colab.research.google.com/notebooks/data_table.ipynb>data table notebook</a>'\n",
              "            + ' to learn more about interactive tables.';\n",
              "          element.innerHTML = '';\n",
              "          dataTable['output_type'] = 'display_data';\n",
              "          await google.colab.output.renderOutput(dataTable, element);\n",
              "          const docLink = document.createElement('div');\n",
              "          docLink.innerHTML = docLinkHtml;\n",
              "          element.appendChild(docLink);\n",
              "        }\n",
              "      </script>\n",
              "    </div>\n",
              "  </div>\n",
              "  "
            ],
            "text/plain": [
              "   id state_abbrev           variable      value\n",
              "0   1           AL             FOREST  64.872148\n",
              "1   2           AL               GRSL  19.904490\n",
              "2   3           AL               WETL   0.176988\n",
              "3   4           AL             SHRUBL   1.222573\n",
              "4   5           AL  SPARSE_VEGETATION   0.034765"
            ]
          },
          "execution_count": 9,
          "metadata": {},
          "output_type": "execute_result"
        }
      ],
      "source": [
        "# pull all from landcover table\n",
        "landcover_df = postgresql_to_dataframe(conn,\"select * from landcover\",landcover_cols)\n",
        "print(len(landcover_df))\n",
        "landcover_df.head()"
      ]
    },
    {
      "cell_type": "code",
      "execution_count": 10,
      "metadata": {
        "colab": {
          "base_uri": "https://localhost:8080/",
          "height": 255
        },
        "id": "frdvY7tFTInl",
        "outputId": "8dbe7723-64f8-4c44-9ab8-e11c312bb698"
      },
      "outputs": [
        {
          "name": "stdout",
          "output_type": "stream",
          "text": [
            "459\n"
          ]
        },
        {
          "data": {
            "text/html": [
              "\n",
              "  <div id=\"df-678bd92b-9c63-4cd6-a778-b8f7f0a92558\">\n",
              "    <div class=\"colab-df-container\">\n",
              "      <div>\n",
              "<style scoped>\n",
              "    .dataframe tbody tr th:only-of-type {\n",
              "        vertical-align: middle;\n",
              "    }\n",
              "\n",
              "    .dataframe tbody tr th {\n",
              "        vertical-align: top;\n",
              "    }\n",
              "\n",
              "    .dataframe thead th {\n",
              "        text-align: right;\n",
              "    }\n",
              "</style>\n",
              "<table border=\"1\" class=\"dataframe\">\n",
              "  <thead>\n",
              "    <tr style=\"text-align: right;\">\n",
              "      <th></th>\n",
              "      <th>variable</th>\n",
              "      <th>value</th>\n",
              "    </tr>\n",
              "    <tr>\n",
              "      <th>state_abbrev</th>\n",
              "      <th></th>\n",
              "      <th></th>\n",
              "    </tr>\n",
              "  </thead>\n",
              "  <tbody>\n",
              "    <tr>\n",
              "      <th>AL</th>\n",
              "      <td>FOREST</td>\n",
              "      <td>64.872148</td>\n",
              "    </tr>\n",
              "    <tr>\n",
              "      <th>AL</th>\n",
              "      <td>GRSL</td>\n",
              "      <td>19.904490</td>\n",
              "    </tr>\n",
              "    <tr>\n",
              "      <th>AL</th>\n",
              "      <td>WETL</td>\n",
              "      <td>0.176988</td>\n",
              "    </tr>\n",
              "    <tr>\n",
              "      <th>AL</th>\n",
              "      <td>SHRUBL</td>\n",
              "      <td>1.222573</td>\n",
              "    </tr>\n",
              "    <tr>\n",
              "      <th>AL</th>\n",
              "      <td>SPARSE_VEGETATION</td>\n",
              "      <td>0.034765</td>\n",
              "    </tr>\n",
              "  </tbody>\n",
              "</table>\n",
              "</div>\n",
              "      <button class=\"colab-df-convert\" onclick=\"convertToInteractive('df-678bd92b-9c63-4cd6-a778-b8f7f0a92558')\"\n",
              "              title=\"Convert this dataframe to an interactive table.\"\n",
              "              style=\"display:none;\">\n",
              "        \n",
              "  <svg xmlns=\"http://www.w3.org/2000/svg\" height=\"24px\"viewBox=\"0 0 24 24\"\n",
              "       width=\"24px\">\n",
              "    <path d=\"M0 0h24v24H0V0z\" fill=\"none\"/>\n",
              "    <path d=\"M18.56 5.44l.94 2.06.94-2.06 2.06-.94-2.06-.94-.94-2.06-.94 2.06-2.06.94zm-11 1L8.5 8.5l.94-2.06 2.06-.94-2.06-.94L8.5 2.5l-.94 2.06-2.06.94zm10 10l.94 2.06.94-2.06 2.06-.94-2.06-.94-.94-2.06-.94 2.06-2.06.94z\"/><path d=\"M17.41 7.96l-1.37-1.37c-.4-.4-.92-.59-1.43-.59-.52 0-1.04.2-1.43.59L10.3 9.45l-7.72 7.72c-.78.78-.78 2.05 0 2.83L4 21.41c.39.39.9.59 1.41.59.51 0 1.02-.2 1.41-.59l7.78-7.78 2.81-2.81c.8-.78.8-2.07 0-2.86zM5.41 20L4 18.59l7.72-7.72 1.47 1.35L5.41 20z\"/>\n",
              "  </svg>\n",
              "      </button>\n",
              "      \n",
              "  <style>\n",
              "    .colab-df-container {\n",
              "      display:flex;\n",
              "      flex-wrap:wrap;\n",
              "      gap: 12px;\n",
              "    }\n",
              "\n",
              "    .colab-df-convert {\n",
              "      background-color: #E8F0FE;\n",
              "      border: none;\n",
              "      border-radius: 50%;\n",
              "      cursor: pointer;\n",
              "      display: none;\n",
              "      fill: #1967D2;\n",
              "      height: 32px;\n",
              "      padding: 0 0 0 0;\n",
              "      width: 32px;\n",
              "    }\n",
              "\n",
              "    .colab-df-convert:hover {\n",
              "      background-color: #E2EBFA;\n",
              "      box-shadow: 0px 1px 2px rgba(60, 64, 67, 0.3), 0px 1px 3px 1px rgba(60, 64, 67, 0.15);\n",
              "      fill: #174EA6;\n",
              "    }\n",
              "\n",
              "    [theme=dark] .colab-df-convert {\n",
              "      background-color: #3B4455;\n",
              "      fill: #D2E3FC;\n",
              "    }\n",
              "\n",
              "    [theme=dark] .colab-df-convert:hover {\n",
              "      background-color: #434B5C;\n",
              "      box-shadow: 0px 1px 3px 1px rgba(0, 0, 0, 0.15);\n",
              "      filter: drop-shadow(0px 1px 2px rgba(0, 0, 0, 0.3));\n",
              "      fill: #FFFFFF;\n",
              "    }\n",
              "  </style>\n",
              "\n",
              "      <script>\n",
              "        const buttonEl =\n",
              "          document.querySelector('#df-678bd92b-9c63-4cd6-a778-b8f7f0a92558 button.colab-df-convert');\n",
              "        buttonEl.style.display =\n",
              "          google.colab.kernel.accessAllowed ? 'block' : 'none';\n",
              "\n",
              "        async function convertToInteractive(key) {\n",
              "          const element = document.querySelector('#df-678bd92b-9c63-4cd6-a778-b8f7f0a92558');\n",
              "          const dataTable =\n",
              "            await google.colab.kernel.invokeFunction('convertToInteractive',\n",
              "                                                     [key], {});\n",
              "          if (!dataTable) return;\n",
              "\n",
              "          const docLinkHtml = 'Like what you see? Visit the ' +\n",
              "            '<a target=\"_blank\" href=https://colab.research.google.com/notebooks/data_table.ipynb>data table notebook</a>'\n",
              "            + ' to learn more about interactive tables.';\n",
              "          element.innerHTML = '';\n",
              "          dataTable['output_type'] = 'display_data';\n",
              "          await google.colab.output.renderOutput(dataTable, element);\n",
              "          const docLink = document.createElement('div');\n",
              "          docLink.innerHTML = docLinkHtml;\n",
              "          element.appendChild(docLink);\n",
              "        }\n",
              "      </script>\n",
              "    </div>\n",
              "  </div>\n",
              "  "
            ],
            "text/plain": [
              "                       variable      value\n",
              "state_abbrev                              \n",
              "AL                       FOREST  64.872148\n",
              "AL                         GRSL  19.904490\n",
              "AL                         WETL   0.176988\n",
              "AL                       SHRUBL   1.222573\n",
              "AL            SPARSE_VEGETATION   0.034765"
            ]
          },
          "execution_count": 10,
          "metadata": {},
          "output_type": "execute_result"
        }
      ],
      "source": [
        "# remove ID column and set state abbreviation to index\n",
        "landcover_df.drop(['id'], axis=1, inplace=True)\n",
        "landcover_df.set_index('state_abbrev', inplace=True)\n",
        "print(len(landcover_df))\n",
        "landcover_df.head()"
      ]
    },
    {
      "cell_type": "code",
      "execution_count": 11,
      "metadata": {
        "colab": {
          "base_uri": "https://localhost:8080/",
          "height": 129
        },
        "id": "cHN4ce45TInl",
        "outputId": "3888e3a2-431b-4602-f824-e0dbec119397"
      },
      "outputs": [
        {
          "name": "stdout",
          "output_type": "stream",
          "text": [
            "51\n"
          ]
        },
        {
          "data": {
            "text/html": [
              "\n",
              "  <div id=\"df-89788e82-ba72-435d-806b-bec0f3a3d070\">\n",
              "    <div class=\"colab-df-container\">\n",
              "      <div>\n",
              "<style scoped>\n",
              "    .dataframe tbody tr th:only-of-type {\n",
              "        vertical-align: middle;\n",
              "    }\n",
              "\n",
              "    .dataframe tbody tr th {\n",
              "        vertical-align: top;\n",
              "    }\n",
              "\n",
              "    .dataframe thead th {\n",
              "        text-align: right;\n",
              "    }\n",
              "</style>\n",
              "<table border=\"1\" class=\"dataframe\">\n",
              "  <thead>\n",
              "    <tr style=\"text-align: right;\">\n",
              "      <th></th>\n",
              "      <th>state_abbrev</th>\n",
              "      <th>BARE</th>\n",
              "      <th>CROPL</th>\n",
              "      <th>FOREST</th>\n",
              "      <th>GRSL</th>\n",
              "      <th>SHRUBL</th>\n",
              "      <th>SPARSE_VEGETATION</th>\n",
              "      <th>URBAN</th>\n",
              "      <th>WATER</th>\n",
              "      <th>WETL</th>\n",
              "    </tr>\n",
              "  </thead>\n",
              "  <tbody>\n",
              "    <tr>\n",
              "      <th>0</th>\n",
              "      <td>AK</td>\n",
              "      <td>10.875705</td>\n",
              "      <td>0.045602</td>\n",
              "      <td>34.319849</td>\n",
              "      <td>10.628187</td>\n",
              "      <td>20.993753</td>\n",
              "      <td>15.991683</td>\n",
              "      <td>0.014371</td>\n",
              "      <td>5.340909</td>\n",
              "      <td>1.789941</td>\n",
              "    </tr>\n",
              "    <tr>\n",
              "      <th>1</th>\n",
              "      <td>AL</td>\n",
              "      <td>0.189766</td>\n",
              "      <td>10.177265</td>\n",
              "      <td>64.872148</td>\n",
              "      <td>19.904490</td>\n",
              "      <td>1.222573</td>\n",
              "      <td>0.034765</td>\n",
              "      <td>1.659720</td>\n",
              "      <td>1.762286</td>\n",
              "      <td>0.176988</td>\n",
              "    </tr>\n",
              "  </tbody>\n",
              "</table>\n",
              "</div>\n",
              "      <button class=\"colab-df-convert\" onclick=\"convertToInteractive('df-89788e82-ba72-435d-806b-bec0f3a3d070')\"\n",
              "              title=\"Convert this dataframe to an interactive table.\"\n",
              "              style=\"display:none;\">\n",
              "        \n",
              "  <svg xmlns=\"http://www.w3.org/2000/svg\" height=\"24px\"viewBox=\"0 0 24 24\"\n",
              "       width=\"24px\">\n",
              "    <path d=\"M0 0h24v24H0V0z\" fill=\"none\"/>\n",
              "    <path d=\"M18.56 5.44l.94 2.06.94-2.06 2.06-.94-2.06-.94-.94-2.06-.94 2.06-2.06.94zm-11 1L8.5 8.5l.94-2.06 2.06-.94-2.06-.94L8.5 2.5l-.94 2.06-2.06.94zm10 10l.94 2.06.94-2.06 2.06-.94-2.06-.94-.94-2.06-.94 2.06-2.06.94z\"/><path d=\"M17.41 7.96l-1.37-1.37c-.4-.4-.92-.59-1.43-.59-.52 0-1.04.2-1.43.59L10.3 9.45l-7.72 7.72c-.78.78-.78 2.05 0 2.83L4 21.41c.39.39.9.59 1.41.59.51 0 1.02-.2 1.41-.59l7.78-7.78 2.81-2.81c.8-.78.8-2.07 0-2.86zM5.41 20L4 18.59l7.72-7.72 1.47 1.35L5.41 20z\"/>\n",
              "  </svg>\n",
              "      </button>\n",
              "      \n",
              "  <style>\n",
              "    .colab-df-container {\n",
              "      display:flex;\n",
              "      flex-wrap:wrap;\n",
              "      gap: 12px;\n",
              "    }\n",
              "\n",
              "    .colab-df-convert {\n",
              "      background-color: #E8F0FE;\n",
              "      border: none;\n",
              "      border-radius: 50%;\n",
              "      cursor: pointer;\n",
              "      display: none;\n",
              "      fill: #1967D2;\n",
              "      height: 32px;\n",
              "      padding: 0 0 0 0;\n",
              "      width: 32px;\n",
              "    }\n",
              "\n",
              "    .colab-df-convert:hover {\n",
              "      background-color: #E2EBFA;\n",
              "      box-shadow: 0px 1px 2px rgba(60, 64, 67, 0.3), 0px 1px 3px 1px rgba(60, 64, 67, 0.15);\n",
              "      fill: #174EA6;\n",
              "    }\n",
              "\n",
              "    [theme=dark] .colab-df-convert {\n",
              "      background-color: #3B4455;\n",
              "      fill: #D2E3FC;\n",
              "    }\n",
              "\n",
              "    [theme=dark] .colab-df-convert:hover {\n",
              "      background-color: #434B5C;\n",
              "      box-shadow: 0px 1px 3px 1px rgba(0, 0, 0, 0.15);\n",
              "      filter: drop-shadow(0px 1px 2px rgba(0, 0, 0, 0.3));\n",
              "      fill: #FFFFFF;\n",
              "    }\n",
              "  </style>\n",
              "\n",
              "      <script>\n",
              "        const buttonEl =\n",
              "          document.querySelector('#df-89788e82-ba72-435d-806b-bec0f3a3d070 button.colab-df-convert');\n",
              "        buttonEl.style.display =\n",
              "          google.colab.kernel.accessAllowed ? 'block' : 'none';\n",
              "\n",
              "        async function convertToInteractive(key) {\n",
              "          const element = document.querySelector('#df-89788e82-ba72-435d-806b-bec0f3a3d070');\n",
              "          const dataTable =\n",
              "            await google.colab.kernel.invokeFunction('convertToInteractive',\n",
              "                                                     [key], {});\n",
              "          if (!dataTable) return;\n",
              "\n",
              "          const docLinkHtml = 'Like what you see? Visit the ' +\n",
              "            '<a target=\"_blank\" href=https://colab.research.google.com/notebooks/data_table.ipynb>data table notebook</a>'\n",
              "            + ' to learn more about interactive tables.';\n",
              "          element.innerHTML = '';\n",
              "          dataTable['output_type'] = 'display_data';\n",
              "          await google.colab.output.renderOutput(dataTable, element);\n",
              "          const docLink = document.createElement('div');\n",
              "          docLink.innerHTML = docLinkHtml;\n",
              "          element.appendChild(docLink);\n",
              "        }\n",
              "      </script>\n",
              "    </div>\n",
              "  </div>\n",
              "  "
            ],
            "text/plain": [
              "  state_abbrev       BARE      CROPL     FOREST       GRSL     SHRUBL  \\\n",
              "0           AK  10.875705   0.045602  34.319849  10.628187  20.993753   \n",
              "1           AL   0.189766  10.177265  64.872148  19.904490   1.222573   \n",
              "\n",
              "   SPARSE_VEGETATION     URBAN     WATER      WETL  \n",
              "0          15.991683  0.014371  5.340909  1.789941  \n",
              "1           0.034765  1.659720  1.762286  0.176988  "
            ]
          },
          "execution_count": 11,
          "metadata": {},
          "output_type": "execute_result"
        }
      ],
      "source": [
        "# flatten out landcover data\n",
        "# pivot table to create columns for each variable\n",
        "landcovery = (landcover_df.pivot_table(index = landcover_df.index, columns='variable',values = 'value', aggfunc=lambda x: x, fill_value=0)\n",
        "       .rename_axis(None, axis='columns')\n",
        "      \n",
        ")\n",
        "landcovery.reset_index(inplace=True)\n",
        "print(len(landcovery))\n",
        "landcovery.head(2)"
      ]
    },
    {
      "cell_type": "code",
      "execution_count": 12,
      "metadata": {
        "colab": {
          "base_uri": "https://localhost:8080/",
          "height": 206
        },
        "id": "A4Z0X0FtTInl",
        "outputId": "d7401d4c-98bb-40d7-91d6-7bdd12ceb12b"
      },
      "outputs": [
        {
          "data": {
            "text/html": [
              "\n",
              "  <div id=\"df-f34d6422-8267-49cf-996c-d6470a579435\">\n",
              "    <div class=\"colab-df-container\">\n",
              "      <div>\n",
              "<style scoped>\n",
              "    .dataframe tbody tr th:only-of-type {\n",
              "        vertical-align: middle;\n",
              "    }\n",
              "\n",
              "    .dataframe tbody tr th {\n",
              "        vertical-align: top;\n",
              "    }\n",
              "\n",
              "    .dataframe thead th {\n",
              "        text-align: right;\n",
              "    }\n",
              "</style>\n",
              "<table border=\"1\" class=\"dataframe\">\n",
              "  <thead>\n",
              "    <tr style=\"text-align: right;\">\n",
              "      <th></th>\n",
              "      <th>recclass</th>\n",
              "      <th>meteorite_class_subclass</th>\n",
              "      <th>meteorite_class</th>\n",
              "      <th>meteorite_type</th>\n",
              "    </tr>\n",
              "  </thead>\n",
              "  <tbody>\n",
              "    <tr>\n",
              "      <th>0</th>\n",
              "      <td>H5</td>\n",
              "      <td>Chrondrite - ordinary</td>\n",
              "      <td>Chrondrite</td>\n",
              "      <td>Chrondrite</td>\n",
              "    </tr>\n",
              "    <tr>\n",
              "      <th>1</th>\n",
              "      <td>L6</td>\n",
              "      <td>Chrondrite - ordinary</td>\n",
              "      <td>Chrondrite</td>\n",
              "      <td>Chrondrite</td>\n",
              "    </tr>\n",
              "    <tr>\n",
              "      <th>2</th>\n",
              "      <td>L5</td>\n",
              "      <td>Chrondrite - ordinary</td>\n",
              "      <td>Chrondrite</td>\n",
              "      <td>Chrondrite</td>\n",
              "    </tr>\n",
              "    <tr>\n",
              "      <th>3</th>\n",
              "      <td>Iron, ungrouped</td>\n",
              "      <td>Iron - other</td>\n",
              "      <td>Iron</td>\n",
              "      <td>Iron</td>\n",
              "    </tr>\n",
              "    <tr>\n",
              "      <th>4</th>\n",
              "      <td>Iron, IVA</td>\n",
              "      <td>Iron - magmatic</td>\n",
              "      <td>Iron</td>\n",
              "      <td>Iron</td>\n",
              "    </tr>\n",
              "  </tbody>\n",
              "</table>\n",
              "</div>\n",
              "      <button class=\"colab-df-convert\" onclick=\"convertToInteractive('df-f34d6422-8267-49cf-996c-d6470a579435')\"\n",
              "              title=\"Convert this dataframe to an interactive table.\"\n",
              "              style=\"display:none;\">\n",
              "        \n",
              "  <svg xmlns=\"http://www.w3.org/2000/svg\" height=\"24px\"viewBox=\"0 0 24 24\"\n",
              "       width=\"24px\">\n",
              "    <path d=\"M0 0h24v24H0V0z\" fill=\"none\"/>\n",
              "    <path d=\"M18.56 5.44l.94 2.06.94-2.06 2.06-.94-2.06-.94-.94-2.06-.94 2.06-2.06.94zm-11 1L8.5 8.5l.94-2.06 2.06-.94-2.06-.94L8.5 2.5l-.94 2.06-2.06.94zm10 10l.94 2.06.94-2.06 2.06-.94-2.06-.94-.94-2.06-.94 2.06-2.06.94z\"/><path d=\"M17.41 7.96l-1.37-1.37c-.4-.4-.92-.59-1.43-.59-.52 0-1.04.2-1.43.59L10.3 9.45l-7.72 7.72c-.78.78-.78 2.05 0 2.83L4 21.41c.39.39.9.59 1.41.59.51 0 1.02-.2 1.41-.59l7.78-7.78 2.81-2.81c.8-.78.8-2.07 0-2.86zM5.41 20L4 18.59l7.72-7.72 1.47 1.35L5.41 20z\"/>\n",
              "  </svg>\n",
              "      </button>\n",
              "      \n",
              "  <style>\n",
              "    .colab-df-container {\n",
              "      display:flex;\n",
              "      flex-wrap:wrap;\n",
              "      gap: 12px;\n",
              "    }\n",
              "\n",
              "    .colab-df-convert {\n",
              "      background-color: #E8F0FE;\n",
              "      border: none;\n",
              "      border-radius: 50%;\n",
              "      cursor: pointer;\n",
              "      display: none;\n",
              "      fill: #1967D2;\n",
              "      height: 32px;\n",
              "      padding: 0 0 0 0;\n",
              "      width: 32px;\n",
              "    }\n",
              "\n",
              "    .colab-df-convert:hover {\n",
              "      background-color: #E2EBFA;\n",
              "      box-shadow: 0px 1px 2px rgba(60, 64, 67, 0.3), 0px 1px 3px 1px rgba(60, 64, 67, 0.15);\n",
              "      fill: #174EA6;\n",
              "    }\n",
              "\n",
              "    [theme=dark] .colab-df-convert {\n",
              "      background-color: #3B4455;\n",
              "      fill: #D2E3FC;\n",
              "    }\n",
              "\n",
              "    [theme=dark] .colab-df-convert:hover {\n",
              "      background-color: #434B5C;\n",
              "      box-shadow: 0px 1px 3px 1px rgba(0, 0, 0, 0.15);\n",
              "      filter: drop-shadow(0px 1px 2px rgba(0, 0, 0, 0.3));\n",
              "      fill: #FFFFFF;\n",
              "    }\n",
              "  </style>\n",
              "\n",
              "      <script>\n",
              "        const buttonEl =\n",
              "          document.querySelector('#df-f34d6422-8267-49cf-996c-d6470a579435 button.colab-df-convert');\n",
              "        buttonEl.style.display =\n",
              "          google.colab.kernel.accessAllowed ? 'block' : 'none';\n",
              "\n",
              "        async function convertToInteractive(key) {\n",
              "          const element = document.querySelector('#df-f34d6422-8267-49cf-996c-d6470a579435');\n",
              "          const dataTable =\n",
              "            await google.colab.kernel.invokeFunction('convertToInteractive',\n",
              "                                                     [key], {});\n",
              "          if (!dataTable) return;\n",
              "\n",
              "          const docLinkHtml = 'Like what you see? Visit the ' +\n",
              "            '<a target=\"_blank\" href=https://colab.research.google.com/notebooks/data_table.ipynb>data table notebook</a>'\n",
              "            + ' to learn more about interactive tables.';\n",
              "          element.innerHTML = '';\n",
              "          dataTable['output_type'] = 'display_data';\n",
              "          await google.colab.output.renderOutput(dataTable, element);\n",
              "          const docLink = document.createElement('div');\n",
              "          docLink.innerHTML = docLinkHtml;\n",
              "          element.appendChild(docLink);\n",
              "        }\n",
              "      </script>\n",
              "    </div>\n",
              "  </div>\n",
              "  "
            ],
            "text/plain": [
              "          recclass meteorite_class_subclass meteorite_class meteorite_type\n",
              "0               H5    Chrondrite - ordinary      Chrondrite     Chrondrite\n",
              "1               L6    Chrondrite - ordinary      Chrondrite     Chrondrite\n",
              "2               L5    Chrondrite - ordinary      Chrondrite     Chrondrite\n",
              "3  Iron, ungrouped             Iron - other            Iron           Iron\n",
              "4        Iron, IVA          Iron - magmatic            Iron           Iron"
            ]
          },
          "execution_count": 12,
          "metadata": {},
          "output_type": "execute_result"
        }
      ],
      "source": [
        "# pull all from meteorite_type table\n",
        "meteorite_type_df = postgresql_to_dataframe(conn,\"select * from meteorite_type\",meteorite_type_cols)\n",
        "meteorite_type_df.head()"
      ]
    },
    {
      "cell_type": "code",
      "execution_count": 13,
      "metadata": {
        "colab": {
          "base_uri": "https://localhost:8080/",
          "height": 444
        },
        "id": "AX7uoXbYTInl",
        "outputId": "65418679-fd16-430a-aec8-b6cb30651723"
      },
      "outputs": [
        {
          "data": {
            "text/html": [
              "\n",
              "  <div id=\"df-ccf2f2dc-a852-4ac9-9c4d-ee87ed2f191b\">\n",
              "    <div class=\"colab-df-container\">\n",
              "      <div>\n",
              "<style scoped>\n",
              "    .dataframe tbody tr th:only-of-type {\n",
              "        vertical-align: middle;\n",
              "    }\n",
              "\n",
              "    .dataframe tbody tr th {\n",
              "        vertical-align: top;\n",
              "    }\n",
              "\n",
              "    .dataframe thead th {\n",
              "        text-align: right;\n",
              "    }\n",
              "</style>\n",
              "<table border=\"1\" class=\"dataframe\">\n",
              "  <thead>\n",
              "    <tr style=\"text-align: right;\">\n",
              "      <th></th>\n",
              "      <th>id</th>\n",
              "      <th>name</th>\n",
              "      <th>recclass</th>\n",
              "      <th>mass_grams</th>\n",
              "      <th>fall</th>\n",
              "      <th>year</th>\n",
              "      <th>reclat</th>\n",
              "      <th>reclong</th>\n",
              "      <th>geolocation</th>\n",
              "      <th>geometry</th>\n",
              "      <th>elevation</th>\n",
              "      <th>country</th>\n",
              "      <th>state_abbrev</th>\n",
              "    </tr>\n",
              "  </thead>\n",
              "  <tbody>\n",
              "    <tr>\n",
              "      <th>0</th>\n",
              "      <td>2276</td>\n",
              "      <td>Allegan</td>\n",
              "      <td>H5</td>\n",
              "      <td>32000.0</td>\n",
              "      <td>Fell</td>\n",
              "      <td>1899</td>\n",
              "      <td>42.53333</td>\n",
              "      <td>-85.88333</td>\n",
              "      <td>(42.53333, -85.88333)</td>\n",
              "      <td>POINT (-85.88333 42.53333)</td>\n",
              "      <td>225.0</td>\n",
              "      <td>United States</td>\n",
              "      <td>MI</td>\n",
              "    </tr>\n",
              "    <tr>\n",
              "      <th>1</th>\n",
              "      <td>5401</td>\n",
              "      <td>Coleman</td>\n",
              "      <td>L6</td>\n",
              "      <td>469.0</td>\n",
              "      <td>Fell</td>\n",
              "      <td>1994</td>\n",
              "      <td>43.76111</td>\n",
              "      <td>-84.50778</td>\n",
              "      <td>(43.76111, -84.50778)</td>\n",
              "      <td>POINT (-84.50778 43.76111)</td>\n",
              "      <td>218.0</td>\n",
              "      <td>United States</td>\n",
              "      <td>MI</td>\n",
              "    </tr>\n",
              "    <tr>\n",
              "      <th>2</th>\n",
              "      <td>22766</td>\n",
              "      <td>Rose City</td>\n",
              "      <td>H5</td>\n",
              "      <td>10600.0</td>\n",
              "      <td>Fell</td>\n",
              "      <td>1921</td>\n",
              "      <td>44.51667</td>\n",
              "      <td>-83.95000</td>\n",
              "      <td>(44.51667, -83.95)</td>\n",
              "      <td>POINT (-83.95 44.51667)</td>\n",
              "      <td>387.0</td>\n",
              "      <td>United States</td>\n",
              "      <td>MI</td>\n",
              "    </tr>\n",
              "    <tr>\n",
              "      <th>3</th>\n",
              "      <td>24337</td>\n",
              "      <td>Worden</td>\n",
              "      <td>L5</td>\n",
              "      <td>1551.0</td>\n",
              "      <td>Fell</td>\n",
              "      <td>1997</td>\n",
              "      <td>42.38467</td>\n",
              "      <td>-83.61150</td>\n",
              "      <td>(42.38467, -83.6115)</td>\n",
              "      <td>POINT (-83.6115 42.38467)</td>\n",
              "      <td>279.0</td>\n",
              "      <td>United States</td>\n",
              "      <td>MI</td>\n",
              "    </tr>\n",
              "    <tr>\n",
              "      <th>4</th>\n",
              "      <td>10955</td>\n",
              "      <td>Grand Rapids</td>\n",
              "      <td>Iron, ungrouped</td>\n",
              "      <td>51700.0</td>\n",
              "      <td>Found</td>\n",
              "      <td>1883</td>\n",
              "      <td>42.96667</td>\n",
              "      <td>-85.76667</td>\n",
              "      <td>(42.96667, -85.76667)</td>\n",
              "      <td>POINT (-85.76667 42.96667)</td>\n",
              "      <td>225.0</td>\n",
              "      <td>United States</td>\n",
              "      <td>MI</td>\n",
              "    </tr>\n",
              "  </tbody>\n",
              "</table>\n",
              "</div>\n",
              "      <button class=\"colab-df-convert\" onclick=\"convertToInteractive('df-ccf2f2dc-a852-4ac9-9c4d-ee87ed2f191b')\"\n",
              "              title=\"Convert this dataframe to an interactive table.\"\n",
              "              style=\"display:none;\">\n",
              "        \n",
              "  <svg xmlns=\"http://www.w3.org/2000/svg\" height=\"24px\"viewBox=\"0 0 24 24\"\n",
              "       width=\"24px\">\n",
              "    <path d=\"M0 0h24v24H0V0z\" fill=\"none\"/>\n",
              "    <path d=\"M18.56 5.44l.94 2.06.94-2.06 2.06-.94-2.06-.94-.94-2.06-.94 2.06-2.06.94zm-11 1L8.5 8.5l.94-2.06 2.06-.94-2.06-.94L8.5 2.5l-.94 2.06-2.06.94zm10 10l.94 2.06.94-2.06 2.06-.94-2.06-.94-.94-2.06-.94 2.06-2.06.94z\"/><path d=\"M17.41 7.96l-1.37-1.37c-.4-.4-.92-.59-1.43-.59-.52 0-1.04.2-1.43.59L10.3 9.45l-7.72 7.72c-.78.78-.78 2.05 0 2.83L4 21.41c.39.39.9.59 1.41.59.51 0 1.02-.2 1.41-.59l7.78-7.78 2.81-2.81c.8-.78.8-2.07 0-2.86zM5.41 20L4 18.59l7.72-7.72 1.47 1.35L5.41 20z\"/>\n",
              "  </svg>\n",
              "      </button>\n",
              "      \n",
              "  <style>\n",
              "    .colab-df-container {\n",
              "      display:flex;\n",
              "      flex-wrap:wrap;\n",
              "      gap: 12px;\n",
              "    }\n",
              "\n",
              "    .colab-df-convert {\n",
              "      background-color: #E8F0FE;\n",
              "      border: none;\n",
              "      border-radius: 50%;\n",
              "      cursor: pointer;\n",
              "      display: none;\n",
              "      fill: #1967D2;\n",
              "      height: 32px;\n",
              "      padding: 0 0 0 0;\n",
              "      width: 32px;\n",
              "    }\n",
              "\n",
              "    .colab-df-convert:hover {\n",
              "      background-color: #E2EBFA;\n",
              "      box-shadow: 0px 1px 2px rgba(60, 64, 67, 0.3), 0px 1px 3px 1px rgba(60, 64, 67, 0.15);\n",
              "      fill: #174EA6;\n",
              "    }\n",
              "\n",
              "    [theme=dark] .colab-df-convert {\n",
              "      background-color: #3B4455;\n",
              "      fill: #D2E3FC;\n",
              "    }\n",
              "\n",
              "    [theme=dark] .colab-df-convert:hover {\n",
              "      background-color: #434B5C;\n",
              "      box-shadow: 0px 1px 3px 1px rgba(0, 0, 0, 0.15);\n",
              "      filter: drop-shadow(0px 1px 2px rgba(0, 0, 0, 0.3));\n",
              "      fill: #FFFFFF;\n",
              "    }\n",
              "  </style>\n",
              "\n",
              "      <script>\n",
              "        const buttonEl =\n",
              "          document.querySelector('#df-ccf2f2dc-a852-4ac9-9c4d-ee87ed2f191b button.colab-df-convert');\n",
              "        buttonEl.style.display =\n",
              "          google.colab.kernel.accessAllowed ? 'block' : 'none';\n",
              "\n",
              "        async function convertToInteractive(key) {\n",
              "          const element = document.querySelector('#df-ccf2f2dc-a852-4ac9-9c4d-ee87ed2f191b');\n",
              "          const dataTable =\n",
              "            await google.colab.kernel.invokeFunction('convertToInteractive',\n",
              "                                                     [key], {});\n",
              "          if (!dataTable) return;\n",
              "\n",
              "          const docLinkHtml = 'Like what you see? Visit the ' +\n",
              "            '<a target=\"_blank\" href=https://colab.research.google.com/notebooks/data_table.ipynb>data table notebook</a>'\n",
              "            + ' to learn more about interactive tables.';\n",
              "          element.innerHTML = '';\n",
              "          dataTable['output_type'] = 'display_data';\n",
              "          await google.colab.output.renderOutput(dataTable, element);\n",
              "          const docLink = document.createElement('div');\n",
              "          docLink.innerHTML = docLinkHtml;\n",
              "          element.appendChild(docLink);\n",
              "        }\n",
              "      </script>\n",
              "    </div>\n",
              "  </div>\n",
              "  "
            ],
            "text/plain": [
              "      id          name         recclass  mass_grams   fall  year    reclat  \\\n",
              "0   2276       Allegan               H5     32000.0   Fell  1899  42.53333   \n",
              "1   5401       Coleman               L6       469.0   Fell  1994  43.76111   \n",
              "2  22766     Rose City               H5     10600.0   Fell  1921  44.51667   \n",
              "3  24337        Worden               L5      1551.0   Fell  1997  42.38467   \n",
              "4  10955  Grand Rapids  Iron, ungrouped     51700.0  Found  1883  42.96667   \n",
              "\n",
              "    reclong            geolocation                    geometry  elevation  \\\n",
              "0 -85.88333  (42.53333, -85.88333)  POINT (-85.88333 42.53333)      225.0   \n",
              "1 -84.50778  (43.76111, -84.50778)  POINT (-84.50778 43.76111)      218.0   \n",
              "2 -83.95000     (44.51667, -83.95)     POINT (-83.95 44.51667)      387.0   \n",
              "3 -83.61150   (42.38467, -83.6115)   POINT (-83.6115 42.38467)      279.0   \n",
              "4 -85.76667  (42.96667, -85.76667)  POINT (-85.76667 42.96667)      225.0   \n",
              "\n",
              "         country state_abbrev  \n",
              "0  United States           MI  \n",
              "1  United States           MI  \n",
              "2  United States           MI  \n",
              "3  United States           MI  \n",
              "4  United States           MI  "
            ]
          },
          "execution_count": 13,
          "metadata": {},
          "output_type": "execute_result"
        }
      ],
      "source": [
        "# pull all from meteorite_main table\n",
        "meteorite_main_df = postgresql_to_dataframe(conn,\"select * from meteorite_main\",meteorite_main_cols)\n",
        "meteorite_main_df.head()"
      ]
    },
    {
      "cell_type": "code",
      "execution_count": 14,
      "metadata": {
        "id": "s55QUrTnTInl"
      },
      "outputs": [],
      "source": [
        "#  create list for df with joined data (all except for landcover - needed to be flattened in nb before join)\n",
        "ml_interim5_cols =  ['mass_grams', 'fall', 'year', 'reclat', 'reclong', 'elevation','state_abbrev', 'FIPS', 'area_sqkm', 'meteorite_class']"
      ]
    },
    {
      "cell_type": "code",
      "execution_count": 15,
      "metadata": {
        "colab": {
          "base_uri": "https://localhost:8080/",
          "height": 206
        },
        "id": "IE2CWAloTInl",
        "outputId": "d513ac5c-7923-4616-f21a-e14bc7145bdf"
      },
      "outputs": [
        {
          "data": {
            "text/html": [
              "\n",
              "  <div id=\"df-d17605f1-9082-428f-9bc5-45093ca0036b\">\n",
              "    <div class=\"colab-df-container\">\n",
              "      <div>\n",
              "<style scoped>\n",
              "    .dataframe tbody tr th:only-of-type {\n",
              "        vertical-align: middle;\n",
              "    }\n",
              "\n",
              "    .dataframe tbody tr th {\n",
              "        vertical-align: top;\n",
              "    }\n",
              "\n",
              "    .dataframe thead th {\n",
              "        text-align: right;\n",
              "    }\n",
              "</style>\n",
              "<table border=\"1\" class=\"dataframe\">\n",
              "  <thead>\n",
              "    <tr style=\"text-align: right;\">\n",
              "      <th></th>\n",
              "      <th>mass_grams</th>\n",
              "      <th>fall</th>\n",
              "      <th>year</th>\n",
              "      <th>reclat</th>\n",
              "      <th>reclong</th>\n",
              "      <th>elevation</th>\n",
              "      <th>state_abbrev</th>\n",
              "      <th>FIPS</th>\n",
              "      <th>area_sqkm</th>\n",
              "      <th>meteorite_class</th>\n",
              "    </tr>\n",
              "  </thead>\n",
              "  <tbody>\n",
              "    <tr>\n",
              "      <th>0</th>\n",
              "      <td>32000.0</td>\n",
              "      <td>Fell</td>\n",
              "      <td>1899</td>\n",
              "      <td>42.53333</td>\n",
              "      <td>-85.88333</td>\n",
              "      <td>225.0</td>\n",
              "      <td>MI</td>\n",
              "      <td>26</td>\n",
              "      <td>250487</td>\n",
              "      <td>Chrondrite</td>\n",
              "    </tr>\n",
              "    <tr>\n",
              "      <th>1</th>\n",
              "      <td>469.0</td>\n",
              "      <td>Fell</td>\n",
              "      <td>1994</td>\n",
              "      <td>43.76111</td>\n",
              "      <td>-84.50778</td>\n",
              "      <td>218.0</td>\n",
              "      <td>MI</td>\n",
              "      <td>26</td>\n",
              "      <td>250487</td>\n",
              "      <td>Chrondrite</td>\n",
              "    </tr>\n",
              "    <tr>\n",
              "      <th>2</th>\n",
              "      <td>10600.0</td>\n",
              "      <td>Fell</td>\n",
              "      <td>1921</td>\n",
              "      <td>44.51667</td>\n",
              "      <td>-83.95000</td>\n",
              "      <td>387.0</td>\n",
              "      <td>MI</td>\n",
              "      <td>26</td>\n",
              "      <td>250487</td>\n",
              "      <td>Chrondrite</td>\n",
              "    </tr>\n",
              "    <tr>\n",
              "      <th>3</th>\n",
              "      <td>1551.0</td>\n",
              "      <td>Fell</td>\n",
              "      <td>1997</td>\n",
              "      <td>42.38467</td>\n",
              "      <td>-83.61150</td>\n",
              "      <td>279.0</td>\n",
              "      <td>MI</td>\n",
              "      <td>26</td>\n",
              "      <td>250487</td>\n",
              "      <td>Chrondrite</td>\n",
              "    </tr>\n",
              "    <tr>\n",
              "      <th>4</th>\n",
              "      <td>51700.0</td>\n",
              "      <td>Found</td>\n",
              "      <td>1883</td>\n",
              "      <td>42.96667</td>\n",
              "      <td>-85.76667</td>\n",
              "      <td>225.0</td>\n",
              "      <td>MI</td>\n",
              "      <td>26</td>\n",
              "      <td>250487</td>\n",
              "      <td>Iron</td>\n",
              "    </tr>\n",
              "  </tbody>\n",
              "</table>\n",
              "</div>\n",
              "      <button class=\"colab-df-convert\" onclick=\"convertToInteractive('df-d17605f1-9082-428f-9bc5-45093ca0036b')\"\n",
              "              title=\"Convert this dataframe to an interactive table.\"\n",
              "              style=\"display:none;\">\n",
              "        \n",
              "  <svg xmlns=\"http://www.w3.org/2000/svg\" height=\"24px\"viewBox=\"0 0 24 24\"\n",
              "       width=\"24px\">\n",
              "    <path d=\"M0 0h24v24H0V0z\" fill=\"none\"/>\n",
              "    <path d=\"M18.56 5.44l.94 2.06.94-2.06 2.06-.94-2.06-.94-.94-2.06-.94 2.06-2.06.94zm-11 1L8.5 8.5l.94-2.06 2.06-.94-2.06-.94L8.5 2.5l-.94 2.06-2.06.94zm10 10l.94 2.06.94-2.06 2.06-.94-2.06-.94-.94-2.06-.94 2.06-2.06.94z\"/><path d=\"M17.41 7.96l-1.37-1.37c-.4-.4-.92-.59-1.43-.59-.52 0-1.04.2-1.43.59L10.3 9.45l-7.72 7.72c-.78.78-.78 2.05 0 2.83L4 21.41c.39.39.9.59 1.41.59.51 0 1.02-.2 1.41-.59l7.78-7.78 2.81-2.81c.8-.78.8-2.07 0-2.86zM5.41 20L4 18.59l7.72-7.72 1.47 1.35L5.41 20z\"/>\n",
              "  </svg>\n",
              "      </button>\n",
              "      \n",
              "  <style>\n",
              "    .colab-df-container {\n",
              "      display:flex;\n",
              "      flex-wrap:wrap;\n",
              "      gap: 12px;\n",
              "    }\n",
              "\n",
              "    .colab-df-convert {\n",
              "      background-color: #E8F0FE;\n",
              "      border: none;\n",
              "      border-radius: 50%;\n",
              "      cursor: pointer;\n",
              "      display: none;\n",
              "      fill: #1967D2;\n",
              "      height: 32px;\n",
              "      padding: 0 0 0 0;\n",
              "      width: 32px;\n",
              "    }\n",
              "\n",
              "    .colab-df-convert:hover {\n",
              "      background-color: #E2EBFA;\n",
              "      box-shadow: 0px 1px 2px rgba(60, 64, 67, 0.3), 0px 1px 3px 1px rgba(60, 64, 67, 0.15);\n",
              "      fill: #174EA6;\n",
              "    }\n",
              "\n",
              "    [theme=dark] .colab-df-convert {\n",
              "      background-color: #3B4455;\n",
              "      fill: #D2E3FC;\n",
              "    }\n",
              "\n",
              "    [theme=dark] .colab-df-convert:hover {\n",
              "      background-color: #434B5C;\n",
              "      box-shadow: 0px 1px 3px 1px rgba(0, 0, 0, 0.15);\n",
              "      filter: drop-shadow(0px 1px 2px rgba(0, 0, 0, 0.3));\n",
              "      fill: #FFFFFF;\n",
              "    }\n",
              "  </style>\n",
              "\n",
              "      <script>\n",
              "        const buttonEl =\n",
              "          document.querySelector('#df-d17605f1-9082-428f-9bc5-45093ca0036b button.colab-df-convert');\n",
              "        buttonEl.style.display =\n",
              "          google.colab.kernel.accessAllowed ? 'block' : 'none';\n",
              "\n",
              "        async function convertToInteractive(key) {\n",
              "          const element = document.querySelector('#df-d17605f1-9082-428f-9bc5-45093ca0036b');\n",
              "          const dataTable =\n",
              "            await google.colab.kernel.invokeFunction('convertToInteractive',\n",
              "                                                     [key], {});\n",
              "          if (!dataTable) return;\n",
              "\n",
              "          const docLinkHtml = 'Like what you see? Visit the ' +\n",
              "            '<a target=\"_blank\" href=https://colab.research.google.com/notebooks/data_table.ipynb>data table notebook</a>'\n",
              "            + ' to learn more about interactive tables.';\n",
              "          element.innerHTML = '';\n",
              "          dataTable['output_type'] = 'display_data';\n",
              "          await google.colab.output.renderOutput(dataTable, element);\n",
              "          const docLink = document.createElement('div');\n",
              "          docLink.innerHTML = docLinkHtml;\n",
              "          element.appendChild(docLink);\n",
              "        }\n",
              "      </script>\n",
              "    </div>\n",
              "  </div>\n",
              "  "
            ],
            "text/plain": [
              "   mass_grams   fall  year    reclat   reclong  elevation state_abbrev FIPS  \\\n",
              "0     32000.0   Fell  1899  42.53333 -85.88333      225.0           MI   26   \n",
              "1       469.0   Fell  1994  43.76111 -84.50778      218.0           MI   26   \n",
              "2     10600.0   Fell  1921  44.51667 -83.95000      387.0           MI   26   \n",
              "3      1551.0   Fell  1997  42.38467 -83.61150      279.0           MI   26   \n",
              "4     51700.0  Found  1883  42.96667 -85.76667      225.0           MI   26   \n",
              "\n",
              "   area_sqkm meteorite_class  \n",
              "0     250487      Chrondrite  \n",
              "1     250487      Chrondrite  \n",
              "2     250487      Chrondrite  \n",
              "3     250487      Chrondrite  \n",
              "4     250487            Iron  "
            ]
          },
          "execution_count": 15,
          "metadata": {},
          "output_type": "execute_result"
        }
      ],
      "source": [
        "# pull in all data except for landcover using sql\n",
        "ml_interim5_df = postgresql_to_dataframe(conn,\"select mm.mass_grams, mm.fall, mm.year, mm.reclat, mm.reclong, mm.elevation, s.state_abbrev, s.FIPS, s.area_sqkm, mt.meteorite_class from meteorite_main mm, meteorite_type mt, state s where mm.state_abbrev = s.state_abbrev and mm.recclass = mt.recclass;\",ml_interim5_cols) \n",
        "ml_interim5_df.head()"
      ]
    },
    {
      "cell_type": "code",
      "execution_count": 16,
      "metadata": {
        "id": "MowOjqsgTInl"
      },
      "outputs": [],
      "source": [
        "# close connection\n",
        "conn.close()"
      ]
    },
    {
      "cell_type": "code",
      "execution_count": 17,
      "metadata": {
        "colab": {
          "base_uri": "https://localhost:8080/",
          "height": 193
        },
        "id": "TJdvnfd3TInl",
        "outputId": "eb743b24-72ec-48cb-886d-bad93045633b"
      },
      "outputs": [
        {
          "name": "stdout",
          "output_type": "stream",
          "text": [
            "1648\n"
          ]
        },
        {
          "data": {
            "text/html": [
              "\n",
              "  <div id=\"df-877b250e-b5a4-4ca4-ac18-c632a9f1c46e\">\n",
              "    <div class=\"colab-df-container\">\n",
              "      <div>\n",
              "<style scoped>\n",
              "    .dataframe tbody tr th:only-of-type {\n",
              "        vertical-align: middle;\n",
              "    }\n",
              "\n",
              "    .dataframe tbody tr th {\n",
              "        vertical-align: top;\n",
              "    }\n",
              "\n",
              "    .dataframe thead th {\n",
              "        text-align: right;\n",
              "    }\n",
              "</style>\n",
              "<table border=\"1\" class=\"dataframe\">\n",
              "  <thead>\n",
              "    <tr style=\"text-align: right;\">\n",
              "      <th></th>\n",
              "      <th>mass_grams</th>\n",
              "      <th>fall</th>\n",
              "      <th>year</th>\n",
              "      <th>reclat</th>\n",
              "      <th>reclong</th>\n",
              "      <th>elevation</th>\n",
              "      <th>FIPS</th>\n",
              "      <th>area_sqkm</th>\n",
              "      <th>meteorite_class</th>\n",
              "      <th>BARE</th>\n",
              "      <th>CROPL</th>\n",
              "      <th>FOREST</th>\n",
              "      <th>GRSL</th>\n",
              "      <th>SHRUBL</th>\n",
              "      <th>SPARSE_VEGETATION</th>\n",
              "      <th>URBAN</th>\n",
              "      <th>WATER</th>\n",
              "      <th>WETL</th>\n",
              "    </tr>\n",
              "  </thead>\n",
              "  <tbody>\n",
              "    <tr>\n",
              "      <th>0</th>\n",
              "      <td>32000.0</td>\n",
              "      <td>Fell</td>\n",
              "      <td>1899</td>\n",
              "      <td>42.53333</td>\n",
              "      <td>-85.88333</td>\n",
              "      <td>225.0</td>\n",
              "      <td>26</td>\n",
              "      <td>250487</td>\n",
              "      <td>Chrondrite</td>\n",
              "      <td>0.241572</td>\n",
              "      <td>35.820019</td>\n",
              "      <td>52.486729</td>\n",
              "      <td>4.448891</td>\n",
              "      <td>0.668927</td>\n",
              "      <td>0.026182</td>\n",
              "      <td>3.350872</td>\n",
              "      <td>2.644462</td>\n",
              "      <td>0.312346</td>\n",
              "    </tr>\n",
              "    <tr>\n",
              "      <th>1</th>\n",
              "      <td>469.0</td>\n",
              "      <td>Fell</td>\n",
              "      <td>1994</td>\n",
              "      <td>43.76111</td>\n",
              "      <td>-84.50778</td>\n",
              "      <td>218.0</td>\n",
              "      <td>26</td>\n",
              "      <td>250487</td>\n",
              "      <td>Chrondrite</td>\n",
              "      <td>0.241572</td>\n",
              "      <td>35.820019</td>\n",
              "      <td>52.486729</td>\n",
              "      <td>4.448891</td>\n",
              "      <td>0.668927</td>\n",
              "      <td>0.026182</td>\n",
              "      <td>3.350872</td>\n",
              "      <td>2.644462</td>\n",
              "      <td>0.312346</td>\n",
              "    </tr>\n",
              "  </tbody>\n",
              "</table>\n",
              "</div>\n",
              "      <button class=\"colab-df-convert\" onclick=\"convertToInteractive('df-877b250e-b5a4-4ca4-ac18-c632a9f1c46e')\"\n",
              "              title=\"Convert this dataframe to an interactive table.\"\n",
              "              style=\"display:none;\">\n",
              "        \n",
              "  <svg xmlns=\"http://www.w3.org/2000/svg\" height=\"24px\"viewBox=\"0 0 24 24\"\n",
              "       width=\"24px\">\n",
              "    <path d=\"M0 0h24v24H0V0z\" fill=\"none\"/>\n",
              "    <path d=\"M18.56 5.44l.94 2.06.94-2.06 2.06-.94-2.06-.94-.94-2.06-.94 2.06-2.06.94zm-11 1L8.5 8.5l.94-2.06 2.06-.94-2.06-.94L8.5 2.5l-.94 2.06-2.06.94zm10 10l.94 2.06.94-2.06 2.06-.94-2.06-.94-.94-2.06-.94 2.06-2.06.94z\"/><path d=\"M17.41 7.96l-1.37-1.37c-.4-.4-.92-.59-1.43-.59-.52 0-1.04.2-1.43.59L10.3 9.45l-7.72 7.72c-.78.78-.78 2.05 0 2.83L4 21.41c.39.39.9.59 1.41.59.51 0 1.02-.2 1.41-.59l7.78-7.78 2.81-2.81c.8-.78.8-2.07 0-2.86zM5.41 20L4 18.59l7.72-7.72 1.47 1.35L5.41 20z\"/>\n",
              "  </svg>\n",
              "      </button>\n",
              "      \n",
              "  <style>\n",
              "    .colab-df-container {\n",
              "      display:flex;\n",
              "      flex-wrap:wrap;\n",
              "      gap: 12px;\n",
              "    }\n",
              "\n",
              "    .colab-df-convert {\n",
              "      background-color: #E8F0FE;\n",
              "      border: none;\n",
              "      border-radius: 50%;\n",
              "      cursor: pointer;\n",
              "      display: none;\n",
              "      fill: #1967D2;\n",
              "      height: 32px;\n",
              "      padding: 0 0 0 0;\n",
              "      width: 32px;\n",
              "    }\n",
              "\n",
              "    .colab-df-convert:hover {\n",
              "      background-color: #E2EBFA;\n",
              "      box-shadow: 0px 1px 2px rgba(60, 64, 67, 0.3), 0px 1px 3px 1px rgba(60, 64, 67, 0.15);\n",
              "      fill: #174EA6;\n",
              "    }\n",
              "\n",
              "    [theme=dark] .colab-df-convert {\n",
              "      background-color: #3B4455;\n",
              "      fill: #D2E3FC;\n",
              "    }\n",
              "\n",
              "    [theme=dark] .colab-df-convert:hover {\n",
              "      background-color: #434B5C;\n",
              "      box-shadow: 0px 1px 3px 1px rgba(0, 0, 0, 0.15);\n",
              "      filter: drop-shadow(0px 1px 2px rgba(0, 0, 0, 0.3));\n",
              "      fill: #FFFFFF;\n",
              "    }\n",
              "  </style>\n",
              "\n",
              "      <script>\n",
              "        const buttonEl =\n",
              "          document.querySelector('#df-877b250e-b5a4-4ca4-ac18-c632a9f1c46e button.colab-df-convert');\n",
              "        buttonEl.style.display =\n",
              "          google.colab.kernel.accessAllowed ? 'block' : 'none';\n",
              "\n",
              "        async function convertToInteractive(key) {\n",
              "          const element = document.querySelector('#df-877b250e-b5a4-4ca4-ac18-c632a9f1c46e');\n",
              "          const dataTable =\n",
              "            await google.colab.kernel.invokeFunction('convertToInteractive',\n",
              "                                                     [key], {});\n",
              "          if (!dataTable) return;\n",
              "\n",
              "          const docLinkHtml = 'Like what you see? Visit the ' +\n",
              "            '<a target=\"_blank\" href=https://colab.research.google.com/notebooks/data_table.ipynb>data table notebook</a>'\n",
              "            + ' to learn more about interactive tables.';\n",
              "          element.innerHTML = '';\n",
              "          dataTable['output_type'] = 'display_data';\n",
              "          await google.colab.output.renderOutput(dataTable, element);\n",
              "          const docLink = document.createElement('div');\n",
              "          docLink.innerHTML = docLinkHtml;\n",
              "          element.appendChild(docLink);\n",
              "        }\n",
              "      </script>\n",
              "    </div>\n",
              "  </div>\n",
              "  "
            ],
            "text/plain": [
              "   mass_grams  fall  year    reclat   reclong  elevation FIPS  area_sqkm  \\\n",
              "0     32000.0  Fell  1899  42.53333 -85.88333      225.0   26     250487   \n",
              "1       469.0  Fell  1994  43.76111 -84.50778      218.0   26     250487   \n",
              "\n",
              "  meteorite_class      BARE      CROPL     FOREST      GRSL    SHRUBL  \\\n",
              "0      Chrondrite  0.241572  35.820019  52.486729  4.448891  0.668927   \n",
              "1      Chrondrite  0.241572  35.820019  52.486729  4.448891  0.668927   \n",
              "\n",
              "   SPARSE_VEGETATION     URBAN     WATER      WETL  \n",
              "0           0.026182  3.350872  2.644462  0.312346  \n",
              "1           0.026182  3.350872  2.644462  0.312346  "
            ]
          },
          "execution_count": 17,
          "metadata": {},
          "output_type": "execute_result"
        }
      ],
      "source": [
        "# merge tables\n",
        "ml_interim4_df = pd.merge(ml_interim5_df,landcovery, on = 'state_abbrev')\n",
        "ml_interim4_df.drop(['state_abbrev'], axis = 1, inplace=True)\n",
        "print(len(ml_interim4_df))\n",
        "ml_interim4_df.head(2)"
      ]
    },
    {
      "cell_type": "code",
      "execution_count": 18,
      "metadata": {
        "colab": {
          "base_uri": "https://localhost:8080/",
          "height": 211
        },
        "id": "vD9BJKHXTInl",
        "outputId": "839c1f6e-dd8d-496d-face-d6e32e2366a3"
      },
      "outputs": [
        {
          "name": "stdout",
          "output_type": "stream",
          "text": [
            "['Fell' 'Found']\n",
            "1648\n"
          ]
        },
        {
          "data": {
            "text/html": [
              "\n",
              "  <div id=\"df-fd72cbca-51b5-4420-8412-a37ee0e7c21d\">\n",
              "    <div class=\"colab-df-container\">\n",
              "      <div>\n",
              "<style scoped>\n",
              "    .dataframe tbody tr th:only-of-type {\n",
              "        vertical-align: middle;\n",
              "    }\n",
              "\n",
              "    .dataframe tbody tr th {\n",
              "        vertical-align: top;\n",
              "    }\n",
              "\n",
              "    .dataframe thead th {\n",
              "        text-align: right;\n",
              "    }\n",
              "</style>\n",
              "<table border=\"1\" class=\"dataframe\">\n",
              "  <thead>\n",
              "    <tr style=\"text-align: right;\">\n",
              "      <th></th>\n",
              "      <th>mass_grams</th>\n",
              "      <th>fall</th>\n",
              "      <th>year</th>\n",
              "      <th>reclat</th>\n",
              "      <th>reclong</th>\n",
              "      <th>elevation</th>\n",
              "      <th>FIPS</th>\n",
              "      <th>area_sqkm</th>\n",
              "      <th>meteorite_class</th>\n",
              "      <th>BARE</th>\n",
              "      <th>CROPL</th>\n",
              "      <th>FOREST</th>\n",
              "      <th>GRSL</th>\n",
              "      <th>SHRUBL</th>\n",
              "      <th>SPARSE_VEGETATION</th>\n",
              "      <th>URBAN</th>\n",
              "      <th>WATER</th>\n",
              "      <th>WETL</th>\n",
              "    </tr>\n",
              "  </thead>\n",
              "  <tbody>\n",
              "    <tr>\n",
              "      <th>0</th>\n",
              "      <td>32000.0</td>\n",
              "      <td>0</td>\n",
              "      <td>1899</td>\n",
              "      <td>42.53333</td>\n",
              "      <td>-85.88333</td>\n",
              "      <td>225.0</td>\n",
              "      <td>26</td>\n",
              "      <td>250487</td>\n",
              "      <td>Chrondrite</td>\n",
              "      <td>0.241572</td>\n",
              "      <td>35.820019</td>\n",
              "      <td>52.486729</td>\n",
              "      <td>4.448891</td>\n",
              "      <td>0.668927</td>\n",
              "      <td>0.026182</td>\n",
              "      <td>3.350872</td>\n",
              "      <td>2.644462</td>\n",
              "      <td>0.312346</td>\n",
              "    </tr>\n",
              "    <tr>\n",
              "      <th>1</th>\n",
              "      <td>469.0</td>\n",
              "      <td>0</td>\n",
              "      <td>1994</td>\n",
              "      <td>43.76111</td>\n",
              "      <td>-84.50778</td>\n",
              "      <td>218.0</td>\n",
              "      <td>26</td>\n",
              "      <td>250487</td>\n",
              "      <td>Chrondrite</td>\n",
              "      <td>0.241572</td>\n",
              "      <td>35.820019</td>\n",
              "      <td>52.486729</td>\n",
              "      <td>4.448891</td>\n",
              "      <td>0.668927</td>\n",
              "      <td>0.026182</td>\n",
              "      <td>3.350872</td>\n",
              "      <td>2.644462</td>\n",
              "      <td>0.312346</td>\n",
              "    </tr>\n",
              "  </tbody>\n",
              "</table>\n",
              "</div>\n",
              "      <button class=\"colab-df-convert\" onclick=\"convertToInteractive('df-fd72cbca-51b5-4420-8412-a37ee0e7c21d')\"\n",
              "              title=\"Convert this dataframe to an interactive table.\"\n",
              "              style=\"display:none;\">\n",
              "        \n",
              "  <svg xmlns=\"http://www.w3.org/2000/svg\" height=\"24px\"viewBox=\"0 0 24 24\"\n",
              "       width=\"24px\">\n",
              "    <path d=\"M0 0h24v24H0V0z\" fill=\"none\"/>\n",
              "    <path d=\"M18.56 5.44l.94 2.06.94-2.06 2.06-.94-2.06-.94-.94-2.06-.94 2.06-2.06.94zm-11 1L8.5 8.5l.94-2.06 2.06-.94-2.06-.94L8.5 2.5l-.94 2.06-2.06.94zm10 10l.94 2.06.94-2.06 2.06-.94-2.06-.94-.94-2.06-.94 2.06-2.06.94z\"/><path d=\"M17.41 7.96l-1.37-1.37c-.4-.4-.92-.59-1.43-.59-.52 0-1.04.2-1.43.59L10.3 9.45l-7.72 7.72c-.78.78-.78 2.05 0 2.83L4 21.41c.39.39.9.59 1.41.59.51 0 1.02-.2 1.41-.59l7.78-7.78 2.81-2.81c.8-.78.8-2.07 0-2.86zM5.41 20L4 18.59l7.72-7.72 1.47 1.35L5.41 20z\"/>\n",
              "  </svg>\n",
              "      </button>\n",
              "      \n",
              "  <style>\n",
              "    .colab-df-container {\n",
              "      display:flex;\n",
              "      flex-wrap:wrap;\n",
              "      gap: 12px;\n",
              "    }\n",
              "\n",
              "    .colab-df-convert {\n",
              "      background-color: #E8F0FE;\n",
              "      border: none;\n",
              "      border-radius: 50%;\n",
              "      cursor: pointer;\n",
              "      display: none;\n",
              "      fill: #1967D2;\n",
              "      height: 32px;\n",
              "      padding: 0 0 0 0;\n",
              "      width: 32px;\n",
              "    }\n",
              "\n",
              "    .colab-df-convert:hover {\n",
              "      background-color: #E2EBFA;\n",
              "      box-shadow: 0px 1px 2px rgba(60, 64, 67, 0.3), 0px 1px 3px 1px rgba(60, 64, 67, 0.15);\n",
              "      fill: #174EA6;\n",
              "    }\n",
              "\n",
              "    [theme=dark] .colab-df-convert {\n",
              "      background-color: #3B4455;\n",
              "      fill: #D2E3FC;\n",
              "    }\n",
              "\n",
              "    [theme=dark] .colab-df-convert:hover {\n",
              "      background-color: #434B5C;\n",
              "      box-shadow: 0px 1px 3px 1px rgba(0, 0, 0, 0.15);\n",
              "      filter: drop-shadow(0px 1px 2px rgba(0, 0, 0, 0.3));\n",
              "      fill: #FFFFFF;\n",
              "    }\n",
              "  </style>\n",
              "\n",
              "      <script>\n",
              "        const buttonEl =\n",
              "          document.querySelector('#df-fd72cbca-51b5-4420-8412-a37ee0e7c21d button.colab-df-convert');\n",
              "        buttonEl.style.display =\n",
              "          google.colab.kernel.accessAllowed ? 'block' : 'none';\n",
              "\n",
              "        async function convertToInteractive(key) {\n",
              "          const element = document.querySelector('#df-fd72cbca-51b5-4420-8412-a37ee0e7c21d');\n",
              "          const dataTable =\n",
              "            await google.colab.kernel.invokeFunction('convertToInteractive',\n",
              "                                                     [key], {});\n",
              "          if (!dataTable) return;\n",
              "\n",
              "          const docLinkHtml = 'Like what you see? Visit the ' +\n",
              "            '<a target=\"_blank\" href=https://colab.research.google.com/notebooks/data_table.ipynb>data table notebook</a>'\n",
              "            + ' to learn more about interactive tables.';\n",
              "          element.innerHTML = '';\n",
              "          dataTable['output_type'] = 'display_data';\n",
              "          await google.colab.output.renderOutput(dataTable, element);\n",
              "          const docLink = document.createElement('div');\n",
              "          docLink.innerHTML = docLinkHtml;\n",
              "          element.appendChild(docLink);\n",
              "        }\n",
              "      </script>\n",
              "    </div>\n",
              "  </div>\n",
              "  "
            ],
            "text/plain": [
              "   mass_grams  fall  year    reclat   reclong  elevation FIPS  area_sqkm  \\\n",
              "0     32000.0     0  1899  42.53333 -85.88333      225.0   26     250487   \n",
              "1       469.0     0  1994  43.76111 -84.50778      218.0   26     250487   \n",
              "\n",
              "  meteorite_class      BARE      CROPL     FOREST      GRSL    SHRUBL  \\\n",
              "0      Chrondrite  0.241572  35.820019  52.486729  4.448891  0.668927   \n",
              "1      Chrondrite  0.241572  35.820019  52.486729  4.448891  0.668927   \n",
              "\n",
              "   SPARSE_VEGETATION     URBAN     WATER      WETL  \n",
              "0           0.026182  3.350872  2.644462  0.312346  \n",
              "1           0.026182  3.350872  2.644462  0.312346  "
            ]
          },
          "execution_count": 18,
          "metadata": {},
          "output_type": "execute_result"
        }
      ],
      "source": [
        "# replace fall with Fell=0, Found=1\n",
        "print(ml_interim4_df['fall'].unique())\n",
        "ml_interim4_df.replace(['Fell',\"Found\"],[0,1],inplace = True)\n",
        "print(len(ml_interim4_df))\n",
        "ml_interim4_df.head(2)"
      ]
    },
    {
      "cell_type": "code",
      "execution_count": 19,
      "metadata": {
        "colab": {
          "base_uri": "https://localhost:8080/",
          "height": 223
        },
        "id": "xjUkl3ZhTInm",
        "outputId": "a4ca0c59-3ab7-4c16-fcc2-47d9d4a929bc"
      },
      "outputs": [
        {
          "name": "stdout",
          "output_type": "stream",
          "text": [
            "1648\n"
          ]
        },
        {
          "data": {
            "text/html": [
              "\n",
              "  <div id=\"df-451d5c9d-dda9-4a73-b584-e26fdabf17bf\">\n",
              "    <div class=\"colab-df-container\">\n",
              "      <div>\n",
              "<style scoped>\n",
              "    .dataframe tbody tr th:only-of-type {\n",
              "        vertical-align: middle;\n",
              "    }\n",
              "\n",
              "    .dataframe tbody tr th {\n",
              "        vertical-align: top;\n",
              "    }\n",
              "\n",
              "    .dataframe thead th {\n",
              "        text-align: right;\n",
              "    }\n",
              "</style>\n",
              "<table border=\"1\" class=\"dataframe\">\n",
              "  <thead>\n",
              "    <tr style=\"text-align: right;\">\n",
              "      <th></th>\n",
              "      <th>mass_grams</th>\n",
              "      <th>fall</th>\n",
              "      <th>year</th>\n",
              "      <th>reclat</th>\n",
              "      <th>reclong</th>\n",
              "      <th>elevation</th>\n",
              "      <th>FIPS</th>\n",
              "      <th>area_sqkm</th>\n",
              "      <th>BARE</th>\n",
              "      <th>CROPL</th>\n",
              "      <th>...</th>\n",
              "      <th>SHRUBL</th>\n",
              "      <th>SPARSE_VEGETATION</th>\n",
              "      <th>URBAN</th>\n",
              "      <th>WATER</th>\n",
              "      <th>WETL</th>\n",
              "      <th>Achrondrite</th>\n",
              "      <th>Chrondrite</th>\n",
              "      <th>Iron</th>\n",
              "      <th>Mesosiderite</th>\n",
              "      <th>Pallasite</th>\n",
              "    </tr>\n",
              "  </thead>\n",
              "  <tbody>\n",
              "    <tr>\n",
              "      <th>0</th>\n",
              "      <td>32000.0</td>\n",
              "      <td>0</td>\n",
              "      <td>1899</td>\n",
              "      <td>42.53333</td>\n",
              "      <td>-85.88333</td>\n",
              "      <td>225.0</td>\n",
              "      <td>26</td>\n",
              "      <td>250487</td>\n",
              "      <td>0.241572</td>\n",
              "      <td>35.820019</td>\n",
              "      <td>...</td>\n",
              "      <td>0.668927</td>\n",
              "      <td>0.026182</td>\n",
              "      <td>3.350872</td>\n",
              "      <td>2.644462</td>\n",
              "      <td>0.312346</td>\n",
              "      <td>0</td>\n",
              "      <td>1</td>\n",
              "      <td>0</td>\n",
              "      <td>0</td>\n",
              "      <td>0</td>\n",
              "    </tr>\n",
              "    <tr>\n",
              "      <th>1</th>\n",
              "      <td>469.0</td>\n",
              "      <td>0</td>\n",
              "      <td>1994</td>\n",
              "      <td>43.76111</td>\n",
              "      <td>-84.50778</td>\n",
              "      <td>218.0</td>\n",
              "      <td>26</td>\n",
              "      <td>250487</td>\n",
              "      <td>0.241572</td>\n",
              "      <td>35.820019</td>\n",
              "      <td>...</td>\n",
              "      <td>0.668927</td>\n",
              "      <td>0.026182</td>\n",
              "      <td>3.350872</td>\n",
              "      <td>2.644462</td>\n",
              "      <td>0.312346</td>\n",
              "      <td>0</td>\n",
              "      <td>1</td>\n",
              "      <td>0</td>\n",
              "      <td>0</td>\n",
              "      <td>0</td>\n",
              "    </tr>\n",
              "  </tbody>\n",
              "</table>\n",
              "<p>2 rows × 22 columns</p>\n",
              "</div>\n",
              "      <button class=\"colab-df-convert\" onclick=\"convertToInteractive('df-451d5c9d-dda9-4a73-b584-e26fdabf17bf')\"\n",
              "              title=\"Convert this dataframe to an interactive table.\"\n",
              "              style=\"display:none;\">\n",
              "        \n",
              "  <svg xmlns=\"http://www.w3.org/2000/svg\" height=\"24px\"viewBox=\"0 0 24 24\"\n",
              "       width=\"24px\">\n",
              "    <path d=\"M0 0h24v24H0V0z\" fill=\"none\"/>\n",
              "    <path d=\"M18.56 5.44l.94 2.06.94-2.06 2.06-.94-2.06-.94-.94-2.06-.94 2.06-2.06.94zm-11 1L8.5 8.5l.94-2.06 2.06-.94-2.06-.94L8.5 2.5l-.94 2.06-2.06.94zm10 10l.94 2.06.94-2.06 2.06-.94-2.06-.94-.94-2.06-.94 2.06-2.06.94z\"/><path d=\"M17.41 7.96l-1.37-1.37c-.4-.4-.92-.59-1.43-.59-.52 0-1.04.2-1.43.59L10.3 9.45l-7.72 7.72c-.78.78-.78 2.05 0 2.83L4 21.41c.39.39.9.59 1.41.59.51 0 1.02-.2 1.41-.59l7.78-7.78 2.81-2.81c.8-.78.8-2.07 0-2.86zM5.41 20L4 18.59l7.72-7.72 1.47 1.35L5.41 20z\"/>\n",
              "  </svg>\n",
              "      </button>\n",
              "      \n",
              "  <style>\n",
              "    .colab-df-container {\n",
              "      display:flex;\n",
              "      flex-wrap:wrap;\n",
              "      gap: 12px;\n",
              "    }\n",
              "\n",
              "    .colab-df-convert {\n",
              "      background-color: #E8F0FE;\n",
              "      border: none;\n",
              "      border-radius: 50%;\n",
              "      cursor: pointer;\n",
              "      display: none;\n",
              "      fill: #1967D2;\n",
              "      height: 32px;\n",
              "      padding: 0 0 0 0;\n",
              "      width: 32px;\n",
              "    }\n",
              "\n",
              "    .colab-df-convert:hover {\n",
              "      background-color: #E2EBFA;\n",
              "      box-shadow: 0px 1px 2px rgba(60, 64, 67, 0.3), 0px 1px 3px 1px rgba(60, 64, 67, 0.15);\n",
              "      fill: #174EA6;\n",
              "    }\n",
              "\n",
              "    [theme=dark] .colab-df-convert {\n",
              "      background-color: #3B4455;\n",
              "      fill: #D2E3FC;\n",
              "    }\n",
              "\n",
              "    [theme=dark] .colab-df-convert:hover {\n",
              "      background-color: #434B5C;\n",
              "      box-shadow: 0px 1px 3px 1px rgba(0, 0, 0, 0.15);\n",
              "      filter: drop-shadow(0px 1px 2px rgba(0, 0, 0, 0.3));\n",
              "      fill: #FFFFFF;\n",
              "    }\n",
              "  </style>\n",
              "\n",
              "      <script>\n",
              "        const buttonEl =\n",
              "          document.querySelector('#df-451d5c9d-dda9-4a73-b584-e26fdabf17bf button.colab-df-convert');\n",
              "        buttonEl.style.display =\n",
              "          google.colab.kernel.accessAllowed ? 'block' : 'none';\n",
              "\n",
              "        async function convertToInteractive(key) {\n",
              "          const element = document.querySelector('#df-451d5c9d-dda9-4a73-b584-e26fdabf17bf');\n",
              "          const dataTable =\n",
              "            await google.colab.kernel.invokeFunction('convertToInteractive',\n",
              "                                                     [key], {});\n",
              "          if (!dataTable) return;\n",
              "\n",
              "          const docLinkHtml = 'Like what you see? Visit the ' +\n",
              "            '<a target=\"_blank\" href=https://colab.research.google.com/notebooks/data_table.ipynb>data table notebook</a>'\n",
              "            + ' to learn more about interactive tables.';\n",
              "          element.innerHTML = '';\n",
              "          dataTable['output_type'] = 'display_data';\n",
              "          await google.colab.output.renderOutput(dataTable, element);\n",
              "          const docLink = document.createElement('div');\n",
              "          docLink.innerHTML = docLinkHtml;\n",
              "          element.appendChild(docLink);\n",
              "        }\n",
              "      </script>\n",
              "    </div>\n",
              "  </div>\n",
              "  "
            ],
            "text/plain": [
              "   mass_grams  fall  year    reclat   reclong  elevation FIPS  area_sqkm  \\\n",
              "0     32000.0     0  1899  42.53333 -85.88333      225.0   26     250487   \n",
              "1       469.0     0  1994  43.76111 -84.50778      218.0   26     250487   \n",
              "\n",
              "       BARE      CROPL  ...    SHRUBL  SPARSE_VEGETATION     URBAN     WATER  \\\n",
              "0  0.241572  35.820019  ...  0.668927           0.026182  3.350872  2.644462   \n",
              "1  0.241572  35.820019  ...  0.668927           0.026182  3.350872  2.644462   \n",
              "\n",
              "       WETL  Achrondrite  Chrondrite  Iron  Mesosiderite  Pallasite  \n",
              "0  0.312346            0           1     0             0          0  \n",
              "1  0.312346            0           1     0             0          0  \n",
              "\n",
              "[2 rows x 22 columns]"
            ]
          },
          "execution_count": 19,
          "metadata": {},
          "output_type": "execute_result"
        }
      ],
      "source": [
        "# create meteorite_class dummy columns\n",
        "dummies = pd.get_dummies(ml_interim4_df['meteorite_class'])\n",
        "ml_unscaled = pd.concat([ml_interim4_df,dummies], axis='columns')\n",
        "ml_unscaled.drop(['meteorite_class'],axis='columns', inplace = True)\n",
        "print(len(ml_unscaled))\n",
        "ml_unscaled.head(2)"
      ]
    },
    {
      "cell_type": "code",
      "execution_count": 20,
      "metadata": {
        "colab": {
          "base_uri": "https://localhost:8080/"
        },
        "id": "SIC4JGKBTInm",
        "outputId": "5d05208a-1ad6-40a0-9506-37fbd8583f0c"
      },
      "outputs": [
        {
          "name": "stdout",
          "output_type": "stream",
          "text": [
            "['Chrondrite' 'Iron' 'Achrondrite' 'Pallasite' 'Mesosiderite']\n",
            "1648\n"
          ]
        }
      ],
      "source": [
        "# create ml dataset without binary x\n",
        "ml_interim3_df = ml_interim4_df.copy()\n",
        "print(ml_interim4_df['meteorite_class'].unique())\n",
        "ml_interim3_df.replace(['Chrondrite', 'Iron', 'Achrondrite', 'Pallasite', 'Mesosiderite'],[0,1,2,3,4],inplace = True)\n",
        "print(len(ml_interim3_df))\n",
        "ml_interim3_df.head(2)\n",
        "ml_unscaled = ml_interim3_df.copy()\n"
      ]
    },
    {
      "cell_type": "code",
      "execution_count": 21,
      "metadata": {
        "id": "oVS2JeKyTInm"
      },
      "outputs": [],
      "source": [
        "# # write US meteorite data into csv file COMMENT OUT SO CSV ISN'T INADVERTENTLY OVERWRITTEN, uncomment to overwrite csv\n",
        "# ml_unscaled.to_csv('Resources/machine_learning/meteorite_ml_unscaled.csv')"
      ]
    },
    {
      "cell_type": "code",
      "execution_count": 22,
      "metadata": {
        "id": "Lcy-1u3GTInm"
      },
      "outputs": [],
      "source": [
        "# # check csv  - uncomment check if csv overwritten above\n",
        "# ml_unscaled_check = pd.read_csv('Resources/machine_learning/meteorite_ml_unscaled.csv')\n",
        "# print(len(ml_unscaled_check))\n",
        "# ml_unscaled_check.head(2)"
      ]
    },
    {
      "cell_type": "markdown",
      "metadata": {
        "id": "X-DDt4UQTInm"
      },
      "source": [
        "# MACHINE LEARNING"
      ]
    },
    {
      "cell_type": "code",
      "execution_count": 23,
      "metadata": {
        "id": "be1F6IisTInm"
      },
      "outputs": [],
      "source": [
        "# get list of columns in ml_unscaled df\n",
        "collist = ml_unscaled.columns.to_list()"
      ]
    },
    {
      "cell_type": "code",
      "execution_count": 24,
      "metadata": {
        "id": "oVidlCZsTInm"
      },
      "outputs": [],
      "source": [
        "# try to force all cols to numeric  from Mod19-Day03-Act-05\n",
        "for col in ml_unscaled.columns:\n",
        "    if ml_unscaled[col].dtype == 'object':\n",
        "        ml_unscaled[col] = pd.to_numeric(ml_unscaled[col], errors='coerce')"
      ]
    },
    {
      "cell_type": "code",
      "execution_count": 25,
      "metadata": {
        "colab": {
          "base_uri": "https://localhost:8080/"
        },
        "id": "Pbf63FmJTInm",
        "outputId": "df830f0b-5f89-490c-a44f-ca9ac3190310"
      },
      "outputs": [
        {
          "name": "stdout",
          "output_type": "stream",
          "text": [
            "1648\n",
            "<class 'pandas.core.frame.DataFrame'>\n",
            "      mass_grams  year    reclat    reclong  elevation  FIPS  area_sqkm  \\\n",
            "0        32000.0  1899  42.53333  -85.88333      225.0    26     250487   \n",
            "1          469.0  1994  43.76111  -84.50778      218.0    26     250487   \n",
            "2        10600.0  1921  44.51667  -83.95000      387.0    26     250487   \n",
            "3         1551.0  1997  42.38467  -83.61150      279.0    26     250487   \n",
            "4        51700.0  1883  42.96667  -85.76667      225.0    26     250487   \n",
            "...          ...   ...       ...        ...        ...   ...        ...   \n",
            "1643    111000.0  1926  42.33333 -113.70000     1914.0    16     216443   \n",
            "1644      2150.0  1940  43.80000 -117.00000      670.0    16     216443   \n",
            "1645        41.0  2004  44.93389 -116.43167     1556.0    16     216443   \n",
            "1646     26600.0  1982  43.72444 -116.91167      716.0    16     216443   \n",
            "1647       353.0  1963  42.31667  -72.63333       51.0    25      27336   \n",
            "\n",
            "      meteorite_class      BARE      CROPL     FOREST      GRSL     SHRUBL  \\\n",
            "0                   0  0.241572  35.820019  52.486729  4.448891   0.668927   \n",
            "1                   0  0.241572  35.820019  52.486729  4.448891   0.668927   \n",
            "2                   0  0.241572  35.820019  52.486729  4.448891   0.668927   \n",
            "3                   0  0.241572  35.820019  52.486729  4.448891   0.668927   \n",
            "4                   1  0.241572  35.820019  52.486729  4.448891   0.668927   \n",
            "...               ...       ...        ...        ...       ...        ...   \n",
            "1643                1  1.448300  14.490028  39.197302  5.716656  35.316082   \n",
            "1644                1  1.448300  14.490028  39.197302  5.716656  35.316082   \n",
            "1645                1  1.448300  14.490028  39.197302  5.716656  35.316082   \n",
            "1646                0  1.448300  14.490028  39.197302  5.716656  35.316082   \n",
            "1647                1  0.379269   1.739556  71.546837  5.420825   0.467100   \n",
            "\n",
            "      SPARSE_VEGETATION      URBAN     WATER      WETL  \n",
            "0              0.026182   3.350872  2.644462  0.312346  \n",
            "1              0.026182   3.350872  2.644462  0.312346  \n",
            "2              0.026182   3.350872  2.644462  0.312346  \n",
            "3              0.026182   3.350872  2.644462  0.312346  \n",
            "4              0.026182   3.350872  2.644462  0.312346  \n",
            "...                 ...        ...       ...       ...  \n",
            "1643           2.264164   0.325982  0.887480  0.354007  \n",
            "1644           2.264164   0.325982  0.887480  0.354007  \n",
            "1645           2.264164   0.325982  0.887480  0.354007  \n",
            "1646           2.264164   0.325982  0.887480  0.354007  \n",
            "1647           0.035931  14.743948  4.751207  0.915327  \n",
            "\n",
            "[1648 rows x 17 columns]\n"
          ]
        }
      ],
      "source": [
        "# set x and y, print x\n",
        "X = ml_unscaled.drop('fall', axis=1)\n",
        "y = ml_unscaled['fall']\n",
        "print(len(X))\n",
        "print(type(X))\n",
        "print(X)\n"
      ]
    },
    {
      "cell_type": "code",
      "execution_count": 26,
      "metadata": {
        "colab": {
          "base_uri": "https://localhost:8080/"
        },
        "id": "5ZZfj4nmTInm",
        "outputId": "75b029a9-7ce6-4330-e758-dabffb970259"
      },
      "outputs": [
        {
          "name": "stdout",
          "output_type": "stream",
          "text": [
            "1648\n",
            "<class 'pandas.core.series.Series'>\n",
            "0       0\n",
            "1       0\n",
            "2       0\n",
            "3       0\n",
            "4       1\n",
            "       ..\n",
            "1643    1\n",
            "1644    1\n",
            "1645    1\n",
            "1646    1\n",
            "1647    1\n",
            "Name: fall, Length: 1648, dtype: int64\n"
          ]
        }
      ],
      "source": [
        "# print y\n",
        "print(len(y))\n",
        "print(type(y))\n",
        "print(y)"
      ]
    },
    {
      "cell_type": "code",
      "execution_count": 27,
      "metadata": {
        "id": "FWCGGoaoTInm"
      },
      "outputs": [],
      "source": [
        "# create test and train sets, scale x\n",
        "X_train, X_test, y_train, y_test = train_test_split(X, y, random_state=1)\n",
        "scaler = StandardScaler().fit(X_train)\n",
        "X_train_scaled = scaler.transform(X_train)\n",
        "X_test_scaled = scaler.transform(X_test)"
      ]
    },
    {
      "cell_type": "code",
      "execution_count": 28,
      "metadata": {
        "colab": {
          "base_uri": "https://localhost:8080/"
        },
        "id": "C_LW7vukTInm",
        "outputId": "b6720c8f-cb04-4d6a-969f-39fc12120333"
      },
      "outputs": [
        {
          "data": {
            "text/plain": [
              "array([[-0.06557907, -2.4299059 ,  0.27548093,  2.05440142, -0.99871303,\n",
              "         1.42004642, -1.14860951,  1.08689057, -0.6278914 , -0.53079486,\n",
              "         2.20103018,  0.00547976, -1.11556881, -0.12632074,  0.77576336,\n",
              "         1.41071807,  0.49903456],\n",
              "       [-0.06517345,  0.27777037, -0.47179877,  0.18509024, -0.4243757 ,\n",
              "         1.23944784,  1.73406421, -0.48801769, -0.56225945,  0.13992496,\n",
              "        -0.57690384,  0.32030793,  0.10877266, -0.11357646,  0.25868329,\n",
              "         0.03548619,  0.34193987]])"
            ]
          },
          "execution_count": 28,
          "metadata": {},
          "output_type": "execute_result"
        }
      ],
      "source": [
        "X_train_scaled[0:2]"
      ]
    },
    {
      "cell_type": "markdown",
      "metadata": {
        "id": "DYR0SZQKTInn"
      },
      "source": [
        "## LOGISTIC REGRESSION"
      ]
    },
    {
      "cell_type": "code",
      "execution_count": 29,
      "metadata": {
        "colab": {
          "base_uri": "https://localhost:8080/"
        },
        "id": "Wdw6hZOpTInn",
        "outputId": "2be22adf-3f45-467f-8c70-c80060b55be6"
      },
      "outputs": [
        {
          "name": "stdout",
          "output_type": "stream",
          "text": [
            "Logistic Regression Training Score is: 0.92395\n",
            "Logistic Regression Testing Score is: 0.92961\n"
          ]
        }
      ],
      "source": [
        "# fit LR model to xtrain scaled & ytrain, check model accuracy against training dataset and test dataset\n",
        "clf = LogisticRegression(random_state=1, max_iter= 100,).fit(X_train_scaled, y_train)\n",
        "print(f'Logistic Regression Training Score is: {round(clf.score(X_train_scaled, y_train),5)}')\n",
        "print(f'Logistic Regression Testing Score is: {round(clf.score(X_test_scaled, y_test),5)}')"
      ]
    },
    {
      "cell_type": "code",
      "execution_count": 30,
      "metadata": {
        "colab": {
          "base_uri": "https://localhost:8080/"
        },
        "id": "rAsQ0aFeTInn",
        "outputId": "fd36dc50-4a4a-44ab-ed71-36b84d8af4f4"
      },
      "outputs": [
        {
          "name": "stdout",
          "output_type": "stream",
          "text": [
            "Actual:\t\t[1, 1, 1, 1, 1, 1, 0, 0, 1, 1, 1, 1, 1, 1, 1, 1, 1, 1, 1, 1, 1, 1, 1, 1, 1, 1, 1, 1, 1, 1, 1, 1, 1, 0, 1, 1, 1, 1, 1, 1, 1, 1, 1, 1, 0, 1, 1, 1, 1, 1, 1, 1, 1, 1, 1, 1, 1, 0, 1, 1, 1, 1, 1, 1, 1, 0, 1, 1, 1, 1, 1, 1, 1, 1, 1, 1, 1, 1, 1, 1, 1, 1, 1, 1, 1, 1, 1, 1, 1, 1, 1, 1, 1, 1, 1, 1, 1, 1, 1, 1, 0, 1, 1, 1, 1, 1, 1, 1, 1, 1, 1, 1, 0, 1, 1, 1, 1, 0, 1, 1, 1, 1, 1, 1, 1, 1, 1, 0, 1, 1, 1, 1, 1, 0, 1, 1, 1, 1, 0, 1, 1, 1, 1, 1, 1, 0, 0, 1, 1, 1, 1, 1, 0, 1, 1, 0, 1, 0, 1, 1, 1, 1, 1, 1, 1, 1, 1, 1, 1, 1, 1, 1, 1, 1, 1, 1, 1, 1, 1, 1, 1, 1, 1, 1, 1, 1, 1, 0, 1, 1, 1, 1, 1, 1, 1, 1, 1, 1, 1, 1, 1, 1, 1, 1, 1, 1, 1, 1, 1, 1, 1, 1, 1, 1, 1, 1, 1, 1, 1, 1, 1, 1, 1, 1, 1, 1, 0, 1, 1, 1, 1, 1, 1, 0, 1, 1, 1, 1, 1, 1, 1, 1, 1, 1, 1, 1, 1, 1, 1, 1, 0, 1, 1, 1, 1, 1, 1, 0, 1, 1, 1, 1, 0, 1, 1, 1, 1, 1, 1, 1, 0, 1, 1, 1, 1, 1, 1, 0, 1, 1, 1, 1, 1, 1, 1, 1, 1, 1, 1, 1, 1, 1, 1, 1, 1, 1, 1, 1, 1, 1, 1, 1, 1, 1, 1, 1, 1, 1, 1, 1, 1, 1, 0, 1, 1, 1, 1, 1, 1, 1, 1, 1, 1, 1, 1, 1, 0, 1, 1, 1, 1, 1, 0, 1, 1, 1, 1, 0, 1, 1, 1, 1, 1, 1, 0, 1, 1, 1, 1, 1, 0, 1, 1, 1, 1, 1, 1, 1, 0, 1, 1, 1, 1, 1, 1, 1, 1, 1, 1, 1, 1, 1, 1, 1, 1, 1, 1, 1, 1, 1, 1, 1, 1, 1, 0, 1, 1, 1, 1, 1, 1, 1, 1, 1, 1, 1, 1, 1, 0, 1, 1, 0, 1, 1, 1, 1, 1, 1, 1, 1, 1, 1]\n",
            "Predicted:\t[1, 1, 1, 1, 1, 1, 0, 1, 1, 1, 1, 1, 1, 1, 1, 1, 1, 1, 1, 1, 1, 1, 1, 1, 1, 1, 1, 1, 1, 1, 1, 1, 1, 0, 1, 1, 1, 1, 1, 1, 1, 1, 1, 1, 1, 1, 1, 1, 1, 1, 1, 1, 1, 1, 1, 1, 1, 1, 1, 1, 1, 1, 1, 1, 1, 1, 1, 1, 1, 1, 1, 1, 1, 1, 1, 1, 1, 1, 1, 1, 1, 1, 1, 1, 1, 1, 1, 1, 1, 1, 1, 1, 1, 1, 1, 1, 1, 1, 1, 1, 0, 0, 1, 1, 1, 1, 1, 1, 1, 1, 1, 1, 1, 1, 1, 1, 1, 1, 1, 1, 1, 1, 1, 1, 1, 1, 1, 1, 1, 1, 1, 1, 1, 0, 1, 1, 1, 1, 0, 1, 1, 1, 1, 1, 1, 1, 0, 1, 1, 1, 1, 1, 1, 1, 1, 1, 1, 1, 1, 1, 1, 1, 1, 1, 1, 1, 1, 1, 1, 1, 1, 1, 1, 1, 1, 1, 1, 1, 1, 1, 1, 1, 1, 1, 1, 1, 1, 1, 1, 1, 1, 1, 1, 1, 1, 1, 1, 1, 1, 1, 1, 1, 1, 1, 1, 1, 1, 1, 1, 1, 1, 1, 1, 1, 1, 1, 1, 0, 1, 1, 1, 1, 1, 1, 1, 1, 1, 1, 1, 1, 1, 1, 1, 1, 1, 1, 1, 1, 1, 1, 0, 1, 1, 1, 1, 1, 1, 1, 1, 1, 0, 1, 1, 1, 1, 1, 1, 1, 1, 1, 1, 1, 1, 1, 1, 1, 1, 1, 1, 1, 1, 1, 1, 1, 1, 1, 1, 1, 1, 1, 1, 1, 1, 1, 1, 1, 1, 1, 1, 1, 1, 1, 1, 1, 1, 1, 1, 1, 1, 1, 1, 1, 1, 1, 1, 1, 1, 1, 1, 1, 1, 1, 1, 1, 1, 1, 1, 1, 1, 1, 1, 1, 1, 1, 1, 1, 1, 1, 1, 1, 1, 1, 1, 1, 1, 1, 1, 1, 1, 1, 1, 1, 1, 1, 0, 1, 1, 1, 1, 1, 1, 1, 1, 1, 1, 1, 1, 1, 1, 1, 1, 1, 1, 1, 1, 1, 1, 1, 1, 1, 1, 1, 1, 1, 1, 1, 1, 1, 1, 1, 1, 1, 1, 1, 0, 1, 1, 1, 1, 1, 1, 1, 1, 1, 1, 1, 1, 1, 1, 1, 1, 1, 1, 1, 1, 1, 1, 1, 1, 1, 1, 1]\n"
          ]
        }
      ],
      "source": [
        "# list actual and predicted\n",
        "print(f'Actual:\\t\\t{list(y_test[:])}')\n",
        "print(f'Predicted:\\t{list(clf.predict(X_test_scaled[:]))}')"
      ]
    },
    {
      "cell_type": "code",
      "execution_count": 31,
      "metadata": {
        "colab": {
          "base_uri": "https://localhost:8080/"
        },
        "id": "-4ZYco97TInn",
        "outputId": "6b316e25-3339-4774-db7d-a24a252a65e9"
      },
      "outputs": [
        {
          "data": {
            "text/plain": [
              "array([[  9,  26],\n",
              "       [  3, 374]])"
            ]
          },
          "execution_count": 31,
          "metadata": {},
          "output_type": "execute_result"
        }
      ],
      "source": [
        "# create confusion matrix\n",
        "y_true = y_test\n",
        "y_pred = clf.predict(X_test_scaled)\n",
        "confusion_matrix(y_true, y_pred)"
      ]
    },
    {
      "cell_type": "code",
      "execution_count": 32,
      "metadata": {
        "colab": {
          "base_uri": "https://localhost:8080/"
        },
        "id": "TwzfnOItTInn",
        "outputId": "206f825b-b850-4b1a-91c5-e46c77f2f1d9"
      },
      "outputs": [
        {
          "name": "stdout",
          "output_type": "stream",
          "text": [
            "Logistic Regression accuracy (calculated manually) is 0.92961\n"
          ]
        }
      ],
      "source": [
        "# manually calculate the accuracy of the model\n",
        "# above array ([[TN(9),FP(26)],[FN(3),TP(374)]])\n",
        "TP = 374\n",
        "FP = 26\n",
        "TN = 9\n",
        "FN = 3\n",
        "accuracy = round(((TP + TN) / (TP + FP + TN + FN)),5)\n",
        "print(f'Logistic Regression accuracy (calculated manually) is {accuracy}')"
      ]
    },
    {
      "cell_type": "code",
      "execution_count": 33,
      "metadata": {
        "colab": {
          "base_uri": "https://localhost:8080/"
        },
        "id": "KAJMwa92TInn",
        "outputId": "a8cc01fe-909b-4022-ec44-2a3d9d05a8fc"
      },
      "outputs": [
        {
          "name": "stdout",
          "output_type": "stream",
          "text": [
            "              precision    recall  f1-score   support\n",
            "\n",
            "           0       0.75      0.26      0.38        35\n",
            "           1       0.94      0.99      0.96       377\n",
            "\n",
            "    accuracy                           0.93       412\n",
            "   macro avg       0.84      0.62      0.67       412\n",
            "weighted avg       0.92      0.93      0.91       412\n",
            "\n"
          ]
        }
      ],
      "source": [
        "# create classification report\n",
        "print(classification_report(y_true, y_pred))"
      ]
    },
    {
      "cell_type": "code",
      "execution_count": 34,
      "metadata": {
        "id": "anG58k0bTInn"
      },
      "outputs": [],
      "source": [
        "# create list of actual and predicted ytest\n",
        "actual = list(y_test[:])\n",
        "predicted = list(clf.predict(X_test_scaled[:]))"
      ]
    },
    {
      "cell_type": "code",
      "execution_count": 35,
      "metadata": {
        "colab": {
          "base_uri": "https://localhost:8080/",
          "height": 258
        },
        "id": "oF3Ra0bHTInn",
        "outputId": "7f3d1c7a-47de-40e1-f4de-0af199aab893"
      },
      "outputs": [
        {
          "name": "stdout",
          "output_type": "stream",
          "text": [
            "yes    383\n",
            "no      29\n",
            "Name: accurate, dtype: int64\n"
          ]
        },
        {
          "data": {
            "text/html": [
              "\n",
              "  <div id=\"df-cacf6175-88b1-434a-9c31-a2b35df1beff\">\n",
              "    <div class=\"colab-df-container\">\n",
              "      <div>\n",
              "<style scoped>\n",
              "    .dataframe tbody tr th:only-of-type {\n",
              "        vertical-align: middle;\n",
              "    }\n",
              "\n",
              "    .dataframe tbody tr th {\n",
              "        vertical-align: top;\n",
              "    }\n",
              "\n",
              "    .dataframe thead th {\n",
              "        text-align: right;\n",
              "    }\n",
              "</style>\n",
              "<table border=\"1\" class=\"dataframe\">\n",
              "  <thead>\n",
              "    <tr style=\"text-align: right;\">\n",
              "      <th></th>\n",
              "      <th>actual</th>\n",
              "      <th>predicted</th>\n",
              "      <th>accurate</th>\n",
              "    </tr>\n",
              "  </thead>\n",
              "  <tbody>\n",
              "    <tr>\n",
              "      <th>0</th>\n",
              "      <td>1</td>\n",
              "      <td>1</td>\n",
              "      <td>yes</td>\n",
              "    </tr>\n",
              "    <tr>\n",
              "      <th>1</th>\n",
              "      <td>1</td>\n",
              "      <td>1</td>\n",
              "      <td>yes</td>\n",
              "    </tr>\n",
              "    <tr>\n",
              "      <th>2</th>\n",
              "      <td>1</td>\n",
              "      <td>1</td>\n",
              "      <td>yes</td>\n",
              "    </tr>\n",
              "    <tr>\n",
              "      <th>3</th>\n",
              "      <td>1</td>\n",
              "      <td>1</td>\n",
              "      <td>yes</td>\n",
              "    </tr>\n",
              "    <tr>\n",
              "      <th>4</th>\n",
              "      <td>1</td>\n",
              "      <td>1</td>\n",
              "      <td>yes</td>\n",
              "    </tr>\n",
              "  </tbody>\n",
              "</table>\n",
              "</div>\n",
              "      <button class=\"colab-df-convert\" onclick=\"convertToInteractive('df-cacf6175-88b1-434a-9c31-a2b35df1beff')\"\n",
              "              title=\"Convert this dataframe to an interactive table.\"\n",
              "              style=\"display:none;\">\n",
              "        \n",
              "  <svg xmlns=\"http://www.w3.org/2000/svg\" height=\"24px\"viewBox=\"0 0 24 24\"\n",
              "       width=\"24px\">\n",
              "    <path d=\"M0 0h24v24H0V0z\" fill=\"none\"/>\n",
              "    <path d=\"M18.56 5.44l.94 2.06.94-2.06 2.06-.94-2.06-.94-.94-2.06-.94 2.06-2.06.94zm-11 1L8.5 8.5l.94-2.06 2.06-.94-2.06-.94L8.5 2.5l-.94 2.06-2.06.94zm10 10l.94 2.06.94-2.06 2.06-.94-2.06-.94-.94-2.06-.94 2.06-2.06.94z\"/><path d=\"M17.41 7.96l-1.37-1.37c-.4-.4-.92-.59-1.43-.59-.52 0-1.04.2-1.43.59L10.3 9.45l-7.72 7.72c-.78.78-.78 2.05 0 2.83L4 21.41c.39.39.9.59 1.41.59.51 0 1.02-.2 1.41-.59l7.78-7.78 2.81-2.81c.8-.78.8-2.07 0-2.86zM5.41 20L4 18.59l7.72-7.72 1.47 1.35L5.41 20z\"/>\n",
              "  </svg>\n",
              "      </button>\n",
              "      \n",
              "  <style>\n",
              "    .colab-df-container {\n",
              "      display:flex;\n",
              "      flex-wrap:wrap;\n",
              "      gap: 12px;\n",
              "    }\n",
              "\n",
              "    .colab-df-convert {\n",
              "      background-color: #E8F0FE;\n",
              "      border: none;\n",
              "      border-radius: 50%;\n",
              "      cursor: pointer;\n",
              "      display: none;\n",
              "      fill: #1967D2;\n",
              "      height: 32px;\n",
              "      padding: 0 0 0 0;\n",
              "      width: 32px;\n",
              "    }\n",
              "\n",
              "    .colab-df-convert:hover {\n",
              "      background-color: #E2EBFA;\n",
              "      box-shadow: 0px 1px 2px rgba(60, 64, 67, 0.3), 0px 1px 3px 1px rgba(60, 64, 67, 0.15);\n",
              "      fill: #174EA6;\n",
              "    }\n",
              "\n",
              "    [theme=dark] .colab-df-convert {\n",
              "      background-color: #3B4455;\n",
              "      fill: #D2E3FC;\n",
              "    }\n",
              "\n",
              "    [theme=dark] .colab-df-convert:hover {\n",
              "      background-color: #434B5C;\n",
              "      box-shadow: 0px 1px 3px 1px rgba(0, 0, 0, 0.15);\n",
              "      filter: drop-shadow(0px 1px 2px rgba(0, 0, 0, 0.3));\n",
              "      fill: #FFFFFF;\n",
              "    }\n",
              "  </style>\n",
              "\n",
              "      <script>\n",
              "        const buttonEl =\n",
              "          document.querySelector('#df-cacf6175-88b1-434a-9c31-a2b35df1beff button.colab-df-convert');\n",
              "        buttonEl.style.display =\n",
              "          google.colab.kernel.accessAllowed ? 'block' : 'none';\n",
              "\n",
              "        async function convertToInteractive(key) {\n",
              "          const element = document.querySelector('#df-cacf6175-88b1-434a-9c31-a2b35df1beff');\n",
              "          const dataTable =\n",
              "            await google.colab.kernel.invokeFunction('convertToInteractive',\n",
              "                                                     [key], {});\n",
              "          if (!dataTable) return;\n",
              "\n",
              "          const docLinkHtml = 'Like what you see? Visit the ' +\n",
              "            '<a target=\"_blank\" href=https://colab.research.google.com/notebooks/data_table.ipynb>data table notebook</a>'\n",
              "            + ' to learn more about interactive tables.';\n",
              "          element.innerHTML = '';\n",
              "          dataTable['output_type'] = 'display_data';\n",
              "          await google.colab.output.renderOutput(dataTable, element);\n",
              "          const docLink = document.createElement('div');\n",
              "          docLink.innerHTML = docLinkHtml;\n",
              "          element.appendChild(docLink);\n",
              "        }\n",
              "      </script>\n",
              "    </div>\n",
              "  </div>\n",
              "  "
            ],
            "text/plain": [
              "   actual  predicted accurate\n",
              "0       1          1      yes\n",
              "1       1          1      yes\n",
              "2       1          1      yes\n",
              "3       1          1      yes\n",
              "4       1          1      yes"
            ]
          },
          "execution_count": 35,
          "metadata": {},
          "output_type": "execute_result"
        }
      ],
      "source": [
        "# create df with accuracy evaluation for each row\n",
        "logR_dict = {'actual':actual,'predicted':predicted}\n",
        "logR_df = pd.DataFrame(logR_dict)\n",
        "logR_df['accurate'] = logR_df['actual']+logR_df['predicted']\n",
        "logR_df['accurate'] .replace({2:'yes',1:'no',0:'yes'}, inplace = True)\n",
        "logR_accurate_counts = logR_df['accurate'].value_counts()\n",
        "print(logR_accurate_counts)\n",
        "logR_df.head()"
      ]
    },
    {
      "cell_type": "code",
      "execution_count": 36,
      "metadata": {
        "colab": {
          "base_uri": "https://localhost:8080/",
          "height": 298
        },
        "id": "9g_aaOHeTInn",
        "outputId": "89e65525-7777-4948-b5da-4a68178d716e"
      },
      "outputs": [
        {
          "data": {
            "text/plain": [
              "<Axes: title={'center': 'Were Logistic Regression predictions accurate?'}>"
            ]
          },
          "execution_count": 36,
          "metadata": {},
          "output_type": "execute_result"
        },
        {
          "data": {
            "image/png": "[encoded data removed]",
            "text/plain": [
              "<Figure size 432x288 with 1 Axes>"
            ]
          },
          "metadata": {
            "needs_background": "light"
          },
          "output_type": "display_data"
        }
      ],
      "source": [
        "# visualize model accuracy in bar chart\n",
        "logR_accurate_counts.plot.bar(rot = 0, title = 'Were Logistic Regression predictions accurate?')"
      ]
    },
    {
      "cell_type": "markdown",
      "metadata": {
        "id": "0WshHQ0XTInn"
      },
      "source": [
        "## RANDOM FOREST CLASSIFIER"
      ]
    },
    {
      "cell_type": "code",
      "execution_count": 37,
      "metadata": {
        "colab": {
          "base_uri": "https://localhost:8080/"
        },
        "id": "WQYc6lVGTInn",
        "outputId": "0dabd66a-197b-48cd-e3a5-b2a3a414ba92"
      },
      "outputs": [
        {
          "name": "stdout",
          "output_type": "stream",
          "text": [
            "Random Forest Classifier Training Score: 1.0\n",
            "Random Forest Classifier Testing Score: 0.941747572815534\n"
          ]
        }
      ],
      "source": [
        "# fit random forest classifier model to xtrain scaled & ytrain, check model accuracy against training dataset and test dataset\n",
        "clf = RandomForestClassifier(random_state=1, n_estimators=500).fit(X_train_scaled, y_train)\n",
        "print(f'Random Forest Classifier Training Score: {clf.score(X_train_scaled, y_train)}')\n",
        "print(f'Random Forest Classifier Testing Score: {clf.score(X_test_scaled, y_test)}')"
      ]
    },
    {
      "cell_type": "code",
      "execution_count": 38,
      "metadata": {
        "colab": {
          "base_uri": "https://localhost:8080/"
        },
        "id": "_aMJn3-nTInn",
        "outputId": "1d25399b-0df7-4596-a12c-2f8ee08e24ca"
      },
      "outputs": [
        {
          "data": {
            "text/plain": [
              "array([[ 18,  17],\n",
              "       [  7, 370]])"
            ]
          },
          "execution_count": 38,
          "metadata": {},
          "output_type": "execute_result"
        }
      ],
      "source": [
        "# create confusion matrix\n",
        "y_true = y_test\n",
        "y_pred = clf.predict(X_test_scaled)\n",
        "confusion_matrix(y_true, y_pred)"
      ]
    },
    {
      "cell_type": "code",
      "execution_count": 39,
      "metadata": {
        "colab": {
          "base_uri": "https://localhost:8080/"
        },
        "id": "PMkunukITIno",
        "outputId": "9fab7a53-6577-4cfc-c75c-53763af9e749"
      },
      "outputs": [
        {
          "name": "stdout",
          "output_type": "stream",
          "text": [
            "              precision    recall  f1-score   support\n",
            "\n",
            "           0       0.72      0.51      0.60        35\n",
            "           1       0.96      0.98      0.97       377\n",
            "\n",
            "    accuracy                           0.94       412\n",
            "   macro avg       0.84      0.75      0.78       412\n",
            "weighted avg       0.94      0.94      0.94       412\n",
            "\n"
          ]
        }
      ],
      "source": [
        "# create classification report\n",
        "print(classification_report(y_true, y_pred))"
      ]
    },
    {
      "cell_type": "code",
      "execution_count": 40,
      "metadata": {
        "colab": {
          "base_uri": "https://localhost:8080/",
          "height": 317
        },
        "id": "ik4-TBRaTIno",
        "outputId": "cf043b27-0ffc-4d59-f45b-145d78c7e9db"
      },
      "outputs": [
        {
          "name": "stdout",
          "output_type": "stream",
          "text": [
            "[0.11060586 0.11305862 0.09605604 0.14781149 0.13156843 0.01829687\n",
            " 0.0464951  0.13718323 0.02193348 0.01858235 0.03077734 0.02191863\n",
            " 0.02889061 0.01746248 0.01747569 0.02282658 0.01905719]\n"
          ]
        },
        {
          "data": {
            "image/png": "[encoded data removed]",
            "text/plain": [
              "<Figure size 432x288 with 1 Axes>"
            ]
          },
          "metadata": {
            "needs_background": "light"
          },
          "output_type": "display_data"
        }
      ],
      "source": [
        "# Save the feature importances from the Random Forests classifier model to a variable named feature_importances\n",
        "features = clf.feature_importances_\n",
        "print(features)\n",
        "plt.bar(x = range(len(features)), height=features)\n",
        "plt.show()"
      ]
    },
    {
      "cell_type": "code",
      "execution_count": 41,
      "metadata": {
        "colab": {
          "base_uri": "https://localhost:8080/",
          "height": 1000
        },
        "id": "_LAg4UwlTIno",
        "outputId": "c005beef-5332-436d-ab59-f41f0c50491e"
      },
      "outputs": [
        {
          "data": {
            "image/png": "[encoded data removed]",
            "text/plain": [
              "<Figure size 720x1440 with 1 Axes>"
            ]
          },
          "metadata": {
            "needs_background": "light"
          },
          "output_type": "display_data"
        }
      ],
      "source": [
        "# Use the following code to plot the most important features\n",
        "features = sorted(zip(X.columns, features), key = lambda x: x[1])\n",
        "cols = [f[0] for f in features]\n",
        "width = [f[1] for f in features]\n",
        "\n",
        "fig, ax = plt.subplots()\n",
        "\n",
        "fig.set_size_inches(10,20)\n",
        "plt.margins(y=0.001)\n",
        "\n",
        "ax.barh(y=cols, width=width)\n",
        "\n",
        "plt.show()"
      ]
    },
    {
      "cell_type": "markdown",
      "metadata": {
        "id": "-nRJd1TeTIno"
      },
      "source": [
        "# K Nearest Neighbors"
      ]
    },
    {
      "cell_type": "code",
      "execution_count": 42,
      "metadata": {
        "colab": {
          "base_uri": "https://localhost:8080/",
          "height": 288
        },
        "id": "bUTEA9gNTIno",
        "outputId": "d75324b5-5794-472c-a860-395d3cfdb99a"
      },
      "outputs": [
        {
          "name": "stdout",
          "output_type": "stream",
          "text": [
            "1648\n"
          ]
        },
        {
          "data": {
            "text/html": [
              "\n",
              "  <div id=\"df-68a0c4d3-a624-4fd4-af78-9f269ce7d1a6\">\n",
              "    <div class=\"colab-df-container\">\n",
              "      <div>\n",
              "<style scoped>\n",
              "    .dataframe tbody tr th:only-of-type {\n",
              "        vertical-align: middle;\n",
              "    }\n",
              "\n",
              "    .dataframe tbody tr th {\n",
              "        vertical-align: top;\n",
              "    }\n",
              "\n",
              "    .dataframe thead th {\n",
              "        text-align: right;\n",
              "    }\n",
              "</style>\n",
              "<table border=\"1\" class=\"dataframe\">\n",
              "  <thead>\n",
              "    <tr style=\"text-align: right;\">\n",
              "      <th></th>\n",
              "      <th>mass_grams</th>\n",
              "      <th>fall</th>\n",
              "      <th>year</th>\n",
              "      <th>reclat</th>\n",
              "      <th>reclong</th>\n",
              "      <th>elevation</th>\n",
              "      <th>FIPS</th>\n",
              "      <th>area_sqkm</th>\n",
              "      <th>meteorite_class</th>\n",
              "      <th>BARE</th>\n",
              "      <th>CROPL</th>\n",
              "      <th>FOREST</th>\n",
              "      <th>GRSL</th>\n",
              "      <th>SHRUBL</th>\n",
              "      <th>SPARSE_VEGETATION</th>\n",
              "      <th>URBAN</th>\n",
              "      <th>WATER</th>\n",
              "      <th>WETL</th>\n",
              "    </tr>\n",
              "  </thead>\n",
              "  <tbody>\n",
              "    <tr>\n",
              "      <th>0</th>\n",
              "      <td>32000.0</td>\n",
              "      <td>0</td>\n",
              "      <td>1899</td>\n",
              "      <td>42.53333</td>\n",
              "      <td>-85.88333</td>\n",
              "      <td>225.0</td>\n",
              "      <td>26</td>\n",
              "      <td>250487</td>\n",
              "      <td>0</td>\n",
              "      <td>0.241572</td>\n",
              "      <td>35.820019</td>\n",
              "      <td>52.486729</td>\n",
              "      <td>4.448891</td>\n",
              "      <td>0.668927</td>\n",
              "      <td>0.026182</td>\n",
              "      <td>3.350872</td>\n",
              "      <td>2.644462</td>\n",
              "      <td>0.312346</td>\n",
              "    </tr>\n",
              "    <tr>\n",
              "      <th>1</th>\n",
              "      <td>469.0</td>\n",
              "      <td>0</td>\n",
              "      <td>1994</td>\n",
              "      <td>43.76111</td>\n",
              "      <td>-84.50778</td>\n",
              "      <td>218.0</td>\n",
              "      <td>26</td>\n",
              "      <td>250487</td>\n",
              "      <td>0</td>\n",
              "      <td>0.241572</td>\n",
              "      <td>35.820019</td>\n",
              "      <td>52.486729</td>\n",
              "      <td>4.448891</td>\n",
              "      <td>0.668927</td>\n",
              "      <td>0.026182</td>\n",
              "      <td>3.350872</td>\n",
              "      <td>2.644462</td>\n",
              "      <td>0.312346</td>\n",
              "    </tr>\n",
              "    <tr>\n",
              "      <th>2</th>\n",
              "      <td>10600.0</td>\n",
              "      <td>0</td>\n",
              "      <td>1921</td>\n",
              "      <td>44.51667</td>\n",
              "      <td>-83.95000</td>\n",
              "      <td>387.0</td>\n",
              "      <td>26</td>\n",
              "      <td>250487</td>\n",
              "      <td>0</td>\n",
              "      <td>0.241572</td>\n",
              "      <td>35.820019</td>\n",
              "      <td>52.486729</td>\n",
              "      <td>4.448891</td>\n",
              "      <td>0.668927</td>\n",
              "      <td>0.026182</td>\n",
              "      <td>3.350872</td>\n",
              "      <td>2.644462</td>\n",
              "      <td>0.312346</td>\n",
              "    </tr>\n",
              "    <tr>\n",
              "      <th>3</th>\n",
              "      <td>1551.0</td>\n",
              "      <td>0</td>\n",
              "      <td>1997</td>\n",
              "      <td>42.38467</td>\n",
              "      <td>-83.61150</td>\n",
              "      <td>279.0</td>\n",
              "      <td>26</td>\n",
              "      <td>250487</td>\n",
              "      <td>0</td>\n",
              "      <td>0.241572</td>\n",
              "      <td>35.820019</td>\n",
              "      <td>52.486729</td>\n",
              "      <td>4.448891</td>\n",
              "      <td>0.668927</td>\n",
              "      <td>0.026182</td>\n",
              "      <td>3.350872</td>\n",
              "      <td>2.644462</td>\n",
              "      <td>0.312346</td>\n",
              "    </tr>\n",
              "    <tr>\n",
              "      <th>4</th>\n",
              "      <td>51700.0</td>\n",
              "      <td>1</td>\n",
              "      <td>1883</td>\n",
              "      <td>42.96667</td>\n",
              "      <td>-85.76667</td>\n",
              "      <td>225.0</td>\n",
              "      <td>26</td>\n",
              "      <td>250487</td>\n",
              "      <td>1</td>\n",
              "      <td>0.241572</td>\n",
              "      <td>35.820019</td>\n",
              "      <td>52.486729</td>\n",
              "      <td>4.448891</td>\n",
              "      <td>0.668927</td>\n",
              "      <td>0.026182</td>\n",
              "      <td>3.350872</td>\n",
              "      <td>2.644462</td>\n",
              "      <td>0.312346</td>\n",
              "    </tr>\n",
              "  </tbody>\n",
              "</table>\n",
              "</div>\n",
              "      <button class=\"colab-df-convert\" onclick=\"convertToInteractive('df-68a0c4d3-a624-4fd4-af78-9f269ce7d1a6')\"\n",
              "              title=\"Convert this dataframe to an interactive table.\"\n",
              "              style=\"display:none;\">\n",
              "        \n",
              "  <svg xmlns=\"http://www.w3.org/2000/svg\" height=\"24px\"viewBox=\"0 0 24 24\"\n",
              "       width=\"24px\">\n",
              "    <path d=\"M0 0h24v24H0V0z\" fill=\"none\"/>\n",
              "    <path d=\"M18.56 5.44l.94 2.06.94-2.06 2.06-.94-2.06-.94-.94-2.06-.94 2.06-2.06.94zm-11 1L8.5 8.5l.94-2.06 2.06-.94-2.06-.94L8.5 2.5l-.94 2.06-2.06.94zm10 10l.94 2.06.94-2.06 2.06-.94-2.06-.94-.94-2.06-.94 2.06-2.06.94z\"/><path d=\"M17.41 7.96l-1.37-1.37c-.4-.4-.92-.59-1.43-.59-.52 0-1.04.2-1.43.59L10.3 9.45l-7.72 7.72c-.78.78-.78 2.05 0 2.83L4 21.41c.39.39.9.59 1.41.59.51 0 1.02-.2 1.41-.59l7.78-7.78 2.81-2.81c.8-.78.8-2.07 0-2.86zM5.41 20L4 18.59l7.72-7.72 1.47 1.35L5.41 20z\"/>\n",
              "  </svg>\n",
              "      </button>\n",
              "      \n",
              "  <style>\n",
              "    .colab-df-container {\n",
              "      display:flex;\n",
              "      flex-wrap:wrap;\n",
              "      gap: 12px;\n",
              "    }\n",
              "\n",
              "    .colab-df-convert {\n",
              "      background-color: #E8F0FE;\n",
              "      border: none;\n",
              "      border-radius: 50%;\n",
              "      cursor: pointer;\n",
              "      display: none;\n",
              "      fill: #1967D2;\n",
              "      height: 32px;\n",
              "      padding: 0 0 0 0;\n",
              "      width: 32px;\n",
              "    }\n",
              "\n",
              "    .colab-df-convert:hover {\n",
              "      background-color: #E2EBFA;\n",
              "      box-shadow: 0px 1px 2px rgba(60, 64, 67, 0.3), 0px 1px 3px 1px rgba(60, 64, 67, 0.15);\n",
              "      fill: #174EA6;\n",
              "    }\n",
              "\n",
              "    [theme=dark] .colab-df-convert {\n",
              "      background-color: #3B4455;\n",
              "      fill: #D2E3FC;\n",
              "    }\n",
              "\n",
              "    [theme=dark] .colab-df-convert:hover {\n",
              "      background-color: #434B5C;\n",
              "      box-shadow: 0px 1px 3px 1px rgba(0, 0, 0, 0.15);\n",
              "      filter: drop-shadow(0px 1px 2px rgba(0, 0, 0, 0.3));\n",
              "      fill: #FFFFFF;\n",
              "    }\n",
              "  </style>\n",
              "\n",
              "      <script>\n",
              "        const buttonEl =\n",
              "          document.querySelector('#df-68a0c4d3-a624-4fd4-af78-9f269ce7d1a6 button.colab-df-convert');\n",
              "        buttonEl.style.display =\n",
              "          google.colab.kernel.accessAllowed ? 'block' : 'none';\n",
              "\n",
              "        async function convertToInteractive(key) {\n",
              "          const element = document.querySelector('#df-68a0c4d3-a624-4fd4-af78-9f269ce7d1a6');\n",
              "          const dataTable =\n",
              "            await google.colab.kernel.invokeFunction('convertToInteractive',\n",
              "                                                     [key], {});\n",
              "          if (!dataTable) return;\n",
              "\n",
              "          const docLinkHtml = 'Like what you see? Visit the ' +\n",
              "            '<a target=\"_blank\" href=https://colab.research.google.com/notebooks/data_table.ipynb>data table notebook</a>'\n",
              "            + ' to learn more about interactive tables.';\n",
              "          element.innerHTML = '';\n",
              "          dataTable['output_type'] = 'display_data';\n",
              "          await google.colab.output.renderOutput(dataTable, element);\n",
              "          const docLink = document.createElement('div');\n",
              "          docLink.innerHTML = docLinkHtml;\n",
              "          element.appendChild(docLink);\n",
              "        }\n",
              "      </script>\n",
              "    </div>\n",
              "  </div>\n",
              "  "
            ],
            "text/plain": [
              "   mass_grams  fall  year    reclat   reclong  elevation  FIPS  area_sqkm  \\\n",
              "0     32000.0     0  1899  42.53333 -85.88333      225.0    26     250487   \n",
              "1       469.0     0  1994  43.76111 -84.50778      218.0    26     250487   \n",
              "2     10600.0     0  1921  44.51667 -83.95000      387.0    26     250487   \n",
              "3      1551.0     0  1997  42.38467 -83.61150      279.0    26     250487   \n",
              "4     51700.0     1  1883  42.96667 -85.76667      225.0    26     250487   \n",
              "\n",
              "   meteorite_class      BARE      CROPL     FOREST      GRSL    SHRUBL  \\\n",
              "0                0  0.241572  35.820019  52.486729  4.448891  0.668927   \n",
              "1                0  0.241572  35.820019  52.486729  4.448891  0.668927   \n",
              "2                0  0.241572  35.820019  52.486729  4.448891  0.668927   \n",
              "3                0  0.241572  35.820019  52.486729  4.448891  0.668927   \n",
              "4                1  0.241572  35.820019  52.486729  4.448891  0.668927   \n",
              "\n",
              "   SPARSE_VEGETATION     URBAN     WATER      WETL  \n",
              "0           0.026182  3.350872  2.644462  0.312346  \n",
              "1           0.026182  3.350872  2.644462  0.312346  \n",
              "2           0.026182  3.350872  2.644462  0.312346  \n",
              "3           0.026182  3.350872  2.644462  0.312346  \n",
              "4           0.026182  3.350872  2.644462  0.312346  "
            ]
          },
          "execution_count": 42,
          "metadata": {},
          "output_type": "execute_result"
        }
      ],
      "source": [
        "# check input df\n",
        "print(len(ml_unscaled))\n",
        "ml_unscaled.head()"
      ]
    },
    {
      "cell_type": "code",
      "execution_count": 43,
      "metadata": {
        "colab": {
          "base_uri": "https://localhost:8080/",
          "height": 288
        },
        "id": "GTxefMhHTIno",
        "outputId": "91705ef6-f39d-4ba2-f756-7b2b75b58c6d"
      },
      "outputs": [
        {
          "name": "stdout",
          "output_type": "stream",
          "text": [
            "1648\n"
          ]
        },
        {
          "data": {
            "text/html": [
              "\n",
              "  <div id=\"df-97e54f9e-5e19-4d62-a149-93b59c848678\">\n",
              "    <div class=\"colab-df-container\">\n",
              "      <div>\n",
              "<style scoped>\n",
              "    .dataframe tbody tr th:only-of-type {\n",
              "        vertical-align: middle;\n",
              "    }\n",
              "\n",
              "    .dataframe tbody tr th {\n",
              "        vertical-align: top;\n",
              "    }\n",
              "\n",
              "    .dataframe thead th {\n",
              "        text-align: right;\n",
              "    }\n",
              "</style>\n",
              "<table border=\"1\" class=\"dataframe\">\n",
              "  <thead>\n",
              "    <tr style=\"text-align: right;\">\n",
              "      <th></th>\n",
              "      <th>mass_grams</th>\n",
              "      <th>year</th>\n",
              "      <th>reclat</th>\n",
              "      <th>reclong</th>\n",
              "      <th>elevation</th>\n",
              "      <th>FIPS</th>\n",
              "      <th>area_sqkm</th>\n",
              "      <th>meteorite_class</th>\n",
              "      <th>BARE</th>\n",
              "      <th>CROPL</th>\n",
              "      <th>FOREST</th>\n",
              "      <th>GRSL</th>\n",
              "      <th>SHRUBL</th>\n",
              "      <th>SPARSE_VEGETATION</th>\n",
              "      <th>URBAN</th>\n",
              "      <th>WATER</th>\n",
              "      <th>WETL</th>\n",
              "    </tr>\n",
              "  </thead>\n",
              "  <tbody>\n",
              "    <tr>\n",
              "      <th>0</th>\n",
              "      <td>32000.0</td>\n",
              "      <td>1899</td>\n",
              "      <td>42.53333</td>\n",
              "      <td>-85.88333</td>\n",
              "      <td>225.0</td>\n",
              "      <td>26</td>\n",
              "      <td>250487</td>\n",
              "      <td>0</td>\n",
              "      <td>0.241572</td>\n",
              "      <td>35.820019</td>\n",
              "      <td>52.486729</td>\n",
              "      <td>4.448891</td>\n",
              "      <td>0.668927</td>\n",
              "      <td>0.026182</td>\n",
              "      <td>3.350872</td>\n",
              "      <td>2.644462</td>\n",
              "      <td>0.312346</td>\n",
              "    </tr>\n",
              "    <tr>\n",
              "      <th>1</th>\n",
              "      <td>469.0</td>\n",
              "      <td>1994</td>\n",
              "      <td>43.76111</td>\n",
              "      <td>-84.50778</td>\n",
              "      <td>218.0</td>\n",
              "      <td>26</td>\n",
              "      <td>250487</td>\n",
              "      <td>0</td>\n",
              "      <td>0.241572</td>\n",
              "      <td>35.820019</td>\n",
              "      <td>52.486729</td>\n",
              "      <td>4.448891</td>\n",
              "      <td>0.668927</td>\n",
              "      <td>0.026182</td>\n",
              "      <td>3.350872</td>\n",
              "      <td>2.644462</td>\n",
              "      <td>0.312346</td>\n",
              "    </tr>\n",
              "    <tr>\n",
              "      <th>2</th>\n",
              "      <td>10600.0</td>\n",
              "      <td>1921</td>\n",
              "      <td>44.51667</td>\n",
              "      <td>-83.95000</td>\n",
              "      <td>387.0</td>\n",
              "      <td>26</td>\n",
              "      <td>250487</td>\n",
              "      <td>0</td>\n",
              "      <td>0.241572</td>\n",
              "      <td>35.820019</td>\n",
              "      <td>52.486729</td>\n",
              "      <td>4.448891</td>\n",
              "      <td>0.668927</td>\n",
              "      <td>0.026182</td>\n",
              "      <td>3.350872</td>\n",
              "      <td>2.644462</td>\n",
              "      <td>0.312346</td>\n",
              "    </tr>\n",
              "    <tr>\n",
              "      <th>3</th>\n",
              "      <td>1551.0</td>\n",
              "      <td>1997</td>\n",
              "      <td>42.38467</td>\n",
              "      <td>-83.61150</td>\n",
              "      <td>279.0</td>\n",
              "      <td>26</td>\n",
              "      <td>250487</td>\n",
              "      <td>0</td>\n",
              "      <td>0.241572</td>\n",
              "      <td>35.820019</td>\n",
              "      <td>52.486729</td>\n",
              "      <td>4.448891</td>\n",
              "      <td>0.668927</td>\n",
              "      <td>0.026182</td>\n",
              "      <td>3.350872</td>\n",
              "      <td>2.644462</td>\n",
              "      <td>0.312346</td>\n",
              "    </tr>\n",
              "    <tr>\n",
              "      <th>4</th>\n",
              "      <td>51700.0</td>\n",
              "      <td>1883</td>\n",
              "      <td>42.96667</td>\n",
              "      <td>-85.76667</td>\n",
              "      <td>225.0</td>\n",
              "      <td>26</td>\n",
              "      <td>250487</td>\n",
              "      <td>1</td>\n",
              "      <td>0.241572</td>\n",
              "      <td>35.820019</td>\n",
              "      <td>52.486729</td>\n",
              "      <td>4.448891</td>\n",
              "      <td>0.668927</td>\n",
              "      <td>0.026182</td>\n",
              "      <td>3.350872</td>\n",
              "      <td>2.644462</td>\n",
              "      <td>0.312346</td>\n",
              "    </tr>\n",
              "  </tbody>\n",
              "</table>\n",
              "</div>\n",
              "      <button class=\"colab-df-convert\" onclick=\"convertToInteractive('df-97e54f9e-5e19-4d62-a149-93b59c848678')\"\n",
              "              title=\"Convert this dataframe to an interactive table.\"\n",
              "              style=\"display:none;\">\n",
              "        \n",
              "  <svg xmlns=\"http://www.w3.org/2000/svg\" height=\"24px\"viewBox=\"0 0 24 24\"\n",
              "       width=\"24px\">\n",
              "    <path d=\"M0 0h24v24H0V0z\" fill=\"none\"/>\n",
              "    <path d=\"M18.56 5.44l.94 2.06.94-2.06 2.06-.94-2.06-.94-.94-2.06-.94 2.06-2.06.94zm-11 1L8.5 8.5l.94-2.06 2.06-.94-2.06-.94L8.5 2.5l-.94 2.06-2.06.94zm10 10l.94 2.06.94-2.06 2.06-.94-2.06-.94-.94-2.06-.94 2.06-2.06.94z\"/><path d=\"M17.41 7.96l-1.37-1.37c-.4-.4-.92-.59-1.43-.59-.52 0-1.04.2-1.43.59L10.3 9.45l-7.72 7.72c-.78.78-.78 2.05 0 2.83L4 21.41c.39.39.9.59 1.41.59.51 0 1.02-.2 1.41-.59l7.78-7.78 2.81-2.81c.8-.78.8-2.07 0-2.86zM5.41 20L4 18.59l7.72-7.72 1.47 1.35L5.41 20z\"/>\n",
              "  </svg>\n",
              "      </button>\n",
              "      \n",
              "  <style>\n",
              "    .colab-df-container {\n",
              "      display:flex;\n",
              "      flex-wrap:wrap;\n",
              "      gap: 12px;\n",
              "    }\n",
              "\n",
              "    .colab-df-convert {\n",
              "      background-color: #E8F0FE;\n",
              "      border: none;\n",
              "      border-radius: 50%;\n",
              "      cursor: pointer;\n",
              "      display: none;\n",
              "      fill: #1967D2;\n",
              "      height: 32px;\n",
              "      padding: 0 0 0 0;\n",
              "      width: 32px;\n",
              "    }\n",
              "\n",
              "    .colab-df-convert:hover {\n",
              "      background-color: #E2EBFA;\n",
              "      box-shadow: 0px 1px 2px rgba(60, 64, 67, 0.3), 0px 1px 3px 1px rgba(60, 64, 67, 0.15);\n",
              "      fill: #174EA6;\n",
              "    }\n",
              "\n",
              "    [theme=dark] .colab-df-convert {\n",
              "      background-color: #3B4455;\n",
              "      fill: #D2E3FC;\n",
              "    }\n",
              "\n",
              "    [theme=dark] .colab-df-convert:hover {\n",
              "      background-color: #434B5C;\n",
              "      box-shadow: 0px 1px 3px 1px rgba(0, 0, 0, 0.15);\n",
              "      filter: drop-shadow(0px 1px 2px rgba(0, 0, 0, 0.3));\n",
              "      fill: #FFFFFF;\n",
              "    }\n",
              "  </style>\n",
              "\n",
              "      <script>\n",
              "        const buttonEl =\n",
              "          document.querySelector('#df-97e54f9e-5e19-4d62-a149-93b59c848678 button.colab-df-convert');\n",
              "        buttonEl.style.display =\n",
              "          google.colab.kernel.accessAllowed ? 'block' : 'none';\n",
              "\n",
              "        async function convertToInteractive(key) {\n",
              "          const element = document.querySelector('#df-97e54f9e-5e19-4d62-a149-93b59c848678');\n",
              "          const dataTable =\n",
              "            await google.colab.kernel.invokeFunction('convertToInteractive',\n",
              "                                                     [key], {});\n",
              "          if (!dataTable) return;\n",
              "\n",
              "          const docLinkHtml = 'Like what you see? Visit the ' +\n",
              "            '<a target=\"_blank\" href=https://colab.research.google.com/notebooks/data_table.ipynb>data table notebook</a>'\n",
              "            + ' to learn more about interactive tables.';\n",
              "          element.innerHTML = '';\n",
              "          dataTable['output_type'] = 'display_data';\n",
              "          await google.colab.output.renderOutput(dataTable, element);\n",
              "          const docLink = document.createElement('div');\n",
              "          docLink.innerHTML = docLinkHtml;\n",
              "          element.appendChild(docLink);\n",
              "        }\n",
              "      </script>\n",
              "    </div>\n",
              "  </div>\n",
              "  "
            ],
            "text/plain": [
              "   mass_grams  year    reclat   reclong  elevation  FIPS  area_sqkm  \\\n",
              "0     32000.0  1899  42.53333 -85.88333      225.0    26     250487   \n",
              "1       469.0  1994  43.76111 -84.50778      218.0    26     250487   \n",
              "2     10600.0  1921  44.51667 -83.95000      387.0    26     250487   \n",
              "3      1551.0  1997  42.38467 -83.61150      279.0    26     250487   \n",
              "4     51700.0  1883  42.96667 -85.76667      225.0    26     250487   \n",
              "\n",
              "   meteorite_class      BARE      CROPL     FOREST      GRSL    SHRUBL  \\\n",
              "0                0  0.241572  35.820019  52.486729  4.448891  0.668927   \n",
              "1                0  0.241572  35.820019  52.486729  4.448891  0.668927   \n",
              "2                0  0.241572  35.820019  52.486729  4.448891  0.668927   \n",
              "3                0  0.241572  35.820019  52.486729  4.448891  0.668927   \n",
              "4                1  0.241572  35.820019  52.486729  4.448891  0.668927   \n",
              "\n",
              "   SPARSE_VEGETATION     URBAN     WATER      WETL  \n",
              "0           0.026182  3.350872  2.644462  0.312346  \n",
              "1           0.026182  3.350872  2.644462  0.312346  \n",
              "2           0.026182  3.350872  2.644462  0.312346  \n",
              "3           0.026182  3.350872  2.644462  0.312346  \n",
              "4           0.026182  3.350872  2.644462  0.312346  "
            ]
          },
          "execution_count": 43,
          "metadata": {},
          "output_type": "execute_result"
        }
      ],
      "source": [
        "# create X df\n",
        "X = ml_unscaled.drop('fall',axis =1)\n",
        "print(len(X))\n",
        "X.head()"
      ]
    },
    {
      "cell_type": "code",
      "execution_count": 44,
      "metadata": {
        "id": "QD2jV-5hTIno"
      },
      "outputs": [],
      "source": [
        "# create y series\n",
        "y = ml_unscaled['fall'].values"
      ]
    },
    {
      "cell_type": "code",
      "execution_count": 45,
      "metadata": {
        "id": "pht_ahELTIno"
      },
      "outputs": [],
      "source": [
        "# split data into xtrain and ytrain\n",
        "X_train, X_test, y_train, y_test = train_test_split(X, y, random_state=1)\n",
        "\n",
        "# Create a StandardScater model and fit it to the training data\n",
        "X_scaler = StandardScaler()\n",
        "X_scaler.fit(X_train)\n",
        "\n",
        "# Transform the training and testing data by using the X_scaler and y_scaler models\n",
        "X_train_scaled = X_scaler.transform(X_train)\n",
        "X_test_scaled = X_scaler.transform(X_test)"
      ]
    },
    {
      "cell_type": "code",
      "execution_count": 46,
      "metadata": {
        "colab": {
          "base_uri": "https://localhost:8080/",
          "height": 453
        },
        "id": "WzzdUEWnTIno",
        "outputId": "fd4d2b7f-b8d7-48ff-85d8-b04deebcab7c"
      },
      "outputs": [
        {
          "name": "stdout",
          "output_type": "stream",
          "text": [
            "k: 1, Train/Test Score: 1.000/0.920\n",
            "k: 3, Train/Test Score: 0.950/0.925\n",
            "k: 5, Train/Test Score: 0.934/0.917\n",
            "k: 7, Train/Test Score: 0.931/0.925\n",
            "k: 9, Train/Test Score: 0.930/0.930\n",
            "k: 11, Train/Test Score: 0.926/0.925\n",
            "k: 13, Train/Test Score: 0.922/0.930\n",
            "k: 15, Train/Test Score: 0.924/0.922\n",
            "k: 17, Train/Test Score: 0.922/0.922\n",
            "k: 19, Train/Test Score: 0.920/0.917\n"
          ]
        },
        {
          "data": {
            "image/png": "[encoded data removed]",
            "text/plain": [
              "<Figure size 432x288 with 1 Axes>"
            ]
          },
          "metadata": {
            "needs_background": "light"
          },
          "output_type": "display_data"
        }
      ],
      "source": [
        "# Loop through different k values to find which has the highest accuracy.\n",
        "# Note: We use only odd numbers because we don't want any ties.\n",
        "train_scores = []\n",
        "test_scores = []\n",
        "for k in range(1, 20, 2):\n",
        "    knn = KNeighborsClassifier(n_neighbors=k)\n",
        "    knn.fit(X_train_scaled, y_train)\n",
        "    train_score = knn.score(X_train_scaled, y_train)\n",
        "    test_score = knn.score(X_test_scaled, y_test)\n",
        "    train_scores.append(train_score)\n",
        "    test_scores.append(test_score)\n",
        "    print(f\"k: {k}, Train/Test Score: {train_score:.3f}/{test_score:.3f}\")\n",
        "    \n",
        "    \n",
        "plt.plot(range(1, 20, 2), train_scores, marker='o')\n",
        "plt.plot(range(1, 20, 2), test_scores, marker=\"x\")\n",
        "plt.xlabel(\"k neighbors\")\n",
        "plt.ylabel(\"Testing accuracy score\")\n",
        "plt.show()"
      ]
    },
    {
      "cell_type": "code",
      "execution_count": 47,
      "metadata": {
        "colab": {
          "base_uri": "https://localhost:8080/"
        },
        "id": "KyKqvChSTIno",
        "outputId": "591019b5-d9ad-46b6-c9b3-a1a09614cc4c"
      },
      "outputs": [
        {
          "name": "stdout",
          "output_type": "stream",
          "text": [
            "k=17 Test Acc: 0.922\n"
          ]
        }
      ],
      "source": [
        "# K = 17 Note that k: 17 returns highest precision for test set, but k:5 would be selected based on elbow chart\n",
        "knn = KNeighborsClassifier(n_neighbors=17)\n",
        "knn.fit(X_train_scaled, y_train)\n",
        "print('k=17 Test Acc: %.3f' % knn.score(X_test_scaled, y_test))"
      ]
    },
    {
      "cell_type": "code",
      "execution_count": 48,
      "metadata": {
        "colab": {
          "base_uri": "https://localhost:8080/"
        },
        "id": "UjsZ1UQWTIno",
        "outputId": "212fc93c-c59d-41c6-eb95-be9a4224fe08"
      },
      "outputs": [
        {
          "name": "stdout",
          "output_type": "stream",
          "text": [
            "k=5 Test Acc: 0.917\n"
          ]
        }
      ],
      "source": [
        "# K = 5  Note that k: 17 returns highest precision for test set, but k:5 would be selected based on elbow chart\n",
        "knn2 = KNeighborsClassifier(n_neighbors=5)\n",
        "knn2.fit(X_train_scaled, y_train)\n",
        "print('k=5 Test Acc: %.3f' % knn2.score(X_test_scaled, y_test))"
      ]
    },
    {
      "cell_type": "code",
      "execution_count": 49,
      "metadata": {
        "colab": {
          "base_uri": "https://localhost:8080/"
        },
        "id": "hwTKvdVrTIno",
        "outputId": "9788bbcb-f934-4659-8466-2bbddc03541f"
      },
      "outputs": [
        {
          "data": {
            "text/plain": [
              "array([[  5,  30],\n",
              "       [  2, 375]])"
            ]
          },
          "execution_count": 49,
          "metadata": {},
          "output_type": "execute_result"
        }
      ],
      "source": [
        "# k = 17 create inputs and run confusion matrix [TrueNegative(25),FalsePositive(10)],[FalseNegative(6),TruePositive(371)]\n",
        "y_true = y_test\n",
        "y_pred = knn.predict(X_test_scaled)\n",
        "confusion_matrix(y_true, y_pred)"
      ]
    },
    {
      "cell_type": "code",
      "execution_count": 50,
      "metadata": {
        "colab": {
          "base_uri": "https://localhost:8080/"
        },
        "id": "aLTxMujqTIno",
        "outputId": "afc88609-681b-4cb7-b929-072f5bdc8e33"
      },
      "outputs": [
        {
          "data": {
            "text/plain": [
              "array([[  6,  29],\n",
              "       [  5, 372]])"
            ]
          },
          "execution_count": 50,
          "metadata": {},
          "output_type": "execute_result"
        }
      ],
      "source": [
        "# k = 5 create inputs and run confusion matrix [TrueNegative(),FalsePositive()],[FalseNegative(),TruePositive()]\n",
        "y_true2 = y_test\n",
        "y_pred2 = knn2.predict(X_test_scaled)\n",
        "confusion_matrix(y_true2, y_pred2)"
      ]
    },
    {
      "cell_type": "code",
      "execution_count": 51,
      "metadata": {
        "colab": {
          "base_uri": "https://localhost:8080/"
        },
        "id": "esWjcS3XTIno",
        "outputId": "d8b57fb8-db11-4ecc-f962-cd7267fe2606"
      },
      "outputs": [
        {
          "name": "stdout",
          "output_type": "stream",
          "text": [
            "              precision    recall  f1-score   support\n",
            "\n",
            "           0       0.71      0.14      0.24        35\n",
            "           1       0.93      0.99      0.96       377\n",
            "\n",
            "    accuracy                           0.92       412\n",
            "   macro avg       0.82      0.57      0.60       412\n",
            "weighted avg       0.91      0.92      0.90       412\n",
            "\n"
          ]
        }
      ],
      "source": [
        "# K = 17 create classification report\n",
        "print(classification_report(y_true, y_pred))"
      ]
    },
    {
      "cell_type": "code",
      "execution_count": 52,
      "metadata": {
        "colab": {
          "base_uri": "https://localhost:8080/"
        },
        "id": "zhsVA4t2TInp",
        "outputId": "3a3da609-1779-4f18-cf49-5c840328458d"
      },
      "outputs": [
        {
          "name": "stdout",
          "output_type": "stream",
          "text": [
            "              precision    recall  f1-score   support\n",
            "\n",
            "           0       0.55      0.17      0.26        35\n",
            "           1       0.93      0.99      0.96       377\n",
            "\n",
            "    accuracy                           0.92       412\n",
            "   macro avg       0.74      0.58      0.61       412\n",
            "weighted avg       0.90      0.92      0.90       412\n",
            "\n"
          ]
        }
      ],
      "source": [
        "# K = 5  create classification report\n",
        "print(classification_report(y_true2, y_pred2))"
      ]
    },
    {
      "cell_type": "markdown",
      "metadata": {
        "id": "jXYBvGQSTInp"
      },
      "source": [
        "# SUPPORT VECTOR CLASSIFIER"
      ]
    },
    {
      "cell_type": "code",
      "execution_count": 53,
      "metadata": {
        "id": "F8ZY9PEoTInp"
      },
      "outputs": [],
      "source": [
        "# # set target\n",
        "# target = ml_unscaled[\"fall\"]\n",
        "# target_names = [\"fall\", \"found\"]"
      ]
    },
    {
      "cell_type": "code",
      "execution_count": 54,
      "metadata": {
        "id": "7T1UOqD9TInp"
      },
      "outputs": [],
      "source": [
        "# # set data\n",
        "# data = ml_unscaled.drop(\"fall\", axis=1)\n",
        "# feature_names = data.columns\n",
        "# data.head()"
      ]
    },
    {
      "cell_type": "code",
      "execution_count": 55,
      "metadata": {
        "id": "12BGg5knTInp"
      },
      "outputs": [],
      "source": [
        "# # split data into train and test, scale x\n",
        "# X_train, X_test, y_train, y_test = train_test_split(data, target, random_state=42)\n",
        "\n",
        "# scaler = StandardScaler()\n",
        "# scaler.fit(X_train)\n",
        "# X_train_scaled = scaler.transform(X_train)\n",
        "# X_test_scaled = scaler.transform(X_test)"
      ]
    },
    {
      "cell_type": "code",
      "execution_count": 56,
      "metadata": {
        "id": "Qj7IPzYATInp"
      },
      "outputs": [],
      "source": [
        "# # Support vector machine linear classifier (took 6 1/2 min with the fan running high)\n",
        "# model = SVC(kernel='linear', probability=True)\n",
        "# model.fit(X_train, y_train)\n",
        "\n",
        "# modelsc = SVC(kernel='linear', probability=True)\n",
        "# modelsc.fit(X_train_scaled, y_train)"
      ]
    },
    {
      "cell_type": "code",
      "execution_count": 57,
      "metadata": {
        "id": "vvM7kO4yTInp"
      },
      "outputs": [],
      "source": [
        "# # plot ROC curve\n",
        "# y_pred_proba = model.predict_proba(X_test)[:,1]\n",
        "# fpr, tpr, thresholds = roc_curve(y_test, y_pred_proba)\n",
        "# roc_auc = auc(fpr, tpr)\n",
        "\n",
        "# plt.figure()\n",
        "# plt.plot(fpr, tpr, color='darkorange',\n",
        "#          label=f'ROC curve (area = {roc_auc:0.2f})')\n",
        "# plt.plot([0, 1], [0, 1], color='navy', linestyle='--')\n",
        "# plt.xlim([0.0, 1.0])\n",
        "# plt.ylim([0.0, 1.05])\n",
        "# plt.xlabel('False Positive Rate')\n",
        "# plt.ylabel('True Positive Rate')\n",
        "# plt.title('Receiver operating characteristic example')\n",
        "# plt.legend(loc=\"lower right\")\n",
        "# plt.show()"
      ]
    },
    {
      "cell_type": "code",
      "execution_count": 58,
      "metadata": {
        "id": "WDCh9SwvTInp"
      },
      "outputs": [],
      "source": [
        "# # Model Accuracy and confusion matrix\n",
        "# print('Test Acc: %.3f' % model.score(X_test, y_test))\n",
        "# print('Scaled Test Acc: %.3f' % modelsc.score(X_test_scaled, y_test))\n",
        "# y_true = y_test\n",
        "# y_pred = model.predict(X_test)\n",
        "# cm = confusion_matrix(y_true, y_pred)\n",
        "# cm"
      ]
    },
    {
      "cell_type": "code",
      "execution_count": 59,
      "metadata": {
        "id": "7uaBeFcgTInp"
      },
      "outputs": [],
      "source": [
        "# # classification report\n",
        "# predictions = model.predict(X_test)\n",
        "# print(classification_report(y_test, predictions,\n",
        "#                             target_names=target_names))"
      ]
    },
    {
      "cell_type": "markdown",
      "metadata": {
        "id": "ag83JPnaTInp"
      },
      "source": [
        "# LINEAR REGRESSION AND LASSO "
      ]
    },
    {
      "cell_type": "code",
      "execution_count": 60,
      "metadata": {
        "id": "SHj9FioFTInp"
      },
      "outputs": [],
      "source": [
        "#  set x and y\n",
        "X = ml_unscaled.drop([\"fall\"], axis=1)\n",
        "y = ml_unscaled['fall']"
      ]
    },
    {
      "cell_type": "code",
      "execution_count": 61,
      "metadata": {
        "colab": {
          "base_uri": "https://localhost:8080/",
          "height": 288
        },
        "id": "ACEi0xo2TInp",
        "outputId": "4a3275e0-197b-4b8f-efaf-b7a988f6951e"
      },
      "outputs": [
        {
          "name": "stdout",
          "output_type": "stream",
          "text": [
            "1648\n"
          ]
        },
        {
          "data": {
            "text/html": [
              "\n",
              "  <div id=\"df-ff26db53-7667-4d72-a7da-1dca70e10033\">\n",
              "    <div class=\"colab-df-container\">\n",
              "      <div>\n",
              "<style scoped>\n",
              "    .dataframe tbody tr th:only-of-type {\n",
              "        vertical-align: middle;\n",
              "    }\n",
              "\n",
              "    .dataframe tbody tr th {\n",
              "        vertical-align: top;\n",
              "    }\n",
              "\n",
              "    .dataframe thead th {\n",
              "        text-align: right;\n",
              "    }\n",
              "</style>\n",
              "<table border=\"1\" class=\"dataframe\">\n",
              "  <thead>\n",
              "    <tr style=\"text-align: right;\">\n",
              "      <th></th>\n",
              "      <th>mass_grams</th>\n",
              "      <th>fall</th>\n",
              "      <th>year</th>\n",
              "      <th>reclat</th>\n",
              "      <th>reclong</th>\n",
              "      <th>elevation</th>\n",
              "      <th>FIPS</th>\n",
              "      <th>area_sqkm</th>\n",
              "      <th>meteorite_class</th>\n",
              "      <th>BARE</th>\n",
              "      <th>CROPL</th>\n",
              "      <th>FOREST</th>\n",
              "      <th>GRSL</th>\n",
              "      <th>SHRUBL</th>\n",
              "      <th>SPARSE_VEGETATION</th>\n",
              "      <th>URBAN</th>\n",
              "      <th>WATER</th>\n",
              "      <th>WETL</th>\n",
              "    </tr>\n",
              "  </thead>\n",
              "  <tbody>\n",
              "    <tr>\n",
              "      <th>0</th>\n",
              "      <td>32000.0</td>\n",
              "      <td>0</td>\n",
              "      <td>1899</td>\n",
              "      <td>42.53333</td>\n",
              "      <td>-85.88333</td>\n",
              "      <td>225.0</td>\n",
              "      <td>26</td>\n",
              "      <td>250487</td>\n",
              "      <td>0</td>\n",
              "      <td>0.241572</td>\n",
              "      <td>35.820019</td>\n",
              "      <td>52.486729</td>\n",
              "      <td>4.448891</td>\n",
              "      <td>0.668927</td>\n",
              "      <td>0.026182</td>\n",
              "      <td>3.350872</td>\n",
              "      <td>2.644462</td>\n",
              "      <td>0.312346</td>\n",
              "    </tr>\n",
              "    <tr>\n",
              "      <th>1</th>\n",
              "      <td>469.0</td>\n",
              "      <td>0</td>\n",
              "      <td>1994</td>\n",
              "      <td>43.76111</td>\n",
              "      <td>-84.50778</td>\n",
              "      <td>218.0</td>\n",
              "      <td>26</td>\n",
              "      <td>250487</td>\n",
              "      <td>0</td>\n",
              "      <td>0.241572</td>\n",
              "      <td>35.820019</td>\n",
              "      <td>52.486729</td>\n",
              "      <td>4.448891</td>\n",
              "      <td>0.668927</td>\n",
              "      <td>0.026182</td>\n",
              "      <td>3.350872</td>\n",
              "      <td>2.644462</td>\n",
              "      <td>0.312346</td>\n",
              "    </tr>\n",
              "    <tr>\n",
              "      <th>2</th>\n",
              "      <td>10600.0</td>\n",
              "      <td>0</td>\n",
              "      <td>1921</td>\n",
              "      <td>44.51667</td>\n",
              "      <td>-83.95000</td>\n",
              "      <td>387.0</td>\n",
              "      <td>26</td>\n",
              "      <td>250487</td>\n",
              "      <td>0</td>\n",
              "      <td>0.241572</td>\n",
              "      <td>35.820019</td>\n",
              "      <td>52.486729</td>\n",
              "      <td>4.448891</td>\n",
              "      <td>0.668927</td>\n",
              "      <td>0.026182</td>\n",
              "      <td>3.350872</td>\n",
              "      <td>2.644462</td>\n",
              "      <td>0.312346</td>\n",
              "    </tr>\n",
              "    <tr>\n",
              "      <th>3</th>\n",
              "      <td>1551.0</td>\n",
              "      <td>0</td>\n",
              "      <td>1997</td>\n",
              "      <td>42.38467</td>\n",
              "      <td>-83.61150</td>\n",
              "      <td>279.0</td>\n",
              "      <td>26</td>\n",
              "      <td>250487</td>\n",
              "      <td>0</td>\n",
              "      <td>0.241572</td>\n",
              "      <td>35.820019</td>\n",
              "      <td>52.486729</td>\n",
              "      <td>4.448891</td>\n",
              "      <td>0.668927</td>\n",
              "      <td>0.026182</td>\n",
              "      <td>3.350872</td>\n",
              "      <td>2.644462</td>\n",
              "      <td>0.312346</td>\n",
              "    </tr>\n",
              "    <tr>\n",
              "      <th>4</th>\n",
              "      <td>51700.0</td>\n",
              "      <td>1</td>\n",
              "      <td>1883</td>\n",
              "      <td>42.96667</td>\n",
              "      <td>-85.76667</td>\n",
              "      <td>225.0</td>\n",
              "      <td>26</td>\n",
              "      <td>250487</td>\n",
              "      <td>1</td>\n",
              "      <td>0.241572</td>\n",
              "      <td>35.820019</td>\n",
              "      <td>52.486729</td>\n",
              "      <td>4.448891</td>\n",
              "      <td>0.668927</td>\n",
              "      <td>0.026182</td>\n",
              "      <td>3.350872</td>\n",
              "      <td>2.644462</td>\n",
              "      <td>0.312346</td>\n",
              "    </tr>\n",
              "  </tbody>\n",
              "</table>\n",
              "</div>\n",
              "      <button class=\"colab-df-convert\" onclick=\"convertToInteractive('df-ff26db53-7667-4d72-a7da-1dca70e10033')\"\n",
              "              title=\"Convert this dataframe to an interactive table.\"\n",
              "              style=\"display:none;\">\n",
              "        \n",
              "  <svg xmlns=\"http://www.w3.org/2000/svg\" height=\"24px\"viewBox=\"0 0 24 24\"\n",
              "       width=\"24px\">\n",
              "    <path d=\"M0 0h24v24H0V0z\" fill=\"none\"/>\n",
              "    <path d=\"M18.56 5.44l.94 2.06.94-2.06 2.06-.94-2.06-.94-.94-2.06-.94 2.06-2.06.94zm-11 1L8.5 8.5l.94-2.06 2.06-.94-2.06-.94L8.5 2.5l-.94 2.06-2.06.94zm10 10l.94 2.06.94-2.06 2.06-.94-2.06-.94-.94-2.06-.94 2.06-2.06.94z\"/><path d=\"M17.41 7.96l-1.37-1.37c-.4-.4-.92-.59-1.43-.59-.52 0-1.04.2-1.43.59L10.3 9.45l-7.72 7.72c-.78.78-.78 2.05 0 2.83L4 21.41c.39.39.9.59 1.41.59.51 0 1.02-.2 1.41-.59l7.78-7.78 2.81-2.81c.8-.78.8-2.07 0-2.86zM5.41 20L4 18.59l7.72-7.72 1.47 1.35L5.41 20z\"/>\n",
              "  </svg>\n",
              "      </button>\n",
              "      \n",
              "  <style>\n",
              "    .colab-df-container {\n",
              "      display:flex;\n",
              "      flex-wrap:wrap;\n",
              "      gap: 12px;\n",
              "    }\n",
              "\n",
              "    .colab-df-convert {\n",
              "      background-color: #E8F0FE;\n",
              "      border: none;\n",
              "      border-radius: 50%;\n",
              "      cursor: pointer;\n",
              "      display: none;\n",
              "      fill: #1967D2;\n",
              "      height: 32px;\n",
              "      padding: 0 0 0 0;\n",
              "      width: 32px;\n",
              "    }\n",
              "\n",
              "    .colab-df-convert:hover {\n",
              "      background-color: #E2EBFA;\n",
              "      box-shadow: 0px 1px 2px rgba(60, 64, 67, 0.3), 0px 1px 3px 1px rgba(60, 64, 67, 0.15);\n",
              "      fill: #174EA6;\n",
              "    }\n",
              "\n",
              "    [theme=dark] .colab-df-convert {\n",
              "      background-color: #3B4455;\n",
              "      fill: #D2E3FC;\n",
              "    }\n",
              "\n",
              "    [theme=dark] .colab-df-convert:hover {\n",
              "      background-color: #434B5C;\n",
              "      box-shadow: 0px 1px 3px 1px rgba(0, 0, 0, 0.15);\n",
              "      filter: drop-shadow(0px 1px 2px rgba(0, 0, 0, 0.3));\n",
              "      fill: #FFFFFF;\n",
              "    }\n",
              "  </style>\n",
              "\n",
              "      <script>\n",
              "        const buttonEl =\n",
              "          document.querySelector('#df-ff26db53-7667-4d72-a7da-1dca70e10033 button.colab-df-convert');\n",
              "        buttonEl.style.display =\n",
              "          google.colab.kernel.accessAllowed ? 'block' : 'none';\n",
              "\n",
              "        async function convertToInteractive(key) {\n",
              "          const element = document.querySelector('#df-ff26db53-7667-4d72-a7da-1dca70e10033');\n",
              "          const dataTable =\n",
              "            await google.colab.kernel.invokeFunction('convertToInteractive',\n",
              "                                                     [key], {});\n",
              "          if (!dataTable) return;\n",
              "\n",
              "          const docLinkHtml = 'Like what you see? Visit the ' +\n",
              "            '<a target=\"_blank\" href=https://colab.research.google.com/notebooks/data_table.ipynb>data table notebook</a>'\n",
              "            + ' to learn more about interactive tables.';\n",
              "          element.innerHTML = '';\n",
              "          dataTable['output_type'] = 'display_data';\n",
              "          await google.colab.output.renderOutput(dataTable, element);\n",
              "          const docLink = document.createElement('div');\n",
              "          docLink.innerHTML = docLinkHtml;\n",
              "          element.appendChild(docLink);\n",
              "        }\n",
              "      </script>\n",
              "    </div>\n",
              "  </div>\n",
              "  "
            ],
            "text/plain": [
              "   mass_grams  fall  year    reclat   reclong  elevation  FIPS  area_sqkm  \\\n",
              "0     32000.0     0  1899  42.53333 -85.88333      225.0    26     250487   \n",
              "1       469.0     0  1994  43.76111 -84.50778      218.0    26     250487   \n",
              "2     10600.0     0  1921  44.51667 -83.95000      387.0    26     250487   \n",
              "3      1551.0     0  1997  42.38467 -83.61150      279.0    26     250487   \n",
              "4     51700.0     1  1883  42.96667 -85.76667      225.0    26     250487   \n",
              "\n",
              "   meteorite_class      BARE      CROPL     FOREST      GRSL    SHRUBL  \\\n",
              "0                0  0.241572  35.820019  52.486729  4.448891  0.668927   \n",
              "1                0  0.241572  35.820019  52.486729  4.448891  0.668927   \n",
              "2                0  0.241572  35.820019  52.486729  4.448891  0.668927   \n",
              "3                0  0.241572  35.820019  52.486729  4.448891  0.668927   \n",
              "4                1  0.241572  35.820019  52.486729  4.448891  0.668927   \n",
              "\n",
              "   SPARSE_VEGETATION     URBAN     WATER      WETL  \n",
              "0           0.026182  3.350872  2.644462  0.312346  \n",
              "1           0.026182  3.350872  2.644462  0.312346  \n",
              "2           0.026182  3.350872  2.644462  0.312346  \n",
              "3           0.026182  3.350872  2.644462  0.312346  \n",
              "4           0.026182  3.350872  2.644462  0.312346  "
            ]
          },
          "execution_count": 61,
          "metadata": {},
          "output_type": "execute_result"
        }
      ],
      "source": [
        "# dataset has 20 features and 1648 samples\n",
        "print(len(ml_unscaled))\n",
        "ml_unscaled.head()"
      ]
    },
    {
      "cell_type": "code",
      "execution_count": 62,
      "metadata": {
        "id": "hJ9zojgmTInp"
      },
      "outputs": [],
      "source": [
        "# split data into test and train, scale x\n",
        "X_train, X_test, y_train, y_test = train_test_split(X, y, random_state=1)\n",
        "scaler = StandardScaler().fit(X_train)\n",
        "X_train_scaled = scaler.transform(X_train)\n",
        "X_test_scaled = scaler.transform(X_test)"
      ]
    },
    {
      "cell_type": "code",
      "execution_count": 63,
      "metadata": {
        "colab": {
          "base_uri": "https://localhost:8080/"
        },
        "id": "p7y0buMoTInp",
        "outputId": "ca81bcd1-0fcb-48cc-e797-986e460e0962"
      },
      "outputs": [
        {
          "data": {
            "text/plain": [
              "0.229573535454356"
            ]
          },
          "execution_count": 63,
          "metadata": {},
          "output_type": "execute_result"
        }
      ],
      "source": [
        "# fit linear regression model, print score\n",
        "reg = LinearRegression().fit(X_train_scaled, y_train)\n",
        "reg.score(X_test_scaled, y_test)"
      ]
    },
    {
      "cell_type": "code",
      "execution_count": 64,
      "metadata": {
        "colab": {
          "base_uri": "https://localhost:8080/"
        },
        "id": "qb1IA2PLTInp",
        "outputId": "08c61ac8-204a-45ba-af7a-3a6b319f5dcd"
      },
      "outputs": [
        {
          "data": {
            "text/plain": [
              "-0.0003031451307311528"
            ]
          },
          "execution_count": 64,
          "metadata": {},
          "output_type": "execute_result"
        }
      ],
      "source": [
        "# Select the columns that have a nonzero value from the LASSO regression.\n",
        "reg = Lasso(max_iter=200).fit(X_train_scaled, y_train)\n",
        "reg.score(X_test_scaled, y_test)"
      ]
    },
    {
      "cell_type": "markdown",
      "metadata": {
        "id": "ZcSk_QvOTInq"
      },
      "source": [
        "'The main problem with lasso regression is when we have correlated variables, it retains only one variable and sets other correlated variables to zero. That will possibly lead to some loss of information resulting in lower accuracy in our model.'\n",
        "\n",
        "https://www.mygreatlearning.com/blog/understanding-of-lasso-regression/#:~:text=The%20main%20problem%20with%20lasso,lower%20accuracy%20in%20our%20model.\n"
      ]
    },
    {
      "cell_type": "markdown",
      "metadata": {
        "id": "w5vUqJrKTInq"
      },
      "source": [
        "# Extremely randomn trees"
      ]
    },
    {
      "cell_type": "code",
      "execution_count": 65,
      "metadata": {
        "id": "GF7RYTO6TInq"
      },
      "outputs": [],
      "source": [
        "#  set x and y\n",
        "X = ml_unscaled.drop([\"fall\"], axis=1)\n",
        "y = ml_unscaled['fall']"
      ]
    },
    {
      "cell_type": "code",
      "execution_count": 66,
      "metadata": {
        "id": "nNgujTvwTInq"
      },
      "outputs": [],
      "source": [
        "# split into test/train, scale x\n",
        "X_train, X_test, y_train, y_test = train_test_split(X, y, random_state=1)\n",
        "scaler = StandardScaler().fit(X_train)\n",
        "X_train_scaled = scaler.transform(X_train)\n",
        "X_test_scaled = scaler.transform(X_test)"
      ]
    },
    {
      "cell_type": "code",
      "execution_count": 67,
      "metadata": {
        "colab": {
          "base_uri": "https://localhost:8080/"
        },
        "id": "VIuJxQSOTInq",
        "outputId": "c2d8f47e-1d5a-4d3c-8181-94683d97c6ee"
      },
      "outputs": [
        {
          "name": "stdout",
          "output_type": "stream",
          "text": [
            "Training Score: 1.0\n",
            "Testing Score: 0.9368932038834952\n"
          ]
        }
      ],
      "source": [
        "# fit extra trees classifier model, print train and test score\n",
        "clf = ExtraTreesClassifier(random_state=1, n_estimators=50).fit(X_train_scaled, y_train)\n",
        "print(f'Training Score: {clf.score(X_train_scaled, y_train)}')\n",
        "print(f'Testing Score: {clf.score(X_test_scaled, y_test)}')"
      ]
    },
    {
      "cell_type": "markdown",
      "metadata": {
        "id": "W5QvoYuzTInq"
      },
      "source": [
        "# Hierarchical Clustering"
      ]
    },
    {
      "cell_type": "code",
      "execution_count": 68,
      "metadata": {
        "colab": {
          "base_uri": "https://localhost:8080/",
          "height": 288
        },
        "id": "6ephPvw8TInq",
        "outputId": "633c1d76-a89b-43ea-a7f7-d85a6cd24e81"
      },
      "outputs": [
        {
          "name": "stdout",
          "output_type": "stream",
          "text": [
            "1648\n"
          ]
        },
        {
          "data": {
            "text/html": [
              "\n",
              "  <div id=\"df-e3c5d12b-bb2d-4b43-ae0c-e26a310fe95a\">\n",
              "    <div class=\"colab-df-container\">\n",
              "      <div>\n",
              "<style scoped>\n",
              "    .dataframe tbody tr th:only-of-type {\n",
              "        vertical-align: middle;\n",
              "    }\n",
              "\n",
              "    .dataframe tbody tr th {\n",
              "        vertical-align: top;\n",
              "    }\n",
              "\n",
              "    .dataframe thead th {\n",
              "        text-align: right;\n",
              "    }\n",
              "</style>\n",
              "<table border=\"1\" class=\"dataframe\">\n",
              "  <thead>\n",
              "    <tr style=\"text-align: right;\">\n",
              "      <th></th>\n",
              "      <th>mass_grams</th>\n",
              "      <th>year</th>\n",
              "      <th>reclat</th>\n",
              "      <th>reclong</th>\n",
              "      <th>elevation</th>\n",
              "      <th>FIPS</th>\n",
              "      <th>area_sqkm</th>\n",
              "      <th>meteorite_class</th>\n",
              "      <th>BARE</th>\n",
              "      <th>CROPL</th>\n",
              "      <th>FOREST</th>\n",
              "      <th>GRSL</th>\n",
              "      <th>SHRUBL</th>\n",
              "      <th>SPARSE_VEGETATION</th>\n",
              "      <th>URBAN</th>\n",
              "      <th>WATER</th>\n",
              "      <th>WETL</th>\n",
              "    </tr>\n",
              "  </thead>\n",
              "  <tbody>\n",
              "    <tr>\n",
              "      <th>0</th>\n",
              "      <td>32000.0</td>\n",
              "      <td>1899</td>\n",
              "      <td>42.53333</td>\n",
              "      <td>-85.88333</td>\n",
              "      <td>225.0</td>\n",
              "      <td>26</td>\n",
              "      <td>250487</td>\n",
              "      <td>0</td>\n",
              "      <td>0.241572</td>\n",
              "      <td>35.820019</td>\n",
              "      <td>52.486729</td>\n",
              "      <td>4.448891</td>\n",
              "      <td>0.668927</td>\n",
              "      <td>0.026182</td>\n",
              "      <td>3.350872</td>\n",
              "      <td>2.644462</td>\n",
              "      <td>0.312346</td>\n",
              "    </tr>\n",
              "    <tr>\n",
              "      <th>1</th>\n",
              "      <td>469.0</td>\n",
              "      <td>1994</td>\n",
              "      <td>43.76111</td>\n",
              "      <td>-84.50778</td>\n",
              "      <td>218.0</td>\n",
              "      <td>26</td>\n",
              "      <td>250487</td>\n",
              "      <td>0</td>\n",
              "      <td>0.241572</td>\n",
              "      <td>35.820019</td>\n",
              "      <td>52.486729</td>\n",
              "      <td>4.448891</td>\n",
              "      <td>0.668927</td>\n",
              "      <td>0.026182</td>\n",
              "      <td>3.350872</td>\n",
              "      <td>2.644462</td>\n",
              "      <td>0.312346</td>\n",
              "    </tr>\n",
              "    <tr>\n",
              "      <th>2</th>\n",
              "      <td>10600.0</td>\n",
              "      <td>1921</td>\n",
              "      <td>44.51667</td>\n",
              "      <td>-83.95000</td>\n",
              "      <td>387.0</td>\n",
              "      <td>26</td>\n",
              "      <td>250487</td>\n",
              "      <td>0</td>\n",
              "      <td>0.241572</td>\n",
              "      <td>35.820019</td>\n",
              "      <td>52.486729</td>\n",
              "      <td>4.448891</td>\n",
              "      <td>0.668927</td>\n",
              "      <td>0.026182</td>\n",
              "      <td>3.350872</td>\n",
              "      <td>2.644462</td>\n",
              "      <td>0.312346</td>\n",
              "    </tr>\n",
              "    <tr>\n",
              "      <th>3</th>\n",
              "      <td>1551.0</td>\n",
              "      <td>1997</td>\n",
              "      <td>42.38467</td>\n",
              "      <td>-83.61150</td>\n",
              "      <td>279.0</td>\n",
              "      <td>26</td>\n",
              "      <td>250487</td>\n",
              "      <td>0</td>\n",
              "      <td>0.241572</td>\n",
              "      <td>35.820019</td>\n",
              "      <td>52.486729</td>\n",
              "      <td>4.448891</td>\n",
              "      <td>0.668927</td>\n",
              "      <td>0.026182</td>\n",
              "      <td>3.350872</td>\n",
              "      <td>2.644462</td>\n",
              "      <td>0.312346</td>\n",
              "    </tr>\n",
              "    <tr>\n",
              "      <th>4</th>\n",
              "      <td>51700.0</td>\n",
              "      <td>1883</td>\n",
              "      <td>42.96667</td>\n",
              "      <td>-85.76667</td>\n",
              "      <td>225.0</td>\n",
              "      <td>26</td>\n",
              "      <td>250487</td>\n",
              "      <td>1</td>\n",
              "      <td>0.241572</td>\n",
              "      <td>35.820019</td>\n",
              "      <td>52.486729</td>\n",
              "      <td>4.448891</td>\n",
              "      <td>0.668927</td>\n",
              "      <td>0.026182</td>\n",
              "      <td>3.350872</td>\n",
              "      <td>2.644462</td>\n",
              "      <td>0.312346</td>\n",
              "    </tr>\n",
              "  </tbody>\n",
              "</table>\n",
              "</div>\n",
              "      <button class=\"colab-df-convert\" onclick=\"convertToInteractive('df-e3c5d12b-bb2d-4b43-ae0c-e26a310fe95a')\"\n",
              "              title=\"Convert this dataframe to an interactive table.\"\n",
              "              style=\"display:none;\">\n",
              "        \n",
              "  <svg xmlns=\"http://www.w3.org/2000/svg\" height=\"24px\"viewBox=\"0 0 24 24\"\n",
              "       width=\"24px\">\n",
              "    <path d=\"M0 0h24v24H0V0z\" fill=\"none\"/>\n",
              "    <path d=\"M18.56 5.44l.94 2.06.94-2.06 2.06-.94-2.06-.94-.94-2.06-.94 2.06-2.06.94zm-11 1L8.5 8.5l.94-2.06 2.06-.94-2.06-.94L8.5 2.5l-.94 2.06-2.06.94zm10 10l.94 2.06.94-2.06 2.06-.94-2.06-.94-.94-2.06-.94 2.06-2.06.94z\"/><path d=\"M17.41 7.96l-1.37-1.37c-.4-.4-.92-.59-1.43-.59-.52 0-1.04.2-1.43.59L10.3 9.45l-7.72 7.72c-.78.78-.78 2.05 0 2.83L4 21.41c.39.39.9.59 1.41.59.51 0 1.02-.2 1.41-.59l7.78-7.78 2.81-2.81c.8-.78.8-2.07 0-2.86zM5.41 20L4 18.59l7.72-7.72 1.47 1.35L5.41 20z\"/>\n",
              "  </svg>\n",
              "      </button>\n",
              "      \n",
              "  <style>\n",
              "    .colab-df-container {\n",
              "      display:flex;\n",
              "      flex-wrap:wrap;\n",
              "      gap: 12px;\n",
              "    }\n",
              "\n",
              "    .colab-df-convert {\n",
              "      background-color: #E8F0FE;\n",
              "      border: none;\n",
              "      border-radius: 50%;\n",
              "      cursor: pointer;\n",
              "      display: none;\n",
              "      fill: #1967D2;\n",
              "      height: 32px;\n",
              "      padding: 0 0 0 0;\n",
              "      width: 32px;\n",
              "    }\n",
              "\n",
              "    .colab-df-convert:hover {\n",
              "      background-color: #E2EBFA;\n",
              "      box-shadow: 0px 1px 2px rgba(60, 64, 67, 0.3), 0px 1px 3px 1px rgba(60, 64, 67, 0.15);\n",
              "      fill: #174EA6;\n",
              "    }\n",
              "\n",
              "    [theme=dark] .colab-df-convert {\n",
              "      background-color: #3B4455;\n",
              "      fill: #D2E3FC;\n",
              "    }\n",
              "\n",
              "    [theme=dark] .colab-df-convert:hover {\n",
              "      background-color: #434B5C;\n",
              "      box-shadow: 0px 1px 3px 1px rgba(0, 0, 0, 0.15);\n",
              "      filter: drop-shadow(0px 1px 2px rgba(0, 0, 0, 0.3));\n",
              "      fill: #FFFFFF;\n",
              "    }\n",
              "  </style>\n",
              "\n",
              "      <script>\n",
              "        const buttonEl =\n",
              "          document.querySelector('#df-e3c5d12b-bb2d-4b43-ae0c-e26a310fe95a button.colab-df-convert');\n",
              "        buttonEl.style.display =\n",
              "          google.colab.kernel.accessAllowed ? 'block' : 'none';\n",
              "\n",
              "        async function convertToInteractive(key) {\n",
              "          const element = document.querySelector('#df-e3c5d12b-bb2d-4b43-ae0c-e26a310fe95a');\n",
              "          const dataTable =\n",
              "            await google.colab.kernel.invokeFunction('convertToInteractive',\n",
              "                                                     [key], {});\n",
              "          if (!dataTable) return;\n",
              "\n",
              "          const docLinkHtml = 'Like what you see? Visit the ' +\n",
              "            '<a target=\"_blank\" href=https://colab.research.google.com/notebooks/data_table.ipynb>data table notebook</a>'\n",
              "            + ' to learn more about interactive tables.';\n",
              "          element.innerHTML = '';\n",
              "          dataTable['output_type'] = 'display_data';\n",
              "          await google.colab.output.renderOutput(dataTable, element);\n",
              "          const docLink = document.createElement('div');\n",
              "          docLink.innerHTML = docLinkHtml;\n",
              "          element.appendChild(docLink);\n",
              "        }\n",
              "      </script>\n",
              "    </div>\n",
              "  </div>\n",
              "  "
            ],
            "text/plain": [
              "   mass_grams  year    reclat   reclong  elevation  FIPS  area_sqkm  \\\n",
              "0     32000.0  1899  42.53333 -85.88333      225.0    26     250487   \n",
              "1       469.0  1994  43.76111 -84.50778      218.0    26     250487   \n",
              "2     10600.0  1921  44.51667 -83.95000      387.0    26     250487   \n",
              "3      1551.0  1997  42.38467 -83.61150      279.0    26     250487   \n",
              "4     51700.0  1883  42.96667 -85.76667      225.0    26     250487   \n",
              "\n",
              "   meteorite_class      BARE      CROPL     FOREST      GRSL    SHRUBL  \\\n",
              "0                0  0.241572  35.820019  52.486729  4.448891  0.668927   \n",
              "1                0  0.241572  35.820019  52.486729  4.448891  0.668927   \n",
              "2                0  0.241572  35.820019  52.486729  4.448891  0.668927   \n",
              "3                0  0.241572  35.820019  52.486729  4.448891  0.668927   \n",
              "4                1  0.241572  35.820019  52.486729  4.448891  0.668927   \n",
              "\n",
              "   SPARSE_VEGETATION     URBAN     WATER      WETL  \n",
              "0           0.026182  3.350872  2.644462  0.312346  \n",
              "1           0.026182  3.350872  2.644462  0.312346  \n",
              "2           0.026182  3.350872  2.644462  0.312346  \n",
              "3           0.026182  3.350872  2.644462  0.312346  \n",
              "4           0.026182  3.350872  2.644462  0.312346  "
            ]
          },
          "execution_count": 68,
          "metadata": {},
          "output_type": "execute_result"
        }
      ],
      "source": [
        "# remove fall from dataset (used during supervised learning)\n",
        "hc_df = ml_unscaled.drop(['fall'], axis = 1)\n",
        "print(len(hc_df))\n",
        "hc_df.head()"
      ]
    },
    {
      "cell_type": "code",
      "execution_count": 69,
      "metadata": {
        "id": "frB2W6-JTInq"
      },
      "outputs": [],
      "source": [
        "# normalize dataset\n",
        "normalized = normalize(hc_df)"
      ]
    },
    {
      "cell_type": "code",
      "execution_count": 70,
      "metadata": {
        "colab": {
          "base_uri": "https://localhost:8080/",
          "height": 357
        },
        "id": "F-UqBXYgTInq",
        "outputId": "1ebfb9c4-a571-4659-8b66-c2603a577af7"
      },
      "outputs": [
        {
          "data": {
            "text/html": [
              "\n",
              "  <div id=\"df-3c2df482-ae2e-4750-919e-7b9bf8914bb5\">\n",
              "    <div class=\"colab-df-container\">\n",
              "      <div>\n",
              "<style scoped>\n",
              "    .dataframe tbody tr th:only-of-type {\n",
              "        vertical-align: middle;\n",
              "    }\n",
              "\n",
              "    .dataframe tbody tr th {\n",
              "        vertical-align: top;\n",
              "    }\n",
              "\n",
              "    .dataframe thead th {\n",
              "        text-align: right;\n",
              "    }\n",
              "</style>\n",
              "<table border=\"1\" class=\"dataframe\">\n",
              "  <thead>\n",
              "    <tr style=\"text-align: right;\">\n",
              "      <th></th>\n",
              "      <th>mass_grams</th>\n",
              "      <th>year</th>\n",
              "      <th>reclat</th>\n",
              "      <th>reclong</th>\n",
              "      <th>elevation</th>\n",
              "      <th>FIPS</th>\n",
              "      <th>area_sqkm</th>\n",
              "      <th>meteorite_class</th>\n",
              "      <th>BARE</th>\n",
              "      <th>CROPL</th>\n",
              "      <th>FOREST</th>\n",
              "      <th>GRSL</th>\n",
              "      <th>SHRUBL</th>\n",
              "      <th>SPARSE_VEGETATION</th>\n",
              "      <th>URBAN</th>\n",
              "      <th>WATER</th>\n",
              "      <th>WETL</th>\n",
              "    </tr>\n",
              "  </thead>\n",
              "  <tbody>\n",
              "    <tr>\n",
              "      <th>0</th>\n",
              "      <td>0.126718</td>\n",
              "      <td>0.007520</td>\n",
              "      <td>0.000168</td>\n",
              "      <td>-0.000340</td>\n",
              "      <td>0.000891</td>\n",
              "      <td>0.000103</td>\n",
              "      <td>0.991910</td>\n",
              "      <td>0.000000</td>\n",
              "      <td>9.566089e-07</td>\n",
              "      <td>0.000142</td>\n",
              "      <td>0.000208</td>\n",
              "      <td>0.000018</td>\n",
              "      <td>0.000003</td>\n",
              "      <td>1.036799e-07</td>\n",
              "      <td>0.000013</td>\n",
              "      <td>0.000010</td>\n",
              "      <td>0.000001</td>\n",
              "    </tr>\n",
              "    <tr>\n",
              "      <th>1</th>\n",
              "      <td>0.001872</td>\n",
              "      <td>0.007960</td>\n",
              "      <td>0.000175</td>\n",
              "      <td>-0.000337</td>\n",
              "      <td>0.000870</td>\n",
              "      <td>0.000104</td>\n",
              "      <td>0.999966</td>\n",
              "      <td>0.000000</td>\n",
              "      <td>9.643784e-07</td>\n",
              "      <td>0.000143</td>\n",
              "      <td>0.000210</td>\n",
              "      <td>0.000018</td>\n",
              "      <td>0.000003</td>\n",
              "      <td>1.045220e-07</td>\n",
              "      <td>0.000013</td>\n",
              "      <td>0.000011</td>\n",
              "      <td>0.000001</td>\n",
              "    </tr>\n",
              "    <tr>\n",
              "      <th>2</th>\n",
              "      <td>0.042278</td>\n",
              "      <td>0.007662</td>\n",
              "      <td>0.000178</td>\n",
              "      <td>-0.000335</td>\n",
              "      <td>0.001544</td>\n",
              "      <td>0.000104</td>\n",
              "      <td>0.999075</td>\n",
              "      <td>0.000000</td>\n",
              "      <td>9.635192e-07</td>\n",
              "      <td>0.000143</td>\n",
              "      <td>0.000209</td>\n",
              "      <td>0.000018</td>\n",
              "      <td>0.000003</td>\n",
              "      <td>1.044288e-07</td>\n",
              "      <td>0.000013</td>\n",
              "      <td>0.000011</td>\n",
              "      <td>0.000001</td>\n",
              "    </tr>\n",
              "    <tr>\n",
              "      <th>3</th>\n",
              "      <td>0.006192</td>\n",
              "      <td>0.007972</td>\n",
              "      <td>0.000169</td>\n",
              "      <td>-0.000334</td>\n",
              "      <td>0.001114</td>\n",
              "      <td>0.000104</td>\n",
              "      <td>0.999948</td>\n",
              "      <td>0.000000</td>\n",
              "      <td>9.643613e-07</td>\n",
              "      <td>0.000143</td>\n",
              "      <td>0.000210</td>\n",
              "      <td>0.000018</td>\n",
              "      <td>0.000003</td>\n",
              "      <td>1.045201e-07</td>\n",
              "      <td>0.000013</td>\n",
              "      <td>0.000011</td>\n",
              "      <td>0.000001</td>\n",
              "    </tr>\n",
              "    <tr>\n",
              "      <th>4</th>\n",
              "      <td>0.202132</td>\n",
              "      <td>0.007362</td>\n",
              "      <td>0.000168</td>\n",
              "      <td>-0.000335</td>\n",
              "      <td>0.000880</td>\n",
              "      <td>0.000102</td>\n",
              "      <td>0.979330</td>\n",
              "      <td>0.000004</td>\n",
              "      <td>9.444769e-07</td>\n",
              "      <td>0.000140</td>\n",
              "      <td>0.000205</td>\n",
              "      <td>0.000017</td>\n",
              "      <td>0.000003</td>\n",
              "      <td>1.023650e-07</td>\n",
              "      <td>0.000013</td>\n",
              "      <td>0.000010</td>\n",
              "      <td>0.000001</td>\n",
              "    </tr>\n",
              "  </tbody>\n",
              "</table>\n",
              "</div>\n",
              "      <button class=\"colab-df-convert\" onclick=\"convertToInteractive('df-3c2df482-ae2e-4750-919e-7b9bf8914bb5')\"\n",
              "              title=\"Convert this dataframe to an interactive table.\"\n",
              "              style=\"display:none;\">\n",
              "        \n",
              "  <svg xmlns=\"http://www.w3.org/2000/svg\" height=\"24px\"viewBox=\"0 0 24 24\"\n",
              "       width=\"24px\">\n",
              "    <path d=\"M0 0h24v24H0V0z\" fill=\"none\"/>\n",
              "    <path d=\"M18.56 5.44l.94 2.06.94-2.06 2.06-.94-2.06-.94-.94-2.06-.94 2.06-2.06.94zm-11 1L8.5 8.5l.94-2.06 2.06-.94-2.06-.94L8.5 2.5l-.94 2.06-2.06.94zm10 10l.94 2.06.94-2.06 2.06-.94-2.06-.94-.94-2.06-.94 2.06-2.06.94z\"/><path d=\"M17.41 7.96l-1.37-1.37c-.4-.4-.92-.59-1.43-.59-.52 0-1.04.2-1.43.59L10.3 9.45l-7.72 7.72c-.78.78-.78 2.05 0 2.83L4 21.41c.39.39.9.59 1.41.59.51 0 1.02-.2 1.41-.59l7.78-7.78 2.81-2.81c.8-.78.8-2.07 0-2.86zM5.41 20L4 18.59l7.72-7.72 1.47 1.35L5.41 20z\"/>\n",
              "  </svg>\n",
              "      </button>\n",
              "      \n",
              "  <style>\n",
              "    .colab-df-container {\n",
              "      display:flex;\n",
              "      flex-wrap:wrap;\n",
              "      gap: 12px;\n",
              "    }\n",
              "\n",
              "    .colab-df-convert {\n",
              "      background-color: #E8F0FE;\n",
              "      border: none;\n",
              "      border-radius: 50%;\n",
              "      cursor: pointer;\n",
              "      display: none;\n",
              "      fill: #1967D2;\n",
              "      height: 32px;\n",
              "      padding: 0 0 0 0;\n",
              "      width: 32px;\n",
              "    }\n",
              "\n",
              "    .colab-df-convert:hover {\n",
              "      background-color: #E2EBFA;\n",
              "      box-shadow: 0px 1px 2px rgba(60, 64, 67, 0.3), 0px 1px 3px 1px rgba(60, 64, 67, 0.15);\n",
              "      fill: #174EA6;\n",
              "    }\n",
              "\n",
              "    [theme=dark] .colab-df-convert {\n",
              "      background-color: #3B4455;\n",
              "      fill: #D2E3FC;\n",
              "    }\n",
              "\n",
              "    [theme=dark] .colab-df-convert:hover {\n",
              "      background-color: #434B5C;\n",
              "      box-shadow: 0px 1px 3px 1px rgba(0, 0, 0, 0.15);\n",
              "      filter: drop-shadow(0px 1px 2px rgba(0, 0, 0, 0.3));\n",
              "      fill: #FFFFFF;\n",
              "    }\n",
              "  </style>\n",
              "\n",
              "      <script>\n",
              "        const buttonEl =\n",
              "          document.querySelector('#df-3c2df482-ae2e-4750-919e-7b9bf8914bb5 button.colab-df-convert');\n",
              "        buttonEl.style.display =\n",
              "          google.colab.kernel.accessAllowed ? 'block' : 'none';\n",
              "\n",
              "        async function convertToInteractive(key) {\n",
              "          const element = document.querySelector('#df-3c2df482-ae2e-4750-919e-7b9bf8914bb5');\n",
              "          const dataTable =\n",
              "            await google.colab.kernel.invokeFunction('convertToInteractive',\n",
              "                                                     [key], {});\n",
              "          if (!dataTable) return;\n",
              "\n",
              "          const docLinkHtml = 'Like what you see? Visit the ' +\n",
              "            '<a target=\"_blank\" href=https://colab.research.google.com/notebooks/data_table.ipynb>data table notebook</a>'\n",
              "            + ' to learn more about interactive tables.';\n",
              "          element.innerHTML = '';\n",
              "          dataTable['output_type'] = 'display_data';\n",
              "          await google.colab.output.renderOutput(dataTable, element);\n",
              "          const docLink = document.createElement('div');\n",
              "          docLink.innerHTML = docLinkHtml;\n",
              "          element.appendChild(docLink);\n",
              "        }\n",
              "      </script>\n",
              "    </div>\n",
              "  </div>\n",
              "  "
            ],
            "text/plain": [
              "   mass_grams      year    reclat   reclong  elevation      FIPS  area_sqkm  \\\n",
              "0    0.126718  0.007520  0.000168 -0.000340   0.000891  0.000103   0.991910   \n",
              "1    0.001872  0.007960  0.000175 -0.000337   0.000870  0.000104   0.999966   \n",
              "2    0.042278  0.007662  0.000178 -0.000335   0.001544  0.000104   0.999075   \n",
              "3    0.006192  0.007972  0.000169 -0.000334   0.001114  0.000104   0.999948   \n",
              "4    0.202132  0.007362  0.000168 -0.000335   0.000880  0.000102   0.979330   \n",
              "\n",
              "   meteorite_class          BARE     CROPL    FOREST      GRSL    SHRUBL  \\\n",
              "0         0.000000  9.566089e-07  0.000142  0.000208  0.000018  0.000003   \n",
              "1         0.000000  9.643784e-07  0.000143  0.000210  0.000018  0.000003   \n",
              "2         0.000000  9.635192e-07  0.000143  0.000209  0.000018  0.000003   \n",
              "3         0.000000  9.643613e-07  0.000143  0.000210  0.000018  0.000003   \n",
              "4         0.000004  9.444769e-07  0.000140  0.000205  0.000017  0.000003   \n",
              "\n",
              "   SPARSE_VEGETATION     URBAN     WATER      WETL  \n",
              "0       1.036799e-07  0.000013  0.000010  0.000001  \n",
              "1       1.045220e-07  0.000013  0.000011  0.000001  \n",
              "2       1.044288e-07  0.000013  0.000011  0.000001  \n",
              "3       1.045201e-07  0.000013  0.000011  0.000001  \n",
              "4       1.023650e-07  0.000013  0.000010  0.000001  "
            ]
          },
          "execution_count": 70,
          "metadata": {},
          "output_type": "execute_result"
        }
      ],
      "source": [
        "# add column headers to normalized df and print\n",
        "df2 = pd.DataFrame(normalized)\n",
        "df2.columns = hc_df.columns\n",
        "df2.head()"
      ]
    },
    {
      "cell_type": "code",
      "execution_count": 71,
      "metadata": {
        "id": "0PXKWf_0TInq"
      },
      "outputs": [],
      "source": [
        "# Perform hierarchical clustering\n",
        "mergings = linkage(normalized, method='ward')"
      ]
    },
    {
      "cell_type": "code",
      "execution_count": 72,
      "metadata": {
        "colab": {
          "base_uri": "https://localhost:8080/",
          "height": 486
        },
        "id": "3ZCmTm5UTInq",
        "outputId": "d98954f5-8c28-4aa2-d21e-580a77745424"
      },
      "outputs": [
        {
          "data": {
            "image/png": "[encoded data removed]",
            "text/plain": [
              "<Figure size 864x576 with 1 Axes>"
            ]
          },
          "metadata": {
            "needs_background": "light"
          },
          "output_type": "display_data"
        }
      ],
      "source": [
        "# Generate a dendrogram\n",
        "plt.figure(figsize=(12,8))\n",
        "\n",
        "dendrogram(mergings,\n",
        "          leaf_rotation=90,\n",
        "          leaf_font_size=5)\n",
        "\n",
        "plt.show()"
      ]
    },
    {
      "cell_type": "code",
      "execution_count": 73,
      "metadata": {
        "colab": {
          "base_uri": "https://localhost:8080/"
        },
        "id": "Vm0BIlNRTInq",
        "outputId": "31c26847-c30a-42ff-ae23-72ce449b8104"
      },
      "outputs": [
        {
          "name": "stderr",
          "output_type": "stream",
          "text": [
            "/usr/local/lib/python3.9/dist-packages/sklearn/cluster/_agglomerative.py:983: FutureWarning: Attribute `affinity` was deprecated in version 1.2 and will be removed in 1.4. Use `metric` instead\n",
            "  warnings.warn(\n"
          ]
        }
      ],
      "source": [
        "# Generate cluster labels with sklearn.cluster's AgglomerativeClustering\n",
        "cluster = AgglomerativeClustering(n_clusters=2,\n",
        "                                 affinity='euclidean',\n",
        "                                 linkage='ward')\n",
        "labels = cluster.fit_predict(df2)"
      ]
    },
    {
      "cell_type": "code",
      "execution_count": 74,
      "metadata": {
        "colab": {
          "base_uri": "https://localhost:8080/"
        },
        "id": "PbH2Bk7uTInq",
        "outputId": "283d2559-9489-4bdc-dd20-1b00d606f33d"
      },
      "outputs": [
        {
          "data": {
            "text/plain": [
              "Index(['mass_grams', 'year', 'reclat', 'reclong', 'elevation', 'FIPS',\n",
              "       'area_sqkm', 'meteorite_class', 'BARE', 'CROPL', 'FOREST', 'GRSL',\n",
              "       'SHRUBL', 'SPARSE_VEGETATION', 'URBAN', 'WATER', 'WETL'],\n",
              "      dtype='object')"
            ]
          },
          "execution_count": 74,
          "metadata": {},
          "output_type": "execute_result"
        }
      ],
      "source": [
        "# list df2 columns\n",
        "df2.columns"
      ]
    },
    {
      "cell_type": "code",
      "execution_count": 75,
      "metadata": {
        "colab": {
          "base_uri": "https://localhost:8080/",
          "height": 265
        },
        "id": "daOWYyZyTInq",
        "outputId": "9da2276b-e2c5-40e6-a8d9-72fcf5dcf4c0"
      },
      "outputs": [
        {
          "data": {
            "image/png": "[encoded data removed]",
            "text/plain": [
              "<Figure size 432x288 with 1 Axes>"
            ]
          },
          "metadata": {
            "needs_background": "light"
          },
          "output_type": "display_data"
        }
      ],
      "source": [
        "# Create a scatter plot with two of the features\n",
        "plt.scatter(df2['mass_grams'], df2['elevation'], c=labels)\n",
        "plt.show()"
      ]
    },
    {
      "cell_type": "code",
      "execution_count": 76,
      "metadata": {
        "colab": {
          "base_uri": "https://localhost:8080/",
          "height": 265
        },
        "id": "sSc1I8B7TInq",
        "outputId": "c3ca6b93-c1e6-4912-af25-2239a1b39d9b"
      },
      "outputs": [
        {
          "data": {
            "image/png": "[encoded data removed]",
            "text/plain": [
              "<Figure size 432x288 with 1 Axes>"
            ]
          },
          "metadata": {
            "needs_background": "light"
          },
          "output_type": "display_data"
        }
      ],
      "source": [
        "# Create a scatter plot with two of the features\n",
        "plt.scatter(df2['mass_grams'], df2['FIPS'], c=labels)\n",
        "plt.show()"
      ]
    }
  ],
  "metadata": {
    "colab": {
      "provenance": []
    },
    "kernelspec": {
      "display_name": "mlenv",
      "language": "python",
      "name": "python3"
    },
    "language_info": {
      "codemirror_mode": {
        "name": "ipython",
        "version": 3
      },
      "file_extension": ".py",
      "mimetype": "text/x-python",
      "name": "python",
      "nbconvert_exporter": "python",
      "pygments_lexer": "ipython3",
      "version": "3.7.7"
    },
    "orig_nbformat": 4
  },
  "nbformat": 4,
  "nbformat_minor": 0
}
