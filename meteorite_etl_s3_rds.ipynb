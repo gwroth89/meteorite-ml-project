{
  "cells": [
    {
      "cell_type": "code",
      "execution_count": 1,
      "metadata": {
        "id": "5WosHdRWdmpw",
        "colab": {
          "base_uri": "https://localhost:8080/"
        },
        "outputId": "ccffc9fe-9177-48f8-a1bb-b43460c73a59"
      },
      "outputs": [
        {
          "output_type": "stream",
          "name": "stdout",
          "text": [
            "\r0% [Working]\r            \rGet:1 http://security.ubuntu.com/ubuntu focal-security InRelease [114 kB]\n",
            "\r0% [Connecting to archive.ubuntu.com (91.189.91.39)] [1 InRelease 14.2 kB/114 k\r                                                                               \rGet:2 http://ppa.launchpad.net/c2d4u.team/c2d4u4.0+/ubuntu focal InRelease [18.1 kB]\n",
            "\r0% [Connecting to archive.ubuntu.com (91.189.91.39)] [1 InRelease 14.2 kB/114 k\r0% [Connecting to archive.ubuntu.com (91.189.91.39)] [1 InRelease 114 kB/114 kB\r                                                                               \rHit:3 http://ppa.launchpad.net/cran/libgit2/ubuntu focal InRelease\n",
            "\r0% [Connecting to archive.ubuntu.com (91.189.91.39)] [Connected to cloud.r-proj\r                                                                               \rHit:4 http://ppa.launchpad.net/deadsnakes/ppa/ubuntu focal InRelease\n",
            "\r0% [Waiting for headers] [Waiting for headers] [Connecting to ppa.launchpad.net\r                                                                               \rGet:5 https://cloud.r-project.org/bin/linux/ubuntu focal-cran40/ InRelease [3,622 B]\n",
            "\r0% [Waiting for headers] [5 InRelease 0 B/3,622 B 0%] [Connecting to ppa.launch\r0% [Waiting for headers] [Connecting to ppa.launchpad.net (185.125.190.52)] [Wa\r                                                                               \rHit:6 http://ppa.launchpad.net/graphics-drivers/ppa/ubuntu focal InRelease\n",
            "\r0% [Waiting for headers] [Connecting to ppa.launchpad.net (185.125.190.52)] [Wa\r                                                                               \rGet:7 https://developer.download.nvidia.com/compute/cuda/repos/ubuntu2004/x86_64  InRelease [1,581 B]\n",
            "Hit:8 http://ppa.launchpad.net/ubuntugis/ppa/ubuntu focal InRelease\n",
            "Hit:9 http://archive.ubuntu.com/ubuntu focal InRelease\n",
            "Get:10 http://archive.ubuntu.com/ubuntu focal-updates InRelease [114 kB]\n",
            "Get:11 http://ppa.launchpad.net/c2d4u.team/c2d4u4.0+/ubuntu focal/main Sources [2,398 kB]\n",
            "Get:12 http://ppa.launchpad.net/c2d4u.team/c2d4u4.0+/ubuntu focal/main amd64 Packages [1,136 kB]\n",
            "Get:13 http://archive.ubuntu.com/ubuntu focal-backports InRelease [108 kB]\n",
            "Get:14 http://security.ubuntu.com/ubuntu focal-security/main amd64 Packages [2,544 kB]\n",
            "Get:15 http://security.ubuntu.com/ubuntu focal-security/universe amd64 Packages [1,017 kB]\n",
            "Get:16 https://developer.download.nvidia.com/compute/cuda/repos/ubuntu2004/x86_64  Packages [920 kB]\n",
            "Get:17 http://archive.ubuntu.com/ubuntu focal-updates/universe amd64 Packages [1,313 kB]\n",
            "Get:18 http://archive.ubuntu.com/ubuntu focal-updates/main amd64 Packages [3,021 kB]\n",
            "Fetched 12.7 MB in 4s (3,438 kB/s)\n",
            "Reading package lists... Done\n"
          ]
        }
      ],
      "source": [
        "import os\n",
        "# Find the latest version of spark 3.2  from http://www.apache.org/dist/spark/ and enter as the spark version\n",
        "# For example:\n",
        "# spark_version = 'spark-3.2.2'\n",
        "spark_version = 'spark-3.2.3'\n",
        "os.environ['SPARK_VERSION']=spark_version\n",
        "\n",
        "# Install Spark and Java\n",
        "!apt-get update\n",
        "!apt-get install openjdk-8-jdk-headless -qq > /dev/null\n",
        "!wget -q http://www.apache.org/dist/spark/$SPARK_VERSION/$SPARK_VERSION-bin-hadoop2.7.tgz\n",
        "!tar xf $SPARK_VERSION-bin-hadoop2.7.tgz\n",
        "!pip install -q findspark\n",
        "\n",
        "# Set Environment Variables\n",
        "os.environ[\"JAVA_HOME\"] = \"/usr/lib/jvm/java-8-openjdk-amd64\"\n",
        "os.environ[\"SPARK_HOME\"] = f\"/content/{spark_version}-bin-hadoop2.7\"\n",
        "\n",
        "# Start a SparkSession\n",
        "import findspark\n",
        "findspark.init()"
      ]
    },
    {
      "cell_type": "code",
      "execution_count": 2,
      "metadata": {
        "colab": {
          "base_uri": "https://localhost:8080/"
        },
        "id": "xISV-9eR6Yah",
        "outputId": "a4ec2451-5396-494f-c71e-504a05a6b4a5"
      },
      "outputs": [
        {
          "output_type": "stream",
          "name": "stdout",
          "text": [
            "--2023-03-18 16:09:29--  https://jdbc.postgresql.org/download/postgresql-42.2.9.jar\n",
            "Resolving jdbc.postgresql.org (jdbc.postgresql.org)... 72.32.157.228, 2001:4800:3e1:1::228\n",
            "Connecting to jdbc.postgresql.org (jdbc.postgresql.org)|72.32.157.228|:443... connected.\n",
            "HTTP request sent, awaiting response... 200 OK\n",
            "Length: 914037 (893K) [application/java-archive]\n",
            "Saving to: ‘postgresql-42.2.9.jar’\n",
            "\n",
            "postgresql-42.2.9.j 100%[===================>] 892.61K  1.67MB/s    in 0.5s    \n",
            "\n",
            "2023-03-18 16:09:30 (1.67 MB/s) - ‘postgresql-42.2.9.jar’ saved [914037/914037]\n",
            "\n"
          ]
        }
      ],
      "source": [
        "!wget https://jdbc.postgresql.org/download/postgresql-42.2.9.jar"
      ]
    },
    {
      "cell_type": "code",
      "execution_count": 3,
      "metadata": {
        "id": "aEQFTWiV6g2h"
      },
      "outputs": [],
      "source": [
        "from pyspark.sql import SparkSession\n",
        "spark = SparkSession.builder.appName(\"CloudETL\").config(\"spark.driver.extraClassPath\",\"/content/postgresql-42.2.9.jar\").getOrCreate()"
      ]
    },
    {
      "cell_type": "code",
      "execution_count": 4,
      "metadata": {
        "colab": {
          "base_uri": "https://localhost:8080/"
        },
        "id": "qik6uGSV9BWa",
        "outputId": "e4d13a6d-dd60-465b-c16b-6a2d555a71e6"
      },
      "outputs": [
        {
          "output_type": "stream",
          "name": "stdout",
          "text": [
            "+------------+-----------------+--------------------+\n",
            "|state_abbrev|         variable|               value|\n",
            "+------------+-----------------+--------------------+\n",
            "|          AL|           FOREST|   64.87214818449999|\n",
            "|          AL|             GRSL|        19.904489577|\n",
            "|          AL|             WETL| 0.17698839989999998|\n",
            "|          AL|           SHRUBL|        1.2225725537|\n",
            "|          AL|SPARSE_VEGETATION|        0.0347645507|\n",
            "|          AL|            CROPL|       10.1772646745|\n",
            "|          AL|            URBAN|        1.6597195122|\n",
            "|          AL|             BARE|         0.189766099|\n",
            "|          AL|            WATER|        1.7622864484|\n",
            "|          CO|           FOREST|       32.9304390513|\n",
            "|          CO|             GRSL|       31.7712187156|\n",
            "|          CO|             WETL|0.036524399900000004|\n",
            "|          CO|           SHRUBL|       17.2468731707|\n",
            "|          CO|SPARSE_VEGETATION|0.035923292999999995|\n",
            "|          CO|            CROPL|       15.5319438223|\n",
            "|          CO|            URBAN|         0.846415757|\n",
            "|          CO|             BARE|  1.3428441802000002|\n",
            "|          CO|            WATER| 0.25781760989999997|\n",
            "|          CT|           FOREST|       76.6350390711|\n",
            "|          CT|             GRSL|        6.3894917463|\n",
            "+------------+-----------------+--------------------+\n",
            "only showing top 20 rows\n",
            "\n"
          ]
        }
      ],
      "source": [
        "# Read in data from S3 Buckets\n",
        "from pyspark import SparkFiles\n",
        "# url=\"https://<bucket name>.s3.amazonaws.com/user_data.csv\" \n",
        "url = \"https://meteorite-ml-project.s3.amazonaws.com/landcover.csv\"\n",
        "spark.sparkContext.addFile(url)\n",
        "landcover_df = spark.read.csv(SparkFiles.get(\"landcover.csv\"), sep=\",\", header=True, inferSchema=True)\n",
        "\n",
        "# Show DataFrame\n",
        "landcover_df.show()"
      ]
    },
    {
      "cell_type": "code",
      "execution_count": 5,
      "metadata": {
        "colab": {
          "base_uri": "https://localhost:8080/"
        },
        "id": "RzqGVnoNd-d8",
        "outputId": "15c5c011-89dd-4a1d-bf46-bbf5f90a6596"
      },
      "outputs": [
        {
          "output_type": "stream",
          "name": "stdout",
          "text": [
            "+-----+---------------+---------------+----------+-----+----+-----------------+------------------+--------------------+--------------------+---------+-------------+------------+\n",
            "|   id|           name|       recclass|mass_grams| fall|year|           reclat|           reclong|         geolocation|            geometry|elevation|      country|state_abbrev|\n",
            "+-----+---------------+---------------+----------+-----+----+-----------------+------------------+--------------------+--------------------+---------+-------------+------------+\n",
            "| 2276|        Allegan|             H5|   32000.0| Fell|1899|         42.53333|         -85.88333|(42.53333, -85.88...|POINT (-85.88333 ...|    225.0|United States|          MI|\n",
            "| 5401|        Coleman|             L6|     469.0| Fell|1994|         43.76111|-84.50778000000003|(43.76111, -84.50...|POINT (-84.50778 ...|    218.0|United States|          MI|\n",
            "|22766|      Rose City|             H5|   10600.0| Fell|1921|         44.51667|            -83.95|  (44.51667, -83.95)|POINT (-83.95 44....|    387.0|United States|          MI|\n",
            "|24337|         Worden|             L5|    1551.0| Fell|1997|         42.38467|          -83.6115|(42.38467, -83.6115)|POINT (-83.6115 4...|    279.0|United States|          MI|\n",
            "|10955|   Grand Rapids|Iron, ungrouped|   51700.0|Found|1883|         42.96667|-85.76666999999998|(42.96667, -85.76...|POINT (-85.76667 ...|    225.0|United States|          MI|\n",
            "|12048|     Iron River|      Iron, IVA|    1420.0|Found|1889|46.07944000000001|         -88.55972|(46.07944, -88.55...|POINT (-88.55972 ...|    510.0|United States|          MI|\n",
            "|12234|       Kalkaska|    Iron, IIIAB|    9399.0|Found|1947|         44.64694|         -85.13667|(44.64694, -85.13...|POINT (-85.13667 ...|    355.0|United States|          MI|\n",
            "|22552|      Reed City|Iron, ungrouped|   20000.0|Found|1895|         43.86667|-85.51666999999998|(43.86667, -85.51...|POINT (-85.51667 ...|    329.0|United States|          MI|\n",
            "|23499|Seneca Township|      Iron, IVA|   11500.0|Found|1923|         41.78333|         -84.18333|(41.78333, -84.18...|POINT (-84.18333 ...|    243.0|United States|          MI|\n",
            "| 2295|        Andover|             L6|    3200.0| Fell|1898|         44.61667|            -70.75|  (44.61667, -70.75)|POINT (-70.75 44....|    220.0|United States|          ME|\n",
            "| 5293|        Castine|             L6|      94.0| Fell|1848|         44.38333|            -68.75|  (44.38333, -68.75)|POINT (-68.75 44....|     25.0|United States|          ME|\n",
            "|16984|   Nobleborough|  Eucrite-pmict|    2300.0| Fell|1823|         44.08333|-69.48333000000001|(44.08333, -69.48...|POINT (-69.48333 ...|     44.0|United States|          ME|\n",
            "|23472|      Searsmont|             H5|    5400.0| Fell|1871|         44.36667|             -69.2|   (44.36667, -69.2)|POINT (-69.2 44.3...|     76.0|United States|          ME|\n",
            "|24209|    Walnut Hill|             OC|     220.0|Found|1978|           43.827|         -70.24717| (43.827, -70.24717)|POINT (-70.24717 ...|     68.0|United States|          ME|\n",
            "| 2329|         Archie|             H6|    5070.0| Fell|1932|             38.5|             -94.3|       (38.5, -94.3)|  POINT (-94.3 38.5)|    264.0|United States|          MO|\n",
            "| 4977|         Baxter|             L6|     611.0| Fell|1916|            36.75|             -93.5|      (36.75, -93.5)| POINT (-93.5 36.75)|    294.0|United States|          MO|\n",
            "| 5260| Cape Girardeau|             H6|    2300.0| Fell|1846|         37.26667|         -89.58333|(37.26667, -89.58...|POINT (-89.58333 ...|    123.0|United States|          MO|\n",
            "|12028|   Independence|             L6|     880.0| Fell|1917|         39.08333|             -94.4|   (39.08333, -94.4)|POINT (-94.4 39.0...|    292.0|United States|          MO|\n",
            "|14664|   Little Piney|             L5|     491.0| Fell|1839|         37.91667|         -92.08333|(37.91667, -92.08...|POINT (-92.08333 ...|    281.0|United States|          MO|\n",
            "|18079|        Palmyra|             L3|     135.0| Fell|1926|             39.8|             -91.5|       (39.8, -91.5)|  POINT (-91.5 39.8)|    179.0|United States|          MO|\n",
            "+-----+---------------+---------------+----------+-----+----+-----------------+------------------+--------------------+--------------------+---------+-------------+------------+\n",
            "only showing top 20 rows\n",
            "\n"
          ]
        }
      ],
      "source": [
        "# url=\"https://<bucket name>.s3.amazonaws.com/user_payment.csv\"\n",
        "url = 'https://meteorite-ml-project.s3.amazonaws.com/meteorite_main.csv'\n",
        "spark.sparkContext.addFile(url)\n",
        "meteoritemain_df = spark.read.csv(SparkFiles.get(\"meteorite_main.csv\"), sep=\",\", header=True, inferSchema=True)\n",
        "\n",
        "# Show DataFrame\n",
        "meteoritemain_df.show()"
      ]
    },
    {
      "cell_type": "code",
      "source": [
        "# url=\"https://<bucket name>.s3.amazonaws.com/user_payment.csv\"\n",
        "url = 'https://meteorite-ml-project.s3.amazonaws.com/meteorite_types.csv'\n",
        "spark.sparkContext.addFile(url)\n",
        "meteoritetypes_df = spark.read.csv(SparkFiles.get(\"meteorite_types.csv\"), sep=\",\", header=True, inferSchema=True)\n",
        "\n",
        "# Show DataFrame\n",
        "meteoritetypes_df.show()"
      ],
      "metadata": {
        "colab": {
          "base_uri": "https://localhost:8080/"
        },
        "id": "JTL7KgPlJbSP",
        "outputId": "50a19759-ec03-430f-ae34-e82b8fb9a0e6"
      },
      "execution_count": 6,
      "outputs": [
        {
          "output_type": "stream",
          "name": "stdout",
          "text": [
            "+--------------------+------------------------+---------------+--------------+\n",
            "|            recclass|meteorite_class_subclass|meteorite_class|meteorite_type|\n",
            "+--------------------+------------------------+---------------+--------------+\n",
            "|                  H5|    Chrondrite - ordi...|     Chrondrite|    Chrondrite|\n",
            "|                  L6|    Chrondrite - ordi...|     Chrondrite|    Chrondrite|\n",
            "|                  L5|    Chrondrite - ordi...|     Chrondrite|    Chrondrite|\n",
            "|     Iron, ungrouped|            Iron - other|           Iron|          Iron|\n",
            "|           Iron, IVA|         Iron - magmatic|           Iron|          Iron|\n",
            "|         Iron, IIIAB|         Iron - magmatic|           Iron|          Iron|\n",
            "|       Eucrite-pmict|             Achrondrite|    Achrondrite|    Chrondrite|\n",
            "|                  OC|    Chrondrite - ordi...|     Chrondrite|    Chrondrite|\n",
            "|                  H6|    Chrondrite - ordi...|     Chrondrite|    Chrondrite|\n",
            "|                  L3|    Chrondrite - ordi...|     Chrondrite|    Chrondrite|\n",
            "|               CO3.7|    Chrondrite - carb...|     Chrondrite|    Chrondrite|\n",
            "|   Pallasite, PMG-an|               Pallasite|      Pallasite|    Stony-iron|\n",
            "|                   H|    Chrondrite - ordi...|     Chrondrite|    Chrondrite|\n",
            "|        Iron, IAB-MG|        Iron - primitive|           Iron|          Iron|\n",
            "|Pallasite, ungrouped|               Pallasite|      Pallasite|    Stony-iron|\n",
            "|     Mesosiderite-B4|            Mesosiderite|   Mesosiderite|    Stony-iron|\n",
            "|           Iron, IIC|         Iron - magmatic|           Iron|          Iron|\n",
            "|            Iron, IC|         Iron - magmatic|           Iron|          Iron|\n",
            "|          Iron, IIIF|         Iron - magmatic|           Iron|          Iron|\n",
            "|              C2-ung|    Chrondrite - carb...|     Chrondrite|    Chrondrite|\n",
            "+--------------------+------------------------+---------------+--------------+\n",
            "only showing top 20 rows\n",
            "\n"
          ]
        }
      ]
    },
    {
      "cell_type": "code",
      "source": [
        "# url=\"https://<bucket name>.s3.amazonaws.com/user_payment.csv\"\n",
        "url = 'https://meteorite-ml-project.s3.amazonaws.com/state.csv'\n",
        "spark.sparkContext.addFile(url)\n",
        "state_df = spark.read.csv(SparkFiles.get(\"state.csv\"), sep=\",\", header=True, inferSchema=True)\n",
        "\n",
        "# Show DataFrame\n",
        "state_df.show()"
      ],
      "metadata": {
        "colab": {
          "base_uri": "https://localhost:8080/"
        },
        "id": "zY6rEo7SJqZb",
        "outputId": "b56e77dd-40d8-4031-ae1f-d3980eb35c97"
      },
      "execution_count": 7,
      "outputs": [
        {
          "output_type": "stream",
          "name": "stdout",
          "text": [
            "+------------+--------------------+----+---------+-------------+\n",
            "|state_abbrev|               state|FIPS|area_sqkm|      country|\n",
            "+------------+--------------------+----+---------+-------------+\n",
            "|          AL|             Alabama|   1|   135767|United States|\n",
            "|          AK|              Alaska|   2|  1723337|United States|\n",
            "|          AZ|             Arizona|   4|   295234|United States|\n",
            "|          AR|            Arkansas|   5|   137732|United States|\n",
            "|          CA|          California|   6|   423967|United States|\n",
            "|          CO|            Colorado|   8|   269601|United States|\n",
            "|          CT|         Connecticut|   9|    14357|United States|\n",
            "|          DE|            Delaware|  10|     6446|United States|\n",
            "|          DC|District of Columbia|  11|      177|United States|\n",
            "|          FL|             Florida|  12|   170312|United States|\n",
            "|          GA|             Georgia|  13|   153910|United States|\n",
            "|          HI|              Hawaii|  15|    28313|United States|\n",
            "|          ID|               Idaho|  16|   216443|United States|\n",
            "|          IL|            Illinois|  17|   149995|United States|\n",
            "|          IN|             Indiana|  18|    94326|United States|\n",
            "|          IA|                Iowa|  19|   145746|United States|\n",
            "|          KS|              Kansas|  20|   213100|United States|\n",
            "|          KY|            Kentucky|  21|   104656|United States|\n",
            "|          LA|           Louisiana|  22|   135659|United States|\n",
            "|          ME|               Maine|  23|    91633|United States|\n",
            "+------------+--------------------+----+---------+-------------+\n",
            "only showing top 20 rows\n",
            "\n"
          ]
        }
      ]
    },
    {
      "cell_type": "markdown",
      "metadata": {
        "id": "kQgPpNnVnRwh"
      },
      "source": [
        "Postgres Setup"
      ]
    },
    {
      "cell_type": "code",
      "execution_count": 8,
      "metadata": {
        "id": "985Vl1dtmpVU"
      },
      "outputs": [],
      "source": [
        "# Configure settings for RDS\n",
        "mode = \"append\"\n",
        "jdbc_url=\"jdbc:postgresql://meteorite-ml-db.cl3jquwwq7kn.us-east-1.rds.amazonaws.com:5432/meteorite_ml_db\"\n",
        "config = {\"user\":\"postgres\", \n",
        "          \"password\": \"XXXXXXXXXX\", \n",
        "          \"driver\":\"org.postgresql.Driver\"}\n"
      ]
    },
    {
      "cell_type": "code",
      "execution_count": 9,
      "metadata": {
        "id": "9yyZgvcUnaNN"
      },
      "outputs": [],
      "source": [
        "# Write DataFrame to landcover table in RDS\n",
        "\n",
        "landcover_df.write.jdbc(url=jdbc_url, table='landcover', mode=mode, properties=config)"
      ]
    },
    {
      "cell_type": "code",
      "execution_count": 10,
      "metadata": {
        "id": "8rsTf2kmna3V"
      },
      "outputs": [],
      "source": [
        "# Write dataframe to meteorite_main table in RDS\n",
        "\n",
        "meteoritemain_df.write.jdbc(url=jdbc_url, table='meteorite_main', mode=mode, properties=config)"
      ]
    },
    {
      "cell_type": "code",
      "execution_count": 11,
      "metadata": {
        "id": "9q6Bm3kAncqx"
      },
      "outputs": [],
      "source": [
        "# Write dataframe to meteorite_type table in RDS\n",
        "\n",
        "meteoritetypes_df.write.jdbc(url=jdbc_url, table='meteorite_type', mode=mode, properties=config)"
      ]
    },
    {
      "cell_type": "code",
      "execution_count": 12,
      "metadata": {
        "id": "Kx3hMnlAD5FA"
      },
      "outputs": [],
      "source": [
        "# Write dataframe to state table in RDS\n",
        "\n",
        "state_df.write.jdbc(url=jdbc_url, table='state', mode=mode, properties=config)"
      ]
    }
  ],
  "metadata": {
    "colab": {
      "provenance": []
    },
    "kernelspec": {
      "display_name": "Python 3",
      "language": "python",
      "name": "python3"
    },
    "language_info": {
      "codemirror_mode": {
        "name": "ipython",
        "version": 3
      },
      "file_extension": ".py",
      "mimetype": "text/x-python",
      "name": "python",
      "nbconvert_exporter": "python",
      "pygments_lexer": "ipython3",
      "version": "3.8.8"
    },
    "latex_envs": {
      "LaTeX_envs_menu_present": true,
      "autoclose": false,
      "autocomplete": true,
      "bibliofile": "biblio.bib",
      "cite_by": "apalike",
      "current_citInitial": 1,
      "eqLabelWithNumbers": true,
      "eqNumInitial": 1,
      "hotkeys": {
        "equation": "Ctrl-E",
        "itemize": "Ctrl-I"
      },
      "labels_anchors": false,
      "latex_user_defs": false,
      "report_style_numbering": false,
      "user_envs_cfg": false
    }
  },
  "nbformat": 4,
  "nbformat_minor": 0
}