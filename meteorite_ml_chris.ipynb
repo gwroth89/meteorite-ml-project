{
 "cells": [
  {
   "cell_type": "code",
   "execution_count": 30,
   "metadata": {},
   "outputs": [],
   "source": [
    "from sqlalchemy import create_engine\n",
    "from sqlalchemy.types import Integer, Text, String, DateTime, Float\n",
    "import psycopg2"
   ]
  },
  {
   "cell_type": "code",
   "execution_count": 31,
   "metadata": {},
   "outputs": [],
   "source": [
    "import numpy as np\n",
    "import pandas as pd\n",
    "import matplotlib.pyplot as plt\n",
    "import plotly.express as px\n",
    "import geopy\n",
    "from geopy.geocoders import Nominatim\n",
    "from pathlib import Path\n",
    "from sklearn.preprocessing import StandardScaler, normalize\n",
    "from sklearn.decomposition import PCA\n",
    "from sklearn.cluster import KMeans, AgglomerativeClustering\n",
    "from sklearn.datasets import make_classification, make_regression\n",
    "from sklearn.ensemble import RandomForestClassifier, ExtraTreesClassifier\n",
    "from sklearn.linear_model import LogisticRegression, LinearRegression, Ridge, Lasso, ElasticNet\n",
    "from sklearn.model_selection import train_test_split\n",
    "from sklearn.metrics import confusion_matrix, classification_report, roc_curve, auc\n",
    "from sklearn.neighbors import KNeighborsClassifier\n",
    "from sklearn.svm import SVC\n",
    "from scipy.cluster.hierarchy import dendrogram, linkage"
   ]
  },
  {
   "attachments": {},
   "cell_type": "markdown",
   "metadata": {},
   "source": [
    "# POSTGRES LOCAL CONNECTION"
   ]
  },
  {
   "cell_type": "code",
   "execution_count": 32,
   "metadata": {},
   "outputs": [],
   "source": [
    "# # link to postgresql on my local machine\n",
    "# # https://naysan.ca/2020/05/31/postgresql-to-pandas/\n",
    "# param_dic = {\n",
    "#     \"host\"      : \"localhost\",  \n",
    "#     \"database\"  : \"Meteorites\",\n",
    "#     \"user\"      : \"postgres\",\n",
    "#     \"password\"  : \"postgres\"\n",
    "# }\n",
    "# def connect(params_dic):\n",
    "#     \"\"\" Connect to the PostgreSQL database server \"\"\"\n",
    "#     conn = None\n",
    "#     try:\n",
    "#         # connect to the PostgreSQL server\n",
    "#         print('Connecting to the PostgreSQL database...')\n",
    "#         conn = psycopg2.connect(**params_dic)\n",
    "#     except (Exception, psycopg2.DatabaseError) as error:\n",
    "#         print(error)\n",
    "#         sys.exit(1) \n",
    "#     print(\"Connection successful\")\n",
    "#     return conn"
   ]
  },
  {
   "attachments": {},
   "cell_type": "markdown",
   "metadata": {},
   "source": [
    "# AWS DB CONNECTION"
   ]
  },
  {
   "cell_type": "code",
   "execution_count": 33,
   "metadata": {},
   "outputs": [],
   "source": [
    "# link to aws\n",
    "# https://naysan.ca/2020/05/31/postgresql-to-pandas/\n",
    "param_dic = {\n",
    "    \"host\"      : \"meteorite-ml-db.cl3jquwwq7kn.us-east-1.rds.amazonaws.com\",  \n",
    "    \"database\"  : \"meteorite_ml_db\",\n",
    "    \"user\"      : \"postgres\",\n",
    "    \"password\"  : \"project4team5\"\n",
    "}\n",
    "def connect(params_dic):\n",
    "    \"\"\" Connect to the PostgreSQL/AWS database server \"\"\"\n",
    "    conn = None\n",
    "    try:\n",
    "        # connect to the PostgreSQL server\n",
    "        print('Connecting to the PostgreSQL/AWS database...')\n",
    "        conn = psycopg2.connect(**params_dic)\n",
    "    except (Exception, psycopg2.DatabaseError) as error:\n",
    "        print(error)\n",
    "        sys.exit(1) \n",
    "    print(\"Connection successful\")\n",
    "    return conn"
   ]
  },
  {
   "cell_type": "code",
   "execution_count": 34,
   "metadata": {},
   "outputs": [],
   "source": [
    "# link to aws\n",
    "# https://naysan.ca/2020/05/31/postgresql-to-pandas/\n",
    "# define connection parameters, function to connect to database\n",
    "param_dic = {\n",
    "    \"host\"      : \"localhost\",  \n",
    "    \"database\"  : \"Meteorites\",\n",
    "    \"user\"      : \"postgres\",\n",
    "    \"password\"  : \"postgres\"\n",
    "}\n",
    "dbname = 'AWS'\n",
    "def connect(params_dic):\n",
    "    \"\"\" Connect to the database server \"\"\"\n",
    "    conn = None\n",
    "    try:\n",
    "        # connect to the PostgreSQL server\n",
    "        print(f'Connecting to the {dbname} database...')\n",
    "        conn = psycopg2.connect(**params_dic)\n",
    "    except (Exception, psycopg2.DatabaseError) as error:\n",
    "        print(error)\n",
    "        sys.exit(1) \n",
    "    print(\"Connection successful\")\n",
    "    return conn"
   ]
  },
  {
   "cell_type": "code",
   "execution_count": 35,
   "metadata": {},
   "outputs": [],
   "source": [
    "# function to query database and put data into df\n",
    "def postgresql_to_dataframe(conn, select_query, column_names):\n",
    "    \"\"\"\n",
    "    Tranform a SELECT query into a pandas dataframe\n",
    "    \"\"\"\n",
    "    cursor = conn.cursor()\n",
    "    try:\n",
    "        cursor.execute(select_query)\n",
    "    except (Exception, psycopg2.DatabaseError) as error:\n",
    "        print(\"Error: %s\" % error)\n",
    "        cursor.close()\n",
    "        return 1\n",
    "    \n",
    "    # Naturally we get a list of tupples\n",
    "    tupples = cursor.fetchall()\n",
    "    cursor.close()\n",
    "    \n",
    "    # We just need to turn it into a pandas dataframe\n",
    "    df = pd.DataFrame(tupples, columns=column_names)\n",
    "    return df"
   ]
  },
  {
   "cell_type": "code",
   "execution_count": 36,
   "metadata": {},
   "outputs": [],
   "source": [
    "# create list of column names for each db table\n",
    "landcover_cols=[\"id\",\"state_abbrev\",\"variable\",\"value\"]\n",
    "state_cols=[\"state_abbrev\",\"state\",\"FIPS\",\"area_sqkm\",\"country\"]\n",
    "meteorite_type_cols=[\"recclass\",\"meteorite_class_subclass\",\"meteorite_class\",\"meteorite_type\"]\n",
    "meteorite_main_cols=[\"id\",\"name\",\"recclass\",\"mass_grams\",\"fall\",\"year\",\"reclat\",\"reclong\",\"geolocation\",\"geometry\",\"elevation\",\"country\",\"state_abbrev\"]"
   ]
  },
  {
   "cell_type": "code",
   "execution_count": 37,
   "metadata": {},
   "outputs": [
    {
     "name": "stdout",
     "output_type": "stream",
     "text": [
      "Connecting to the AWS database...\n",
      "Connection successful\n"
     ]
    }
   ],
   "source": [
    "# connect to database\n",
    "conn = connect(param_dic)\n"
   ]
  },
  {
   "cell_type": "code",
   "execution_count": 38,
   "metadata": {},
   "outputs": [
    {
     "name": "stdout",
     "output_type": "stream",
     "text": [
      "52\n"
     ]
    },
    {
     "data": {
      "text/html": [
       "<div>\n",
       "<style scoped>\n",
       "    .dataframe tbody tr th:only-of-type {\n",
       "        vertical-align: middle;\n",
       "    }\n",
       "\n",
       "    .dataframe tbody tr th {\n",
       "        vertical-align: top;\n",
       "    }\n",
       "\n",
       "    .dataframe thead th {\n",
       "        text-align: right;\n",
       "    }\n",
       "</style>\n",
       "<table border=\"1\" class=\"dataframe\">\n",
       "  <thead>\n",
       "    <tr style=\"text-align: right;\">\n",
       "      <th></th>\n",
       "      <th>state_abbrev</th>\n",
       "      <th>state</th>\n",
       "      <th>FIPS</th>\n",
       "      <th>area_sqkm</th>\n",
       "      <th>country</th>\n",
       "    </tr>\n",
       "  </thead>\n",
       "  <tbody>\n",
       "    <tr>\n",
       "      <th>0</th>\n",
       "      <td>AL</td>\n",
       "      <td>Alabama</td>\n",
       "      <td>1</td>\n",
       "      <td>135767</td>\n",
       "      <td>United States</td>\n",
       "    </tr>\n",
       "    <tr>\n",
       "      <th>1</th>\n",
       "      <td>AK</td>\n",
       "      <td>Alaska</td>\n",
       "      <td>2</td>\n",
       "      <td>1723337</td>\n",
       "      <td>United States</td>\n",
       "    </tr>\n",
       "    <tr>\n",
       "      <th>2</th>\n",
       "      <td>AZ</td>\n",
       "      <td>Arizona</td>\n",
       "      <td>4</td>\n",
       "      <td>295234</td>\n",
       "      <td>United States</td>\n",
       "    </tr>\n",
       "    <tr>\n",
       "      <th>3</th>\n",
       "      <td>AR</td>\n",
       "      <td>Arkansas</td>\n",
       "      <td>5</td>\n",
       "      <td>137732</td>\n",
       "      <td>United States</td>\n",
       "    </tr>\n",
       "    <tr>\n",
       "      <th>4</th>\n",
       "      <td>CA</td>\n",
       "      <td>California</td>\n",
       "      <td>6</td>\n",
       "      <td>423967</td>\n",
       "      <td>United States</td>\n",
       "    </tr>\n",
       "  </tbody>\n",
       "</table>\n",
       "</div>"
      ],
      "text/plain": [
       "  state_abbrev       state  FIPS  area_sqkm        country\n",
       "0           AL     Alabama     1     135767  United States\n",
       "1           AK      Alaska     2    1723337  United States\n",
       "2           AZ     Arizona     4     295234  United States\n",
       "3           AR    Arkansas     5     137732  United States\n",
       "4           CA  California     6     423967  United States"
      ]
     },
     "execution_count": 38,
     "metadata": {},
     "output_type": "execute_result"
    }
   ],
   "source": [
    "# pull all from state table\n",
    "state_df = postgresql_to_dataframe(conn,\"select * from state\",state_cols)\n",
    "print(len(state_df))\n",
    "state_df.head()"
   ]
  },
  {
   "cell_type": "code",
   "execution_count": 39,
   "metadata": {},
   "outputs": [
    {
     "name": "stdout",
     "output_type": "stream",
     "text": [
      "459\n"
     ]
    },
    {
     "data": {
      "text/html": [
       "<div>\n",
       "<style scoped>\n",
       "    .dataframe tbody tr th:only-of-type {\n",
       "        vertical-align: middle;\n",
       "    }\n",
       "\n",
       "    .dataframe tbody tr th {\n",
       "        vertical-align: top;\n",
       "    }\n",
       "\n",
       "    .dataframe thead th {\n",
       "        text-align: right;\n",
       "    }\n",
       "</style>\n",
       "<table border=\"1\" class=\"dataframe\">\n",
       "  <thead>\n",
       "    <tr style=\"text-align: right;\">\n",
       "      <th></th>\n",
       "      <th>id</th>\n",
       "      <th>state_abbrev</th>\n",
       "      <th>variable</th>\n",
       "      <th>value</th>\n",
       "    </tr>\n",
       "  </thead>\n",
       "  <tbody>\n",
       "    <tr>\n",
       "      <th>0</th>\n",
       "      <td>1</td>\n",
       "      <td>AL</td>\n",
       "      <td>FOREST</td>\n",
       "      <td>64.872148</td>\n",
       "    </tr>\n",
       "    <tr>\n",
       "      <th>1</th>\n",
       "      <td>2</td>\n",
       "      <td>AL</td>\n",
       "      <td>GRSL</td>\n",
       "      <td>19.904490</td>\n",
       "    </tr>\n",
       "    <tr>\n",
       "      <th>2</th>\n",
       "      <td>3</td>\n",
       "      <td>AL</td>\n",
       "      <td>WETL</td>\n",
       "      <td>0.176988</td>\n",
       "    </tr>\n",
       "    <tr>\n",
       "      <th>3</th>\n",
       "      <td>4</td>\n",
       "      <td>AL</td>\n",
       "      <td>SHRUBL</td>\n",
       "      <td>1.222573</td>\n",
       "    </tr>\n",
       "    <tr>\n",
       "      <th>4</th>\n",
       "      <td>5</td>\n",
       "      <td>AL</td>\n",
       "      <td>SPARSE_VEGETATION</td>\n",
       "      <td>0.034765</td>\n",
       "    </tr>\n",
       "  </tbody>\n",
       "</table>\n",
       "</div>"
      ],
      "text/plain": [
       "   id state_abbrev           variable      value\n",
       "0   1           AL             FOREST  64.872148\n",
       "1   2           AL               GRSL  19.904490\n",
       "2   3           AL               WETL   0.176988\n",
       "3   4           AL             SHRUBL   1.222573\n",
       "4   5           AL  SPARSE_VEGETATION   0.034765"
      ]
     },
     "execution_count": 39,
     "metadata": {},
     "output_type": "execute_result"
    }
   ],
   "source": [
    "# pull all from landcover table\n",
    "landcover_df = postgresql_to_dataframe(conn,\"select * from landcover\",landcover_cols)\n",
    "print(len(landcover_df))\n",
    "landcover_df.head()"
   ]
  },
  {
   "cell_type": "code",
   "execution_count": 40,
   "metadata": {},
   "outputs": [
    {
     "name": "stdout",
     "output_type": "stream",
     "text": [
      "459\n"
     ]
    },
    {
     "data": {
      "text/html": [
       "<div>\n",
       "<style scoped>\n",
       "    .dataframe tbody tr th:only-of-type {\n",
       "        vertical-align: middle;\n",
       "    }\n",
       "\n",
       "    .dataframe tbody tr th {\n",
       "        vertical-align: top;\n",
       "    }\n",
       "\n",
       "    .dataframe thead th {\n",
       "        text-align: right;\n",
       "    }\n",
       "</style>\n",
       "<table border=\"1\" class=\"dataframe\">\n",
       "  <thead>\n",
       "    <tr style=\"text-align: right;\">\n",
       "      <th></th>\n",
       "      <th>variable</th>\n",
       "      <th>value</th>\n",
       "    </tr>\n",
       "    <tr>\n",
       "      <th>state_abbrev</th>\n",
       "      <th></th>\n",
       "      <th></th>\n",
       "    </tr>\n",
       "  </thead>\n",
       "  <tbody>\n",
       "    <tr>\n",
       "      <th>AL</th>\n",
       "      <td>FOREST</td>\n",
       "      <td>64.872148</td>\n",
       "    </tr>\n",
       "    <tr>\n",
       "      <th>AL</th>\n",
       "      <td>GRSL</td>\n",
       "      <td>19.904490</td>\n",
       "    </tr>\n",
       "    <tr>\n",
       "      <th>AL</th>\n",
       "      <td>WETL</td>\n",
       "      <td>0.176988</td>\n",
       "    </tr>\n",
       "    <tr>\n",
       "      <th>AL</th>\n",
       "      <td>SHRUBL</td>\n",
       "      <td>1.222573</td>\n",
       "    </tr>\n",
       "    <tr>\n",
       "      <th>AL</th>\n",
       "      <td>SPARSE_VEGETATION</td>\n",
       "      <td>0.034765</td>\n",
       "    </tr>\n",
       "  </tbody>\n",
       "</table>\n",
       "</div>"
      ],
      "text/plain": [
       "                       variable      value\n",
       "state_abbrev                              \n",
       "AL                       FOREST  64.872148\n",
       "AL                         GRSL  19.904490\n",
       "AL                         WETL   0.176988\n",
       "AL                       SHRUBL   1.222573\n",
       "AL            SPARSE_VEGETATION   0.034765"
      ]
     },
     "execution_count": 40,
     "metadata": {},
     "output_type": "execute_result"
    }
   ],
   "source": [
    "# remove ID column and set state abbreviation to index\n",
    "landcover_df.drop(['id'], axis=1, inplace=True)\n",
    "landcover_df.set_index('state_abbrev', inplace=True)\n",
    "print(len(landcover_df))\n",
    "landcover_df.head()"
   ]
  },
  {
   "cell_type": "code",
   "execution_count": 41,
   "metadata": {},
   "outputs": [
    {
     "name": "stdout",
     "output_type": "stream",
     "text": [
      "51\n"
     ]
    },
    {
     "data": {
      "text/html": [
       "<div>\n",
       "<style scoped>\n",
       "    .dataframe tbody tr th:only-of-type {\n",
       "        vertical-align: middle;\n",
       "    }\n",
       "\n",
       "    .dataframe tbody tr th {\n",
       "        vertical-align: top;\n",
       "    }\n",
       "\n",
       "    .dataframe thead th {\n",
       "        text-align: right;\n",
       "    }\n",
       "</style>\n",
       "<table border=\"1\" class=\"dataframe\">\n",
       "  <thead>\n",
       "    <tr style=\"text-align: right;\">\n",
       "      <th></th>\n",
       "      <th>state_abbrev</th>\n",
       "      <th>BARE</th>\n",
       "      <th>CROPL</th>\n",
       "      <th>FOREST</th>\n",
       "      <th>GRSL</th>\n",
       "      <th>SHRUBL</th>\n",
       "      <th>SPARSE_VEGETATION</th>\n",
       "      <th>URBAN</th>\n",
       "      <th>WATER</th>\n",
       "      <th>WETL</th>\n",
       "    </tr>\n",
       "  </thead>\n",
       "  <tbody>\n",
       "    <tr>\n",
       "      <th>0</th>\n",
       "      <td>AK</td>\n",
       "      <td>10.875705</td>\n",
       "      <td>0.045602</td>\n",
       "      <td>34.319849</td>\n",
       "      <td>10.628187</td>\n",
       "      <td>20.993753</td>\n",
       "      <td>15.991683</td>\n",
       "      <td>0.014371</td>\n",
       "      <td>5.340909</td>\n",
       "      <td>1.789941</td>\n",
       "    </tr>\n",
       "    <tr>\n",
       "      <th>1</th>\n",
       "      <td>AL</td>\n",
       "      <td>0.189766</td>\n",
       "      <td>10.177265</td>\n",
       "      <td>64.872148</td>\n",
       "      <td>19.904490</td>\n",
       "      <td>1.222573</td>\n",
       "      <td>0.034765</td>\n",
       "      <td>1.659720</td>\n",
       "      <td>1.762286</td>\n",
       "      <td>0.176988</td>\n",
       "    </tr>\n",
       "  </tbody>\n",
       "</table>\n",
       "</div>"
      ],
      "text/plain": [
       "  state_abbrev       BARE      CROPL     FOREST       GRSL     SHRUBL  \\\n",
       "0           AK  10.875705   0.045602  34.319849  10.628187  20.993753   \n",
       "1           AL   0.189766  10.177265  64.872148  19.904490   1.222573   \n",
       "\n",
       "   SPARSE_VEGETATION     URBAN     WATER      WETL  \n",
       "0          15.991683  0.014371  5.340909  1.789941  \n",
       "1           0.034765  1.659720  1.762286  0.176988  "
      ]
     },
     "execution_count": 41,
     "metadata": {},
     "output_type": "execute_result"
    }
   ],
   "source": [
    "# flatten out landcover data\n",
    "# pivot table to create columns for each variable\n",
    "landcovery = (landcover_df.pivot_table(index = landcover_df.index, columns='variable',values = 'value', aggfunc=lambda x: x, fill_value=0)\n",
    "       .rename_axis(None, axis='columns')\n",
    "      \n",
    ")\n",
    "landcovery.reset_index(inplace=True)\n",
    "print(len(landcovery))\n",
    "landcovery.head(2)"
   ]
  },
  {
   "cell_type": "code",
   "execution_count": 42,
   "metadata": {},
   "outputs": [
    {
     "data": {
      "text/html": [
       "<div>\n",
       "<style scoped>\n",
       "    .dataframe tbody tr th:only-of-type {\n",
       "        vertical-align: middle;\n",
       "    }\n",
       "\n",
       "    .dataframe tbody tr th {\n",
       "        vertical-align: top;\n",
       "    }\n",
       "\n",
       "    .dataframe thead th {\n",
       "        text-align: right;\n",
       "    }\n",
       "</style>\n",
       "<table border=\"1\" class=\"dataframe\">\n",
       "  <thead>\n",
       "    <tr style=\"text-align: right;\">\n",
       "      <th></th>\n",
       "      <th>recclass</th>\n",
       "      <th>meteorite_class_subclass</th>\n",
       "      <th>meteorite_class</th>\n",
       "      <th>meteorite_type</th>\n",
       "    </tr>\n",
       "  </thead>\n",
       "  <tbody>\n",
       "    <tr>\n",
       "      <th>0</th>\n",
       "      <td>H5</td>\n",
       "      <td>Chrondrite - ordinary</td>\n",
       "      <td>Chrondrite</td>\n",
       "      <td>Chrondrite</td>\n",
       "    </tr>\n",
       "    <tr>\n",
       "      <th>1</th>\n",
       "      <td>L6</td>\n",
       "      <td>Chrondrite - ordinary</td>\n",
       "      <td>Chrondrite</td>\n",
       "      <td>Chrondrite</td>\n",
       "    </tr>\n",
       "    <tr>\n",
       "      <th>2</th>\n",
       "      <td>L5</td>\n",
       "      <td>Chrondrite - ordinary</td>\n",
       "      <td>Chrondrite</td>\n",
       "      <td>Chrondrite</td>\n",
       "    </tr>\n",
       "    <tr>\n",
       "      <th>3</th>\n",
       "      <td>Iron, ungrouped</td>\n",
       "      <td>Iron - other</td>\n",
       "      <td>Iron</td>\n",
       "      <td>Iron</td>\n",
       "    </tr>\n",
       "    <tr>\n",
       "      <th>4</th>\n",
       "      <td>Iron, IVA</td>\n",
       "      <td>Iron - magmatic</td>\n",
       "      <td>Iron</td>\n",
       "      <td>Iron</td>\n",
       "    </tr>\n",
       "  </tbody>\n",
       "</table>\n",
       "</div>"
      ],
      "text/plain": [
       "          recclass meteorite_class_subclass meteorite_class meteorite_type\n",
       "0               H5    Chrondrite - ordinary      Chrondrite     Chrondrite\n",
       "1               L6    Chrondrite - ordinary      Chrondrite     Chrondrite\n",
       "2               L5    Chrondrite - ordinary      Chrondrite     Chrondrite\n",
       "3  Iron, ungrouped             Iron - other            Iron           Iron\n",
       "4        Iron, IVA          Iron - magmatic            Iron           Iron"
      ]
     },
     "execution_count": 42,
     "metadata": {},
     "output_type": "execute_result"
    }
   ],
   "source": [
    "# pull all from meteorite_type table\n",
    "meteorite_type_df = postgresql_to_dataframe(conn,\"select * from meteorite_type\",meteorite_type_cols)\n",
    "meteorite_type_df.head()"
   ]
  },
  {
   "cell_type": "code",
   "execution_count": 43,
   "metadata": {},
   "outputs": [
    {
     "data": {
      "text/html": [
       "<div>\n",
       "<style scoped>\n",
       "    .dataframe tbody tr th:only-of-type {\n",
       "        vertical-align: middle;\n",
       "    }\n",
       "\n",
       "    .dataframe tbody tr th {\n",
       "        vertical-align: top;\n",
       "    }\n",
       "\n",
       "    .dataframe thead th {\n",
       "        text-align: right;\n",
       "    }\n",
       "</style>\n",
       "<table border=\"1\" class=\"dataframe\">\n",
       "  <thead>\n",
       "    <tr style=\"text-align: right;\">\n",
       "      <th></th>\n",
       "      <th>id</th>\n",
       "      <th>name</th>\n",
       "      <th>recclass</th>\n",
       "      <th>mass_grams</th>\n",
       "      <th>fall</th>\n",
       "      <th>year</th>\n",
       "      <th>reclat</th>\n",
       "      <th>reclong</th>\n",
       "      <th>geolocation</th>\n",
       "      <th>geometry</th>\n",
       "      <th>elevation</th>\n",
       "      <th>country</th>\n",
       "      <th>state_abbrev</th>\n",
       "    </tr>\n",
       "  </thead>\n",
       "  <tbody>\n",
       "    <tr>\n",
       "      <th>0</th>\n",
       "      <td>2276</td>\n",
       "      <td>Allegan</td>\n",
       "      <td>H5</td>\n",
       "      <td>32000.0</td>\n",
       "      <td>Fell</td>\n",
       "      <td>1899</td>\n",
       "      <td>42.53333</td>\n",
       "      <td>-85.88333</td>\n",
       "      <td>(42.53333, -85.88333)</td>\n",
       "      <td>POINT (-85.88333 42.53333)</td>\n",
       "      <td>225.0</td>\n",
       "      <td>United States</td>\n",
       "      <td>MI</td>\n",
       "    </tr>\n",
       "    <tr>\n",
       "      <th>1</th>\n",
       "      <td>5401</td>\n",
       "      <td>Coleman</td>\n",
       "      <td>L6</td>\n",
       "      <td>469.0</td>\n",
       "      <td>Fell</td>\n",
       "      <td>1994</td>\n",
       "      <td>43.76111</td>\n",
       "      <td>-84.50778</td>\n",
       "      <td>(43.76111, -84.50778)</td>\n",
       "      <td>POINT (-84.50778 43.76111)</td>\n",
       "      <td>218.0</td>\n",
       "      <td>United States</td>\n",
       "      <td>MI</td>\n",
       "    </tr>\n",
       "    <tr>\n",
       "      <th>2</th>\n",
       "      <td>22766</td>\n",
       "      <td>Rose City</td>\n",
       "      <td>H5</td>\n",
       "      <td>10600.0</td>\n",
       "      <td>Fell</td>\n",
       "      <td>1921</td>\n",
       "      <td>44.51667</td>\n",
       "      <td>-83.95000</td>\n",
       "      <td>(44.51667, -83.95)</td>\n",
       "      <td>POINT (-83.95 44.51667)</td>\n",
       "      <td>387.0</td>\n",
       "      <td>United States</td>\n",
       "      <td>MI</td>\n",
       "    </tr>\n",
       "    <tr>\n",
       "      <th>3</th>\n",
       "      <td>24337</td>\n",
       "      <td>Worden</td>\n",
       "      <td>L5</td>\n",
       "      <td>1551.0</td>\n",
       "      <td>Fell</td>\n",
       "      <td>1997</td>\n",
       "      <td>42.38467</td>\n",
       "      <td>-83.61150</td>\n",
       "      <td>(42.38467, -83.6115)</td>\n",
       "      <td>POINT (-83.6115 42.38467)</td>\n",
       "      <td>279.0</td>\n",
       "      <td>United States</td>\n",
       "      <td>MI</td>\n",
       "    </tr>\n",
       "    <tr>\n",
       "      <th>4</th>\n",
       "      <td>10955</td>\n",
       "      <td>Grand Rapids</td>\n",
       "      <td>Iron, ungrouped</td>\n",
       "      <td>51700.0</td>\n",
       "      <td>Found</td>\n",
       "      <td>1883</td>\n",
       "      <td>42.96667</td>\n",
       "      <td>-85.76667</td>\n",
       "      <td>(42.96667, -85.76667)</td>\n",
       "      <td>POINT (-85.76667 42.96667)</td>\n",
       "      <td>225.0</td>\n",
       "      <td>United States</td>\n",
       "      <td>MI</td>\n",
       "    </tr>\n",
       "  </tbody>\n",
       "</table>\n",
       "</div>"
      ],
      "text/plain": [
       "      id          name         recclass  mass_grams   fall  year    reclat  \\\n",
       "0   2276       Allegan               H5     32000.0   Fell  1899  42.53333   \n",
       "1   5401       Coleman               L6       469.0   Fell  1994  43.76111   \n",
       "2  22766     Rose City               H5     10600.0   Fell  1921  44.51667   \n",
       "3  24337        Worden               L5      1551.0   Fell  1997  42.38467   \n",
       "4  10955  Grand Rapids  Iron, ungrouped     51700.0  Found  1883  42.96667   \n",
       "\n",
       "    reclong            geolocation                    geometry  elevation  \\\n",
       "0 -85.88333  (42.53333, -85.88333)  POINT (-85.88333 42.53333)      225.0   \n",
       "1 -84.50778  (43.76111, -84.50778)  POINT (-84.50778 43.76111)      218.0   \n",
       "2 -83.95000     (44.51667, -83.95)     POINT (-83.95 44.51667)      387.0   \n",
       "3 -83.61150   (42.38467, -83.6115)   POINT (-83.6115 42.38467)      279.0   \n",
       "4 -85.76667  (42.96667, -85.76667)  POINT (-85.76667 42.96667)      225.0   \n",
       "\n",
       "         country state_abbrev  \n",
       "0  United States           MI  \n",
       "1  United States           MI  \n",
       "2  United States           MI  \n",
       "3  United States           MI  \n",
       "4  United States           MI  "
      ]
     },
     "execution_count": 43,
     "metadata": {},
     "output_type": "execute_result"
    }
   ],
   "source": [
    "# pull all from meteorite_main table\n",
    "meteorite_main_df = postgresql_to_dataframe(conn,\"select * from meteorite_main\",meteorite_main_cols)\n",
    "meteorite_main_df.head()"
   ]
  },
  {
   "cell_type": "code",
   "execution_count": 44,
   "metadata": {},
   "outputs": [],
   "source": [
    "#  create list for df with joined data (all except for landcover - needed to be flattened in nb before join)\n",
    "ml_interim5_cols =  ['mass_grams', 'fall', 'year', 'reclat', 'reclong', 'elevation','state_abbrev', 'FIPS', 'area_sqkm', 'meteorite_class']"
   ]
  },
  {
   "cell_type": "code",
   "execution_count": 45,
   "metadata": {},
   "outputs": [
    {
     "data": {
      "text/html": [
       "<div>\n",
       "<style scoped>\n",
       "    .dataframe tbody tr th:only-of-type {\n",
       "        vertical-align: middle;\n",
       "    }\n",
       "\n",
       "    .dataframe tbody tr th {\n",
       "        vertical-align: top;\n",
       "    }\n",
       "\n",
       "    .dataframe thead th {\n",
       "        text-align: right;\n",
       "    }\n",
       "</style>\n",
       "<table border=\"1\" class=\"dataframe\">\n",
       "  <thead>\n",
       "    <tr style=\"text-align: right;\">\n",
       "      <th></th>\n",
       "      <th>mass_grams</th>\n",
       "      <th>fall</th>\n",
       "      <th>year</th>\n",
       "      <th>reclat</th>\n",
       "      <th>reclong</th>\n",
       "      <th>elevation</th>\n",
       "      <th>state_abbrev</th>\n",
       "      <th>FIPS</th>\n",
       "      <th>area_sqkm</th>\n",
       "      <th>meteorite_class</th>\n",
       "    </tr>\n",
       "  </thead>\n",
       "  <tbody>\n",
       "    <tr>\n",
       "      <th>0</th>\n",
       "      <td>32000.0</td>\n",
       "      <td>Fell</td>\n",
       "      <td>1899</td>\n",
       "      <td>42.53333</td>\n",
       "      <td>-85.88333</td>\n",
       "      <td>225.0</td>\n",
       "      <td>MI</td>\n",
       "      <td>26</td>\n",
       "      <td>250487</td>\n",
       "      <td>Chrondrite</td>\n",
       "    </tr>\n",
       "    <tr>\n",
       "      <th>1</th>\n",
       "      <td>469.0</td>\n",
       "      <td>Fell</td>\n",
       "      <td>1994</td>\n",
       "      <td>43.76111</td>\n",
       "      <td>-84.50778</td>\n",
       "      <td>218.0</td>\n",
       "      <td>MI</td>\n",
       "      <td>26</td>\n",
       "      <td>250487</td>\n",
       "      <td>Chrondrite</td>\n",
       "    </tr>\n",
       "    <tr>\n",
       "      <th>2</th>\n",
       "      <td>10600.0</td>\n",
       "      <td>Fell</td>\n",
       "      <td>1921</td>\n",
       "      <td>44.51667</td>\n",
       "      <td>-83.95000</td>\n",
       "      <td>387.0</td>\n",
       "      <td>MI</td>\n",
       "      <td>26</td>\n",
       "      <td>250487</td>\n",
       "      <td>Chrondrite</td>\n",
       "    </tr>\n",
       "    <tr>\n",
       "      <th>3</th>\n",
       "      <td>1551.0</td>\n",
       "      <td>Fell</td>\n",
       "      <td>1997</td>\n",
       "      <td>42.38467</td>\n",
       "      <td>-83.61150</td>\n",
       "      <td>279.0</td>\n",
       "      <td>MI</td>\n",
       "      <td>26</td>\n",
       "      <td>250487</td>\n",
       "      <td>Chrondrite</td>\n",
       "    </tr>\n",
       "    <tr>\n",
       "      <th>4</th>\n",
       "      <td>51700.0</td>\n",
       "      <td>Found</td>\n",
       "      <td>1883</td>\n",
       "      <td>42.96667</td>\n",
       "      <td>-85.76667</td>\n",
       "      <td>225.0</td>\n",
       "      <td>MI</td>\n",
       "      <td>26</td>\n",
       "      <td>250487</td>\n",
       "      <td>Iron</td>\n",
       "    </tr>\n",
       "  </tbody>\n",
       "</table>\n",
       "</div>"
      ],
      "text/plain": [
       "   mass_grams   fall  year    reclat   reclong  elevation state_abbrev  FIPS  \\\n",
       "0     32000.0   Fell  1899  42.53333 -85.88333      225.0           MI    26   \n",
       "1       469.0   Fell  1994  43.76111 -84.50778      218.0           MI    26   \n",
       "2     10600.0   Fell  1921  44.51667 -83.95000      387.0           MI    26   \n",
       "3      1551.0   Fell  1997  42.38467 -83.61150      279.0           MI    26   \n",
       "4     51700.0  Found  1883  42.96667 -85.76667      225.0           MI    26   \n",
       "\n",
       "   area_sqkm meteorite_class  \n",
       "0     250487      Chrondrite  \n",
       "1     250487      Chrondrite  \n",
       "2     250487      Chrondrite  \n",
       "3     250487      Chrondrite  \n",
       "4     250487            Iron  "
      ]
     },
     "execution_count": 45,
     "metadata": {},
     "output_type": "execute_result"
    }
   ],
   "source": [
    "# pull in all data except for landcover using sql\n",
    "ml_interim5_df = postgresql_to_dataframe(conn,\"select mm.mass_grams, mm.fall, mm.year, mm.reclat, mm.reclong, mm.elevation, s.state_abbrev, s.FIPS, s.area_sqkm, mt.meteorite_class from meteorite_main mm, meteorite_type mt, state s where mm.state_abbrev = s.state_abbrev and mm.recclass = mt.recclass;\",ml_interim5_cols) \n",
    "ml_interim5_df.head()"
   ]
  },
  {
   "cell_type": "code",
   "execution_count": 46,
   "metadata": {},
   "outputs": [],
   "source": [
    "# clos connection\n",
    "conn.close()"
   ]
  },
  {
   "cell_type": "code",
   "execution_count": 47,
   "metadata": {},
   "outputs": [
    {
     "name": "stdout",
     "output_type": "stream",
     "text": [
      "1648\n"
     ]
    },
    {
     "data": {
      "text/html": [
       "<div>\n",
       "<style scoped>\n",
       "    .dataframe tbody tr th:only-of-type {\n",
       "        vertical-align: middle;\n",
       "    }\n",
       "\n",
       "    .dataframe tbody tr th {\n",
       "        vertical-align: top;\n",
       "    }\n",
       "\n",
       "    .dataframe thead th {\n",
       "        text-align: right;\n",
       "    }\n",
       "</style>\n",
       "<table border=\"1\" class=\"dataframe\">\n",
       "  <thead>\n",
       "    <tr style=\"text-align: right;\">\n",
       "      <th></th>\n",
       "      <th>mass_grams</th>\n",
       "      <th>fall</th>\n",
       "      <th>year</th>\n",
       "      <th>reclat</th>\n",
       "      <th>reclong</th>\n",
       "      <th>elevation</th>\n",
       "      <th>FIPS</th>\n",
       "      <th>area_sqkm</th>\n",
       "      <th>meteorite_class</th>\n",
       "      <th>BARE</th>\n",
       "      <th>CROPL</th>\n",
       "      <th>FOREST</th>\n",
       "      <th>GRSL</th>\n",
       "      <th>SHRUBL</th>\n",
       "      <th>SPARSE_VEGETATION</th>\n",
       "      <th>URBAN</th>\n",
       "      <th>WATER</th>\n",
       "      <th>WETL</th>\n",
       "    </tr>\n",
       "  </thead>\n",
       "  <tbody>\n",
       "    <tr>\n",
       "      <th>0</th>\n",
       "      <td>32000.0</td>\n",
       "      <td>Fell</td>\n",
       "      <td>1899</td>\n",
       "      <td>42.53333</td>\n",
       "      <td>-85.88333</td>\n",
       "      <td>225.0</td>\n",
       "      <td>26</td>\n",
       "      <td>250487</td>\n",
       "      <td>Chrondrite</td>\n",
       "      <td>0.241572</td>\n",
       "      <td>35.820019</td>\n",
       "      <td>52.486729</td>\n",
       "      <td>4.448891</td>\n",
       "      <td>0.668927</td>\n",
       "      <td>0.026182</td>\n",
       "      <td>3.350872</td>\n",
       "      <td>2.644462</td>\n",
       "      <td>0.312346</td>\n",
       "    </tr>\n",
       "    <tr>\n",
       "      <th>1</th>\n",
       "      <td>469.0</td>\n",
       "      <td>Fell</td>\n",
       "      <td>1994</td>\n",
       "      <td>43.76111</td>\n",
       "      <td>-84.50778</td>\n",
       "      <td>218.0</td>\n",
       "      <td>26</td>\n",
       "      <td>250487</td>\n",
       "      <td>Chrondrite</td>\n",
       "      <td>0.241572</td>\n",
       "      <td>35.820019</td>\n",
       "      <td>52.486729</td>\n",
       "      <td>4.448891</td>\n",
       "      <td>0.668927</td>\n",
       "      <td>0.026182</td>\n",
       "      <td>3.350872</td>\n",
       "      <td>2.644462</td>\n",
       "      <td>0.312346</td>\n",
       "    </tr>\n",
       "  </tbody>\n",
       "</table>\n",
       "</div>"
      ],
      "text/plain": [
       "   mass_grams  fall  year    reclat   reclong  elevation  FIPS  area_sqkm  \\\n",
       "0     32000.0  Fell  1899  42.53333 -85.88333      225.0    26     250487   \n",
       "1       469.0  Fell  1994  43.76111 -84.50778      218.0    26     250487   \n",
       "\n",
       "  meteorite_class      BARE      CROPL     FOREST      GRSL    SHRUBL  \\\n",
       "0      Chrondrite  0.241572  35.820019  52.486729  4.448891  0.668927   \n",
       "1      Chrondrite  0.241572  35.820019  52.486729  4.448891  0.668927   \n",
       "\n",
       "   SPARSE_VEGETATION     URBAN     WATER      WETL  \n",
       "0           0.026182  3.350872  2.644462  0.312346  \n",
       "1           0.026182  3.350872  2.644462  0.312346  "
      ]
     },
     "execution_count": 47,
     "metadata": {},
     "output_type": "execute_result"
    }
   ],
   "source": [
    "# merge tables\n",
    "ml_interim4_df = pd.merge(ml_interim5_df,landcovery, on = 'state_abbrev')\n",
    "ml_interim4_df.drop(['state_abbrev'], axis = 1, inplace=True)\n",
    "print(len(ml_interim4_df))\n",
    "ml_interim4_df.head(2)"
   ]
  },
  {
   "cell_type": "code",
   "execution_count": 48,
   "metadata": {},
   "outputs": [
    {
     "name": "stdout",
     "output_type": "stream",
     "text": [
      "['Fell' 'Found']\n",
      "1648\n"
     ]
    },
    {
     "data": {
      "text/html": [
       "<div>\n",
       "<style scoped>\n",
       "    .dataframe tbody tr th:only-of-type {\n",
       "        vertical-align: middle;\n",
       "    }\n",
       "\n",
       "    .dataframe tbody tr th {\n",
       "        vertical-align: top;\n",
       "    }\n",
       "\n",
       "    .dataframe thead th {\n",
       "        text-align: right;\n",
       "    }\n",
       "</style>\n",
       "<table border=\"1\" class=\"dataframe\">\n",
       "  <thead>\n",
       "    <tr style=\"text-align: right;\">\n",
       "      <th></th>\n",
       "      <th>mass_grams</th>\n",
       "      <th>fall</th>\n",
       "      <th>year</th>\n",
       "      <th>reclat</th>\n",
       "      <th>reclong</th>\n",
       "      <th>elevation</th>\n",
       "      <th>FIPS</th>\n",
       "      <th>area_sqkm</th>\n",
       "      <th>meteorite_class</th>\n",
       "      <th>BARE</th>\n",
       "      <th>CROPL</th>\n",
       "      <th>FOREST</th>\n",
       "      <th>GRSL</th>\n",
       "      <th>SHRUBL</th>\n",
       "      <th>SPARSE_VEGETATION</th>\n",
       "      <th>URBAN</th>\n",
       "      <th>WATER</th>\n",
       "      <th>WETL</th>\n",
       "    </tr>\n",
       "  </thead>\n",
       "  <tbody>\n",
       "    <tr>\n",
       "      <th>0</th>\n",
       "      <td>32000.0</td>\n",
       "      <td>0</td>\n",
       "      <td>1899</td>\n",
       "      <td>42.53333</td>\n",
       "      <td>-85.88333</td>\n",
       "      <td>225.0</td>\n",
       "      <td>26</td>\n",
       "      <td>250487</td>\n",
       "      <td>Chrondrite</td>\n",
       "      <td>0.241572</td>\n",
       "      <td>35.820019</td>\n",
       "      <td>52.486729</td>\n",
       "      <td>4.448891</td>\n",
       "      <td>0.668927</td>\n",
       "      <td>0.026182</td>\n",
       "      <td>3.350872</td>\n",
       "      <td>2.644462</td>\n",
       "      <td>0.312346</td>\n",
       "    </tr>\n",
       "    <tr>\n",
       "      <th>1</th>\n",
       "      <td>469.0</td>\n",
       "      <td>0</td>\n",
       "      <td>1994</td>\n",
       "      <td>43.76111</td>\n",
       "      <td>-84.50778</td>\n",
       "      <td>218.0</td>\n",
       "      <td>26</td>\n",
       "      <td>250487</td>\n",
       "      <td>Chrondrite</td>\n",
       "      <td>0.241572</td>\n",
       "      <td>35.820019</td>\n",
       "      <td>52.486729</td>\n",
       "      <td>4.448891</td>\n",
       "      <td>0.668927</td>\n",
       "      <td>0.026182</td>\n",
       "      <td>3.350872</td>\n",
       "      <td>2.644462</td>\n",
       "      <td>0.312346</td>\n",
       "    </tr>\n",
       "  </tbody>\n",
       "</table>\n",
       "</div>"
      ],
      "text/plain": [
       "   mass_grams  fall  year    reclat   reclong  elevation  FIPS  area_sqkm  \\\n",
       "0     32000.0     0  1899  42.53333 -85.88333      225.0    26     250487   \n",
       "1       469.0     0  1994  43.76111 -84.50778      218.0    26     250487   \n",
       "\n",
       "  meteorite_class      BARE      CROPL     FOREST      GRSL    SHRUBL  \\\n",
       "0      Chrondrite  0.241572  35.820019  52.486729  4.448891  0.668927   \n",
       "1      Chrondrite  0.241572  35.820019  52.486729  4.448891  0.668927   \n",
       "\n",
       "   SPARSE_VEGETATION     URBAN     WATER      WETL  \n",
       "0           0.026182  3.350872  2.644462  0.312346  \n",
       "1           0.026182  3.350872  2.644462  0.312346  "
      ]
     },
     "execution_count": 48,
     "metadata": {},
     "output_type": "execute_result"
    }
   ],
   "source": [
    "# replace fall with Fell=0, Found=1\n",
    "print(ml_interim4_df['fall'].unique())\n",
    "ml_interim4_df.replace(['Fell',\"Found\"],[0,1],inplace = True)\n",
    "print(len(ml_interim4_df))\n",
    "ml_interim4_df.head(2)"
   ]
  },
  {
   "cell_type": "code",
   "execution_count": 49,
   "metadata": {},
   "outputs": [
    {
     "name": "stdout",
     "output_type": "stream",
     "text": [
      "1648\n"
     ]
    },
    {
     "data": {
      "text/html": [
       "<div>\n",
       "<style scoped>\n",
       "    .dataframe tbody tr th:only-of-type {\n",
       "        vertical-align: middle;\n",
       "    }\n",
       "\n",
       "    .dataframe tbody tr th {\n",
       "        vertical-align: top;\n",
       "    }\n",
       "\n",
       "    .dataframe thead th {\n",
       "        text-align: right;\n",
       "    }\n",
       "</style>\n",
       "<table border=\"1\" class=\"dataframe\">\n",
       "  <thead>\n",
       "    <tr style=\"text-align: right;\">\n",
       "      <th></th>\n",
       "      <th>mass_grams</th>\n",
       "      <th>fall</th>\n",
       "      <th>year</th>\n",
       "      <th>reclat</th>\n",
       "      <th>reclong</th>\n",
       "      <th>elevation</th>\n",
       "      <th>FIPS</th>\n",
       "      <th>area_sqkm</th>\n",
       "      <th>BARE</th>\n",
       "      <th>CROPL</th>\n",
       "      <th>...</th>\n",
       "      <th>SHRUBL</th>\n",
       "      <th>SPARSE_VEGETATION</th>\n",
       "      <th>URBAN</th>\n",
       "      <th>WATER</th>\n",
       "      <th>WETL</th>\n",
       "      <th>Achrondrite</th>\n",
       "      <th>Chrondrite</th>\n",
       "      <th>Iron</th>\n",
       "      <th>Mesosiderite</th>\n",
       "      <th>Pallasite</th>\n",
       "    </tr>\n",
       "  </thead>\n",
       "  <tbody>\n",
       "    <tr>\n",
       "      <th>0</th>\n",
       "      <td>32000.0</td>\n",
       "      <td>0</td>\n",
       "      <td>1899</td>\n",
       "      <td>42.53333</td>\n",
       "      <td>-85.88333</td>\n",
       "      <td>225.0</td>\n",
       "      <td>26</td>\n",
       "      <td>250487</td>\n",
       "      <td>0.241572</td>\n",
       "      <td>35.820019</td>\n",
       "      <td>...</td>\n",
       "      <td>0.668927</td>\n",
       "      <td>0.026182</td>\n",
       "      <td>3.350872</td>\n",
       "      <td>2.644462</td>\n",
       "      <td>0.312346</td>\n",
       "      <td>0</td>\n",
       "      <td>1</td>\n",
       "      <td>0</td>\n",
       "      <td>0</td>\n",
       "      <td>0</td>\n",
       "    </tr>\n",
       "    <tr>\n",
       "      <th>1</th>\n",
       "      <td>469.0</td>\n",
       "      <td>0</td>\n",
       "      <td>1994</td>\n",
       "      <td>43.76111</td>\n",
       "      <td>-84.50778</td>\n",
       "      <td>218.0</td>\n",
       "      <td>26</td>\n",
       "      <td>250487</td>\n",
       "      <td>0.241572</td>\n",
       "      <td>35.820019</td>\n",
       "      <td>...</td>\n",
       "      <td>0.668927</td>\n",
       "      <td>0.026182</td>\n",
       "      <td>3.350872</td>\n",
       "      <td>2.644462</td>\n",
       "      <td>0.312346</td>\n",
       "      <td>0</td>\n",
       "      <td>1</td>\n",
       "      <td>0</td>\n",
       "      <td>0</td>\n",
       "      <td>0</td>\n",
       "    </tr>\n",
       "  </tbody>\n",
       "</table>\n",
       "<p>2 rows × 22 columns</p>\n",
       "</div>"
      ],
      "text/plain": [
       "   mass_grams  fall  year    reclat   reclong  elevation  FIPS  area_sqkm  \\\n",
       "0     32000.0     0  1899  42.53333 -85.88333      225.0    26     250487   \n",
       "1       469.0     0  1994  43.76111 -84.50778      218.0    26     250487   \n",
       "\n",
       "       BARE      CROPL  ...    SHRUBL  SPARSE_VEGETATION     URBAN     WATER  \\\n",
       "0  0.241572  35.820019  ...  0.668927           0.026182  3.350872  2.644462   \n",
       "1  0.241572  35.820019  ...  0.668927           0.026182  3.350872  2.644462   \n",
       "\n",
       "       WETL  Achrondrite  Chrondrite  Iron  Mesosiderite  Pallasite  \n",
       "0  0.312346            0           1     0             0          0  \n",
       "1  0.312346            0           1     0             0          0  \n",
       "\n",
       "[2 rows x 22 columns]"
      ]
     },
     "execution_count": 49,
     "metadata": {},
     "output_type": "execute_result"
    }
   ],
   "source": [
    "# create meteorite_class dummy columns\n",
    "dummies = pd.get_dummies(ml_interim4_df['meteorite_class'])\n",
    "ml_unscaled = pd.concat([ml_interim4_df,dummies], axis='columns')\n",
    "ml_unscaled.drop(['meteorite_class'],axis='columns', inplace = True)\n",
    "print(len(ml_unscaled))\n",
    "ml_unscaled.head(2)"
   ]
  },
  {
   "cell_type": "code",
   "execution_count": 50,
   "metadata": {},
   "outputs": [],
   "source": [
    "# # write US meteorite data into csv file COMMENT OUT SO CSV ISN'T INADVERTENTLY OVERWRITTEN, uncomment to overwrite csv\n",
    "# ml_unscaled.to_csv('Resources/machine_learning/meteorite_ml_unscaled.csv')"
   ]
  },
  {
   "cell_type": "code",
   "execution_count": 51,
   "metadata": {},
   "outputs": [],
   "source": [
    "# # check csv  - uncomment check if csv overwritten above\n",
    "# ml_unscaled_check = pd.read_csv('Resources/machine_learning/meteorite_ml_unscaled.csv')\n",
    "# print(len(ml_unscaled_check))\n",
    "# ml_unscaled_check.head(2)"
   ]
  },
  {
   "attachments": {},
   "cell_type": "markdown",
   "metadata": {},
   "source": [
    "# MACHINE LEARNING"
   ]
  },
  {
   "cell_type": "code",
   "execution_count": 52,
   "metadata": {},
   "outputs": [],
   "source": [
    "# get list of columns in ml_unscaled df\n",
    "collist = ml_unscaled.columns.to_list()"
   ]
  },
  {
   "cell_type": "code",
   "execution_count": 53,
   "metadata": {},
   "outputs": [],
   "source": [
    "# try to force all cols to numeric  from Mod19-Day03-Act-05\n",
    "for col in ml_unscaled.columns:\n",
    "    if ml_unscaled[col].dtype == 'object':\n",
    "        ml_unscaled[col] = pd.to_numeric(ml_unscaled[col], errors='coerce')"
   ]
  },
  {
   "cell_type": "code",
   "execution_count": 54,
   "metadata": {},
   "outputs": [
    {
     "name": "stdout",
     "output_type": "stream",
     "text": [
      "1648\n",
      "<class 'pandas.core.frame.DataFrame'>\n",
      "      mass_grams  year    reclat    reclong  elevation  FIPS  area_sqkm  \\\n",
      "0        32000.0  1899  42.53333  -85.88333      225.0    26     250487   \n",
      "1          469.0  1994  43.76111  -84.50778      218.0    26     250487   \n",
      "2        10600.0  1921  44.51667  -83.95000      387.0    26     250487   \n",
      "3         1551.0  1997  42.38467  -83.61150      279.0    26     250487   \n",
      "4        51700.0  1883  42.96667  -85.76667      225.0    26     250487   \n",
      "...          ...   ...       ...        ...        ...   ...        ...   \n",
      "1643    111000.0  1926  42.33333 -113.70000     1914.0    16     216443   \n",
      "1644      2150.0  1940  43.80000 -117.00000      670.0    16     216443   \n",
      "1645        41.0  2004  44.93389 -116.43167     1556.0    16     216443   \n",
      "1646     26600.0  1982  43.72444 -116.91167      716.0    16     216443   \n",
      "1647       353.0  1963  42.31667  -72.63333       51.0    25      27336   \n",
      "\n",
      "          BARE      CROPL     FOREST  ...     SHRUBL  SPARSE_VEGETATION  \\\n",
      "0     0.241572  35.820019  52.486729  ...   0.668927           0.026182   \n",
      "1     0.241572  35.820019  52.486729  ...   0.668927           0.026182   \n",
      "2     0.241572  35.820019  52.486729  ...   0.668927           0.026182   \n",
      "3     0.241572  35.820019  52.486729  ...   0.668927           0.026182   \n",
      "4     0.241572  35.820019  52.486729  ...   0.668927           0.026182   \n",
      "...        ...        ...        ...  ...        ...                ...   \n",
      "1643  1.448300  14.490028  39.197302  ...  35.316082           2.264164   \n",
      "1644  1.448300  14.490028  39.197302  ...  35.316082           2.264164   \n",
      "1645  1.448300  14.490028  39.197302  ...  35.316082           2.264164   \n",
      "1646  1.448300  14.490028  39.197302  ...  35.316082           2.264164   \n",
      "1647  0.379269   1.739556  71.546837  ...   0.467100           0.035931   \n",
      "\n",
      "          URBAN     WATER      WETL  Achrondrite  Chrondrite  Iron  \\\n",
      "0      3.350872  2.644462  0.312346            0           1     0   \n",
      "1      3.350872  2.644462  0.312346            0           1     0   \n",
      "2      3.350872  2.644462  0.312346            0           1     0   \n",
      "3      3.350872  2.644462  0.312346            0           1     0   \n",
      "4      3.350872  2.644462  0.312346            0           0     1   \n",
      "...         ...       ...       ...          ...         ...   ...   \n",
      "1643   0.325982  0.887480  0.354007            0           0     1   \n",
      "1644   0.325982  0.887480  0.354007            0           0     1   \n",
      "1645   0.325982  0.887480  0.354007            0           0     1   \n",
      "1646   0.325982  0.887480  0.354007            0           1     0   \n",
      "1647  14.743948  4.751207  0.915327            0           0     1   \n",
      "\n",
      "      Mesosiderite  Pallasite  \n",
      "0                0          0  \n",
      "1                0          0  \n",
      "2                0          0  \n",
      "3                0          0  \n",
      "4                0          0  \n",
      "...            ...        ...  \n",
      "1643             0          0  \n",
      "1644             0          0  \n",
      "1645             0          0  \n",
      "1646             0          0  \n",
      "1647             0          0  \n",
      "\n",
      "[1648 rows x 21 columns]\n"
     ]
    }
   ],
   "source": [
    "# set x and y, print x\n",
    "X = ml_unscaled.drop('fall', axis=1)\n",
    "y = ml_unscaled['fall']\n",
    "print(len(X))\n",
    "print(type(X))\n",
    "print(X)\n"
   ]
  },
  {
   "cell_type": "code",
   "execution_count": 55,
   "metadata": {},
   "outputs": [
    {
     "name": "stdout",
     "output_type": "stream",
     "text": [
      "1648\n",
      "<class 'pandas.core.series.Series'>\n",
      "0       0\n",
      "1       0\n",
      "2       0\n",
      "3       0\n",
      "4       1\n",
      "       ..\n",
      "1643    1\n",
      "1644    1\n",
      "1645    1\n",
      "1646    1\n",
      "1647    1\n",
      "Name: fall, Length: 1648, dtype: int64\n"
     ]
    }
   ],
   "source": [
    "# print y\n",
    "print(len(y))\n",
    "print(type(y))\n",
    "print(y)"
   ]
  },
  {
   "cell_type": "code",
   "execution_count": 56,
   "metadata": {},
   "outputs": [],
   "source": [
    "# create test and train sets, scale x\n",
    "X_train, X_test, y_train, y_test = train_test_split(X, y, random_state=1)\n",
    "scaler = StandardScaler().fit(X_train)\n",
    "X_train_scaled = scaler.transform(X_train)\n",
    "X_test_scaled = scaler.transform(X_test)"
   ]
  },
  {
   "cell_type": "code",
   "execution_count": 57,
   "metadata": {},
   "outputs": [
    {
     "data": {
      "text/plain": [
       "array([[-0.06557907, -2.4299059 ,  0.27548093,  2.05440142, -0.99871303,\n",
       "         1.42004642, -1.14860951, -0.6278914 , -0.53079486,  2.20103018,\n",
       "         0.00547976, -1.11556881, -0.12632074,  0.77576336,  1.41071807,\n",
       "         0.49903456, -0.14944064, -1.75861173,  1.98098531, -0.06984303,\n",
       "        -0.12156613],\n",
       "       [-0.06517345,  0.27777037, -0.47179877,  0.18509024, -0.4243757 ,\n",
       "         1.23944784,  1.73406421, -0.56225945,  0.13992496, -0.57690384,\n",
       "         0.32030793,  0.10877266, -0.11357646,  0.25868329,  0.03548619,\n",
       "         0.34193987, -0.14944064,  0.56863035, -0.5047993 , -0.06984303,\n",
       "        -0.12156613]])"
      ]
     },
     "execution_count": 57,
     "metadata": {},
     "output_type": "execute_result"
    }
   ],
   "source": [
    "X_train_scaled[0:2]"
   ]
  },
  {
   "attachments": {},
   "cell_type": "markdown",
   "metadata": {},
   "source": [
    "## LOGISTIC REGRESSION"
   ]
  },
  {
   "cell_type": "code",
   "execution_count": 58,
   "metadata": {},
   "outputs": [
    {
     "name": "stdout",
     "output_type": "stream",
     "text": [
      "Logistic Regression Training Score is: 0.94903\n",
      "Logistic Regression Testing Score is: 0.95388\n"
     ]
    }
   ],
   "source": [
    "# fit LR model to xtrain scaled & ytrain, check model accuracy against training dataset and test dataset\n",
    "clf = LogisticRegression(random_state=1, max_iter= 100,).fit(X_train_scaled, y_train)\n",
    "print(f'Logistic Regression Training Score is: {round(clf.score(X_train_scaled, y_train),5)}')\n",
    "print(f'Logistic Regression Testing Score is: {round(clf.score(X_test_scaled, y_test),5)}')"
   ]
  },
  {
   "cell_type": "code",
   "execution_count": 59,
   "metadata": {},
   "outputs": [
    {
     "name": "stdout",
     "output_type": "stream",
     "text": [
      "Actual:\t\t[1, 1, 1, 1, 1, 1, 0, 0, 1, 1, 1, 1, 1, 1, 1, 1, 1, 1, 1, 1, 1, 1, 1, 1, 1, 1, 1, 1, 1, 1, 1, 1, 1, 0, 1, 1, 1, 1, 1, 1, 1, 1, 1, 1, 0, 1, 1, 1, 1, 1, 1, 1, 1, 1, 1, 1, 1, 0, 1, 1, 1, 1, 1, 1, 1, 0, 1, 1, 1, 1, 1, 1, 1, 1, 1, 1, 1, 1, 1, 1, 1, 1, 1, 1, 1, 1, 1, 1, 1, 1, 1, 1, 1, 1, 1, 1, 1, 1, 1, 1, 0, 1, 1, 1, 1, 1, 1, 1, 1, 1, 1, 1, 0, 1, 1, 1, 1, 0, 1, 1, 1, 1, 1, 1, 1, 1, 1, 0, 1, 1, 1, 1, 1, 0, 1, 1, 1, 1, 0, 1, 1, 1, 1, 1, 1, 0, 0, 1, 1, 1, 1, 1, 0, 1, 1, 0, 1, 0, 1, 1, 1, 1, 1, 1, 1, 1, 1, 1, 1, 1, 1, 1, 1, 1, 1, 1, 1, 1, 1, 1, 1, 1, 1, 1, 1, 1, 1, 0, 1, 1, 1, 1, 1, 1, 1, 1, 1, 1, 1, 1, 1, 1, 1, 1, 1, 1, 1, 1, 1, 1, 1, 1, 1, 1, 1, 1, 1, 1, 1, 1, 1, 1, 1, 1, 1, 1, 0, 1, 1, 1, 1, 1, 1, 0, 1, 1, 1, 1, 1, 1, 1, 1, 1, 1, 1, 1, 1, 1, 1, 1, 0, 1, 1, 1, 1, 1, 1, 0, 1, 1, 1, 1, 0, 1, 1, 1, 1, 1, 1, 1, 0, 1, 1, 1, 1, 1, 1, 0, 1, 1, 1, 1, 1, 1, 1, 1, 1, 1, 1, 1, 1, 1, 1, 1, 1, 1, 1, 1, 1, 1, 1, 1, 1, 1, 1, 1, 1, 1, 1, 1, 1, 1, 0, 1, 1, 1, 1, 1, 1, 1, 1, 1, 1, 1, 1, 1, 0, 1, 1, 1, 1, 1, 0, 1, 1, 1, 1, 0, 1, 1, 1, 1, 1, 1, 0, 1, 1, 1, 1, 1, 0, 1, 1, 1, 1, 1, 1, 1, 0, 1, 1, 1, 1, 1, 1, 1, 1, 1, 1, 1, 1, 1, 1, 1, 1, 1, 1, 1, 1, 1, 1, 1, 1, 1, 0, 1, 1, 1, 1, 1, 1, 1, 1, 1, 1, 1, 1, 1, 0, 1, 1, 0, 1, 1, 1, 1, 1, 1, 1, 1, 1, 1]\n",
      "Predicted:\t[1, 1, 1, 1, 1, 1, 0, 1, 1, 1, 1, 1, 1, 1, 1, 1, 1, 1, 1, 1, 1, 1, 1, 1, 1, 1, 1, 1, 1, 1, 1, 1, 1, 0, 1, 1, 1, 1, 1, 1, 1, 1, 1, 1, 0, 1, 1, 1, 1, 1, 1, 1, 1, 1, 1, 1, 1, 0, 1, 1, 1, 1, 1, 1, 1, 0, 1, 1, 1, 1, 1, 1, 1, 1, 1, 1, 1, 1, 1, 1, 1, 1, 1, 1, 1, 1, 1, 1, 1, 1, 1, 1, 1, 1, 1, 1, 1, 1, 1, 1, 0, 0, 1, 1, 1, 1, 1, 1, 1, 1, 1, 1, 0, 1, 1, 1, 1, 0, 1, 1, 1, 1, 1, 1, 1, 1, 1, 0, 1, 1, 1, 1, 1, 0, 1, 1, 1, 1, 0, 1, 1, 1, 1, 1, 1, 0, 0, 1, 1, 1, 1, 1, 1, 1, 1, 0, 1, 1, 1, 1, 1, 1, 1, 1, 1, 1, 1, 1, 1, 1, 1, 1, 1, 1, 1, 1, 1, 1, 1, 1, 1, 1, 1, 1, 1, 1, 1, 1, 1, 1, 1, 1, 1, 1, 1, 1, 1, 1, 1, 1, 1, 1, 1, 1, 1, 1, 1, 1, 1, 1, 1, 1, 1, 1, 1, 1, 1, 1, 1, 1, 1, 1, 1, 1, 1, 1, 1, 1, 1, 1, 1, 1, 1, 1, 1, 1, 1, 1, 1, 1, 0, 1, 1, 0, 1, 1, 1, 1, 1, 1, 0, 1, 1, 1, 1, 1, 1, 0, 1, 1, 1, 1, 1, 1, 1, 1, 1, 1, 1, 1, 1, 1, 1, 1, 1, 1, 1, 0, 1, 1, 1, 1, 1, 1, 1, 1, 1, 0, 1, 1, 1, 1, 1, 1, 1, 1, 1, 1, 1, 1, 1, 1, 1, 1, 1, 1, 1, 1, 1, 1, 1, 1, 1, 1, 1, 1, 1, 1, 1, 1, 1, 1, 1, 1, 1, 1, 0, 1, 1, 1, 1, 1, 1, 1, 1, 1, 1, 1, 0, 1, 1, 1, 1, 1, 0, 1, 1, 1, 1, 1, 0, 1, 1, 1, 1, 1, 1, 1, 1, 1, 1, 1, 1, 1, 1, 1, 1, 1, 1, 1, 1, 1, 1, 1, 1, 1, 1, 1, 1, 1, 1, 1, 1, 1, 0, 1, 1, 0, 1, 1, 1, 1, 1, 1, 1, 1, 1, 1, 0, 1, 1, 1, 1, 1, 1, 1, 1, 1, 1, 1, 1, 1]\n"
     ]
    }
   ],
   "source": [
    "# list actual and predicted\n",
    "print(f'Actual:\\t\\t{list(y_test[:])}')\n",
    "print(f'Predicted:\\t{list(clf.predict(X_test_scaled[:]))}')"
   ]
  },
  {
   "cell_type": "code",
   "execution_count": 60,
   "metadata": {},
   "outputs": [
    {
     "data": {
      "text/plain": [
       "array([[ 22,  13],\n",
       "       [  6, 371]], dtype=int64)"
      ]
     },
     "execution_count": 60,
     "metadata": {},
     "output_type": "execute_result"
    }
   ],
   "source": [
    "# create confusion matrix\n",
    "y_true = y_test\n",
    "y_pred = clf.predict(X_test_scaled)\n",
    "confusion_matrix(y_true, y_pred)"
   ]
  },
  {
   "cell_type": "code",
   "execution_count": 61,
   "metadata": {},
   "outputs": [
    {
     "name": "stdout",
     "output_type": "stream",
     "text": [
      "Logistic Regression accuracy (calculated manually) is 0.95388\n"
     ]
    }
   ],
   "source": [
    "# manually calculate the accuracy of the model\n",
    "# above array ([[TN(22),FP(13)],[FN(6),TP(371)]])\n",
    "TP = 371\n",
    "FP = 13\n",
    "TN = 22\n",
    "FN = 6\n",
    "accuracy = round(((TP + TN) / (TP + FP + TN + FN)),5)\n",
    "print(f'Logistic Regression accuracy (calculated manually) is {accuracy}')"
   ]
  },
  {
   "cell_type": "code",
   "execution_count": 62,
   "metadata": {},
   "outputs": [
    {
     "name": "stdout",
     "output_type": "stream",
     "text": [
      "              precision    recall  f1-score   support\n",
      "\n",
      "           0       0.79      0.63      0.70        35\n",
      "           1       0.97      0.98      0.98       377\n",
      "\n",
      "    accuracy                           0.95       412\n",
      "   macro avg       0.88      0.81      0.84       412\n",
      "weighted avg       0.95      0.95      0.95       412\n",
      "\n"
     ]
    }
   ],
   "source": [
    "# create classification report\n",
    "print(classification_report(y_true, y_pred))"
   ]
  },
  {
   "cell_type": "code",
   "execution_count": 63,
   "metadata": {},
   "outputs": [],
   "source": [
    "# create list of actual and predicted ytest\n",
    "actual = list(y_test[:])\n",
    "predicted = list(clf.predict(X_test_scaled[:]))"
   ]
  },
  {
   "cell_type": "code",
   "execution_count": 64,
   "metadata": {},
   "outputs": [
    {
     "name": "stdout",
     "output_type": "stream",
     "text": [
      "yes    393\n",
      "no      19\n",
      "Name: accurate, dtype: int64\n"
     ]
    },
    {
     "data": {
      "text/html": [
       "<div>\n",
       "<style scoped>\n",
       "    .dataframe tbody tr th:only-of-type {\n",
       "        vertical-align: middle;\n",
       "    }\n",
       "\n",
       "    .dataframe tbody tr th {\n",
       "        vertical-align: top;\n",
       "    }\n",
       "\n",
       "    .dataframe thead th {\n",
       "        text-align: right;\n",
       "    }\n",
       "</style>\n",
       "<table border=\"1\" class=\"dataframe\">\n",
       "  <thead>\n",
       "    <tr style=\"text-align: right;\">\n",
       "      <th></th>\n",
       "      <th>actual</th>\n",
       "      <th>predicted</th>\n",
       "      <th>accurate</th>\n",
       "    </tr>\n",
       "  </thead>\n",
       "  <tbody>\n",
       "    <tr>\n",
       "      <th>0</th>\n",
       "      <td>1</td>\n",
       "      <td>1</td>\n",
       "      <td>yes</td>\n",
       "    </tr>\n",
       "    <tr>\n",
       "      <th>1</th>\n",
       "      <td>1</td>\n",
       "      <td>1</td>\n",
       "      <td>yes</td>\n",
       "    </tr>\n",
       "    <tr>\n",
       "      <th>2</th>\n",
       "      <td>1</td>\n",
       "      <td>1</td>\n",
       "      <td>yes</td>\n",
       "    </tr>\n",
       "    <tr>\n",
       "      <th>3</th>\n",
       "      <td>1</td>\n",
       "      <td>1</td>\n",
       "      <td>yes</td>\n",
       "    </tr>\n",
       "    <tr>\n",
       "      <th>4</th>\n",
       "      <td>1</td>\n",
       "      <td>1</td>\n",
       "      <td>yes</td>\n",
       "    </tr>\n",
       "  </tbody>\n",
       "</table>\n",
       "</div>"
      ],
      "text/plain": [
       "   actual  predicted accurate\n",
       "0       1          1      yes\n",
       "1       1          1      yes\n",
       "2       1          1      yes\n",
       "3       1          1      yes\n",
       "4       1          1      yes"
      ]
     },
     "execution_count": 64,
     "metadata": {},
     "output_type": "execute_result"
    }
   ],
   "source": [
    "# create df with accuracy evaluation for each row\n",
    "logR_dict = {'actual':actual,'predicted':predicted}\n",
    "logR_df = pd.DataFrame(logR_dict)\n",
    "logR_df['accurate'] = logR_df['actual']+logR_df['predicted']\n",
    "logR_df['accurate'] .replace({2:'yes',1:'no',0:'yes'}, inplace = True)\n",
    "logR_accurate_counts = logR_df['accurate'].value_counts()\n",
    "print(logR_accurate_counts)\n",
    "logR_df.head()"
   ]
  },
  {
   "cell_type": "code",
   "execution_count": 65,
   "metadata": {},
   "outputs": [
    {
     "data": {
      "text/plain": [
       "<matplotlib.axes._subplots.AxesSubplot at 0x21c8061c908>"
      ]
     },
     "execution_count": 65,
     "metadata": {},
     "output_type": "execute_result"
    },
    {
     "data": {
      "image/png": "[encoded data removed]",
      "text/plain": [
       "<Figure size 432x288 with 1 Axes>"
      ]
     },
     "metadata": {
      "needs_background": "light"
     },
     "output_type": "display_data"
    }
   ],
   "source": [
    "# visualize model accuracy in bar chart\n",
    "logR_accurate_counts.plot.bar(rot = 0, title = 'Were Logistic Regression predictions accurate?')"
   ]
  },
  {
   "attachments": {},
   "cell_type": "markdown",
   "metadata": {},
   "source": [
    "## RANDOM FOREST CLASSIFIER"
   ]
  },
  {
   "cell_type": "code",
   "execution_count": 66,
   "metadata": {},
   "outputs": [
    {
     "name": "stdout",
     "output_type": "stream",
     "text": [
      "Random Forest Classifier Training Score: 1.0\n",
      "Random Forest Classifier Testing Score: 0.941747572815534\n"
     ]
    }
   ],
   "source": [
    "# fit random forest classifier model to xtrain scaled & ytrain, check model accuracy against training dataset and test dataset\n",
    "clf = RandomForestClassifier(random_state=1, n_estimators=500).fit(X_train_scaled, y_train)\n",
    "print(f'Random Forest Classifier Training Score: {clf.score(X_train_scaled, y_train)}')\n",
    "print(f'Random Forest Classifier Testing Score: {clf.score(X_test_scaled, y_test)}')"
   ]
  },
  {
   "cell_type": "code",
   "execution_count": 67,
   "metadata": {},
   "outputs": [
    {
     "data": {
      "text/plain": [
       "array([[ 17,  18],\n",
       "       [  6, 371]], dtype=int64)"
      ]
     },
     "execution_count": 67,
     "metadata": {},
     "output_type": "execute_result"
    }
   ],
   "source": [
    "# create confusion matrix\n",
    "y_true = y_test\n",
    "y_pred = clf.predict(X_test_scaled)\n",
    "confusion_matrix(y_true, y_pred)"
   ]
  },
  {
   "cell_type": "code",
   "execution_count": 68,
   "metadata": {},
   "outputs": [
    {
     "name": "stdout",
     "output_type": "stream",
     "text": [
      "              precision    recall  f1-score   support\n",
      "\n",
      "           0       0.74      0.49      0.59        35\n",
      "           1       0.95      0.98      0.97       377\n",
      "\n",
      "    accuracy                           0.94       412\n",
      "   macro avg       0.85      0.73      0.78       412\n",
      "weighted avg       0.94      0.94      0.94       412\n",
      "\n"
     ]
    }
   ],
   "source": [
    "# create classification report\n",
    "print(classification_report(y_true, y_pred))"
   ]
  },
  {
   "cell_type": "code",
   "execution_count": 69,
   "metadata": {},
   "outputs": [
    {
     "name": "stdout",
     "output_type": "stream",
     "text": [
      "[0.09700702 0.10663628 0.08767748 0.13345431 0.12381608 0.01784962\n",
      " 0.04778202 0.02338853 0.01720319 0.03111964 0.01975433 0.02593077\n",
      " 0.01979212 0.01992694 0.02313857 0.01818517 0.03296874 0.07178477\n",
      " 0.07937552 0.00092309 0.00228581]\n"
     ]
    },
    {
     "data": {
      "image/png": "[encoded data removed]",
      "text/plain": [
       "<Figure size 432x288 with 1 Axes>"
      ]
     },
     "metadata": {
      "needs_background": "light"
     },
     "output_type": "display_data"
    }
   ],
   "source": [
    "# Save the feature importances from the Random Forests classifier model to a variable named feature_importances\n",
    "features = clf.feature_importances_\n",
    "print(features)\n",
    "plt.bar(x = range(len(features)), height=features)\n",
    "plt.show()"
   ]
  },
  {
   "cell_type": "code",
   "execution_count": 70,
   "metadata": {},
   "outputs": [
    {
     "data": {
      "image/png": "[encoded data removed]",
      "text/plain": [
       "<Figure size 720x1440 with 1 Axes>"
      ]
     },
     "metadata": {
      "needs_background": "light"
     },
     "output_type": "display_data"
    }
   ],
   "source": [
    "# Use the following code to plot the most important features\n",
    "features = sorted(zip(X.columns, features), key = lambda x: x[1])\n",
    "cols = [f[0] for f in features]\n",
    "width = [f[1] for f in features]\n",
    "\n",
    "fig, ax = plt.subplots()\n",
    "\n",
    "fig.set_size_inches(10,20)\n",
    "plt.margins(y=0.001)\n",
    "\n",
    "ax.barh(y=cols, width=width)\n",
    "\n",
    "plt.show()"
   ]
  },
  {
   "attachments": {},
   "cell_type": "markdown",
   "metadata": {},
   "source": [
    "# K Nearest Neighbors"
   ]
  },
  {
   "cell_type": "code",
   "execution_count": 71,
   "metadata": {},
   "outputs": [
    {
     "name": "stdout",
     "output_type": "stream",
     "text": [
      "1648\n"
     ]
    },
    {
     "data": {
      "text/html": [
       "<div>\n",
       "<style scoped>\n",
       "    .dataframe tbody tr th:only-of-type {\n",
       "        vertical-align: middle;\n",
       "    }\n",
       "\n",
       "    .dataframe tbody tr th {\n",
       "        vertical-align: top;\n",
       "    }\n",
       "\n",
       "    .dataframe thead th {\n",
       "        text-align: right;\n",
       "    }\n",
       "</style>\n",
       "<table border=\"1\" class=\"dataframe\">\n",
       "  <thead>\n",
       "    <tr style=\"text-align: right;\">\n",
       "      <th></th>\n",
       "      <th>mass_grams</th>\n",
       "      <th>fall</th>\n",
       "      <th>year</th>\n",
       "      <th>reclat</th>\n",
       "      <th>reclong</th>\n",
       "      <th>elevation</th>\n",
       "      <th>FIPS</th>\n",
       "      <th>area_sqkm</th>\n",
       "      <th>BARE</th>\n",
       "      <th>CROPL</th>\n",
       "      <th>...</th>\n",
       "      <th>SHRUBL</th>\n",
       "      <th>SPARSE_VEGETATION</th>\n",
       "      <th>URBAN</th>\n",
       "      <th>WATER</th>\n",
       "      <th>WETL</th>\n",
       "      <th>Achrondrite</th>\n",
       "      <th>Chrondrite</th>\n",
       "      <th>Iron</th>\n",
       "      <th>Mesosiderite</th>\n",
       "      <th>Pallasite</th>\n",
       "    </tr>\n",
       "  </thead>\n",
       "  <tbody>\n",
       "    <tr>\n",
       "      <th>0</th>\n",
       "      <td>32000.0</td>\n",
       "      <td>0</td>\n",
       "      <td>1899</td>\n",
       "      <td>42.53333</td>\n",
       "      <td>-85.88333</td>\n",
       "      <td>225.0</td>\n",
       "      <td>26</td>\n",
       "      <td>250487</td>\n",
       "      <td>0.241572</td>\n",
       "      <td>35.820019</td>\n",
       "      <td>...</td>\n",
       "      <td>0.668927</td>\n",
       "      <td>0.026182</td>\n",
       "      <td>3.350872</td>\n",
       "      <td>2.644462</td>\n",
       "      <td>0.312346</td>\n",
       "      <td>0</td>\n",
       "      <td>1</td>\n",
       "      <td>0</td>\n",
       "      <td>0</td>\n",
       "      <td>0</td>\n",
       "    </tr>\n",
       "    <tr>\n",
       "      <th>1</th>\n",
       "      <td>469.0</td>\n",
       "      <td>0</td>\n",
       "      <td>1994</td>\n",
       "      <td>43.76111</td>\n",
       "      <td>-84.50778</td>\n",
       "      <td>218.0</td>\n",
       "      <td>26</td>\n",
       "      <td>250487</td>\n",
       "      <td>0.241572</td>\n",
       "      <td>35.820019</td>\n",
       "      <td>...</td>\n",
       "      <td>0.668927</td>\n",
       "      <td>0.026182</td>\n",
       "      <td>3.350872</td>\n",
       "      <td>2.644462</td>\n",
       "      <td>0.312346</td>\n",
       "      <td>0</td>\n",
       "      <td>1</td>\n",
       "      <td>0</td>\n",
       "      <td>0</td>\n",
       "      <td>0</td>\n",
       "    </tr>\n",
       "    <tr>\n",
       "      <th>2</th>\n",
       "      <td>10600.0</td>\n",
       "      <td>0</td>\n",
       "      <td>1921</td>\n",
       "      <td>44.51667</td>\n",
       "      <td>-83.95000</td>\n",
       "      <td>387.0</td>\n",
       "      <td>26</td>\n",
       "      <td>250487</td>\n",
       "      <td>0.241572</td>\n",
       "      <td>35.820019</td>\n",
       "      <td>...</td>\n",
       "      <td>0.668927</td>\n",
       "      <td>0.026182</td>\n",
       "      <td>3.350872</td>\n",
       "      <td>2.644462</td>\n",
       "      <td>0.312346</td>\n",
       "      <td>0</td>\n",
       "      <td>1</td>\n",
       "      <td>0</td>\n",
       "      <td>0</td>\n",
       "      <td>0</td>\n",
       "    </tr>\n",
       "    <tr>\n",
       "      <th>3</th>\n",
       "      <td>1551.0</td>\n",
       "      <td>0</td>\n",
       "      <td>1997</td>\n",
       "      <td>42.38467</td>\n",
       "      <td>-83.61150</td>\n",
       "      <td>279.0</td>\n",
       "      <td>26</td>\n",
       "      <td>250487</td>\n",
       "      <td>0.241572</td>\n",
       "      <td>35.820019</td>\n",
       "      <td>...</td>\n",
       "      <td>0.668927</td>\n",
       "      <td>0.026182</td>\n",
       "      <td>3.350872</td>\n",
       "      <td>2.644462</td>\n",
       "      <td>0.312346</td>\n",
       "      <td>0</td>\n",
       "      <td>1</td>\n",
       "      <td>0</td>\n",
       "      <td>0</td>\n",
       "      <td>0</td>\n",
       "    </tr>\n",
       "    <tr>\n",
       "      <th>4</th>\n",
       "      <td>51700.0</td>\n",
       "      <td>1</td>\n",
       "      <td>1883</td>\n",
       "      <td>42.96667</td>\n",
       "      <td>-85.76667</td>\n",
       "      <td>225.0</td>\n",
       "      <td>26</td>\n",
       "      <td>250487</td>\n",
       "      <td>0.241572</td>\n",
       "      <td>35.820019</td>\n",
       "      <td>...</td>\n",
       "      <td>0.668927</td>\n",
       "      <td>0.026182</td>\n",
       "      <td>3.350872</td>\n",
       "      <td>2.644462</td>\n",
       "      <td>0.312346</td>\n",
       "      <td>0</td>\n",
       "      <td>0</td>\n",
       "      <td>1</td>\n",
       "      <td>0</td>\n",
       "      <td>0</td>\n",
       "    </tr>\n",
       "  </tbody>\n",
       "</table>\n",
       "<p>5 rows × 22 columns</p>\n",
       "</div>"
      ],
      "text/plain": [
       "   mass_grams  fall  year    reclat   reclong  elevation  FIPS  area_sqkm  \\\n",
       "0     32000.0     0  1899  42.53333 -85.88333      225.0    26     250487   \n",
       "1       469.0     0  1994  43.76111 -84.50778      218.0    26     250487   \n",
       "2     10600.0     0  1921  44.51667 -83.95000      387.0    26     250487   \n",
       "3      1551.0     0  1997  42.38467 -83.61150      279.0    26     250487   \n",
       "4     51700.0     1  1883  42.96667 -85.76667      225.0    26     250487   \n",
       "\n",
       "       BARE      CROPL  ...    SHRUBL  SPARSE_VEGETATION     URBAN     WATER  \\\n",
       "0  0.241572  35.820019  ...  0.668927           0.026182  3.350872  2.644462   \n",
       "1  0.241572  35.820019  ...  0.668927           0.026182  3.350872  2.644462   \n",
       "2  0.241572  35.820019  ...  0.668927           0.026182  3.350872  2.644462   \n",
       "3  0.241572  35.820019  ...  0.668927           0.026182  3.350872  2.644462   \n",
       "4  0.241572  35.820019  ...  0.668927           0.026182  3.350872  2.644462   \n",
       "\n",
       "       WETL  Achrondrite  Chrondrite  Iron  Mesosiderite  Pallasite  \n",
       "0  0.312346            0           1     0             0          0  \n",
       "1  0.312346            0           1     0             0          0  \n",
       "2  0.312346            0           1     0             0          0  \n",
       "3  0.312346            0           1     0             0          0  \n",
       "4  0.312346            0           0     1             0          0  \n",
       "\n",
       "[5 rows x 22 columns]"
      ]
     },
     "execution_count": 71,
     "metadata": {},
     "output_type": "execute_result"
    }
   ],
   "source": [
    "# check input df\n",
    "print(len(ml_unscaled))\n",
    "ml_unscaled.head()"
   ]
  },
  {
   "cell_type": "code",
   "execution_count": 72,
   "metadata": {},
   "outputs": [
    {
     "name": "stdout",
     "output_type": "stream",
     "text": [
      "1648\n"
     ]
    },
    {
     "data": {
      "text/html": [
       "<div>\n",
       "<style scoped>\n",
       "    .dataframe tbody tr th:only-of-type {\n",
       "        vertical-align: middle;\n",
       "    }\n",
       "\n",
       "    .dataframe tbody tr th {\n",
       "        vertical-align: top;\n",
       "    }\n",
       "\n",
       "    .dataframe thead th {\n",
       "        text-align: right;\n",
       "    }\n",
       "</style>\n",
       "<table border=\"1\" class=\"dataframe\">\n",
       "  <thead>\n",
       "    <tr style=\"text-align: right;\">\n",
       "      <th></th>\n",
       "      <th>mass_grams</th>\n",
       "      <th>year</th>\n",
       "      <th>reclat</th>\n",
       "      <th>reclong</th>\n",
       "      <th>elevation</th>\n",
       "      <th>FIPS</th>\n",
       "      <th>area_sqkm</th>\n",
       "      <th>BARE</th>\n",
       "      <th>CROPL</th>\n",
       "      <th>FOREST</th>\n",
       "      <th>...</th>\n",
       "      <th>SHRUBL</th>\n",
       "      <th>SPARSE_VEGETATION</th>\n",
       "      <th>URBAN</th>\n",
       "      <th>WATER</th>\n",
       "      <th>WETL</th>\n",
       "      <th>Achrondrite</th>\n",
       "      <th>Chrondrite</th>\n",
       "      <th>Iron</th>\n",
       "      <th>Mesosiderite</th>\n",
       "      <th>Pallasite</th>\n",
       "    </tr>\n",
       "  </thead>\n",
       "  <tbody>\n",
       "    <tr>\n",
       "      <th>0</th>\n",
       "      <td>32000.0</td>\n",
       "      <td>1899</td>\n",
       "      <td>42.53333</td>\n",
       "      <td>-85.88333</td>\n",
       "      <td>225.0</td>\n",
       "      <td>26</td>\n",
       "      <td>250487</td>\n",
       "      <td>0.241572</td>\n",
       "      <td>35.820019</td>\n",
       "      <td>52.486729</td>\n",
       "      <td>...</td>\n",
       "      <td>0.668927</td>\n",
       "      <td>0.026182</td>\n",
       "      <td>3.350872</td>\n",
       "      <td>2.644462</td>\n",
       "      <td>0.312346</td>\n",
       "      <td>0</td>\n",
       "      <td>1</td>\n",
       "      <td>0</td>\n",
       "      <td>0</td>\n",
       "      <td>0</td>\n",
       "    </tr>\n",
       "    <tr>\n",
       "      <th>1</th>\n",
       "      <td>469.0</td>\n",
       "      <td>1994</td>\n",
       "      <td>43.76111</td>\n",
       "      <td>-84.50778</td>\n",
       "      <td>218.0</td>\n",
       "      <td>26</td>\n",
       "      <td>250487</td>\n",
       "      <td>0.241572</td>\n",
       "      <td>35.820019</td>\n",
       "      <td>52.486729</td>\n",
       "      <td>...</td>\n",
       "      <td>0.668927</td>\n",
       "      <td>0.026182</td>\n",
       "      <td>3.350872</td>\n",
       "      <td>2.644462</td>\n",
       "      <td>0.312346</td>\n",
       "      <td>0</td>\n",
       "      <td>1</td>\n",
       "      <td>0</td>\n",
       "      <td>0</td>\n",
       "      <td>0</td>\n",
       "    </tr>\n",
       "    <tr>\n",
       "      <th>2</th>\n",
       "      <td>10600.0</td>\n",
       "      <td>1921</td>\n",
       "      <td>44.51667</td>\n",
       "      <td>-83.95000</td>\n",
       "      <td>387.0</td>\n",
       "      <td>26</td>\n",
       "      <td>250487</td>\n",
       "      <td>0.241572</td>\n",
       "      <td>35.820019</td>\n",
       "      <td>52.486729</td>\n",
       "      <td>...</td>\n",
       "      <td>0.668927</td>\n",
       "      <td>0.026182</td>\n",
       "      <td>3.350872</td>\n",
       "      <td>2.644462</td>\n",
       "      <td>0.312346</td>\n",
       "      <td>0</td>\n",
       "      <td>1</td>\n",
       "      <td>0</td>\n",
       "      <td>0</td>\n",
       "      <td>0</td>\n",
       "    </tr>\n",
       "    <tr>\n",
       "      <th>3</th>\n",
       "      <td>1551.0</td>\n",
       "      <td>1997</td>\n",
       "      <td>42.38467</td>\n",
       "      <td>-83.61150</td>\n",
       "      <td>279.0</td>\n",
       "      <td>26</td>\n",
       "      <td>250487</td>\n",
       "      <td>0.241572</td>\n",
       "      <td>35.820019</td>\n",
       "      <td>52.486729</td>\n",
       "      <td>...</td>\n",
       "      <td>0.668927</td>\n",
       "      <td>0.026182</td>\n",
       "      <td>3.350872</td>\n",
       "      <td>2.644462</td>\n",
       "      <td>0.312346</td>\n",
       "      <td>0</td>\n",
       "      <td>1</td>\n",
       "      <td>0</td>\n",
       "      <td>0</td>\n",
       "      <td>0</td>\n",
       "    </tr>\n",
       "    <tr>\n",
       "      <th>4</th>\n",
       "      <td>51700.0</td>\n",
       "      <td>1883</td>\n",
       "      <td>42.96667</td>\n",
       "      <td>-85.76667</td>\n",
       "      <td>225.0</td>\n",
       "      <td>26</td>\n",
       "      <td>250487</td>\n",
       "      <td>0.241572</td>\n",
       "      <td>35.820019</td>\n",
       "      <td>52.486729</td>\n",
       "      <td>...</td>\n",
       "      <td>0.668927</td>\n",
       "      <td>0.026182</td>\n",
       "      <td>3.350872</td>\n",
       "      <td>2.644462</td>\n",
       "      <td>0.312346</td>\n",
       "      <td>0</td>\n",
       "      <td>0</td>\n",
       "      <td>1</td>\n",
       "      <td>0</td>\n",
       "      <td>0</td>\n",
       "    </tr>\n",
       "  </tbody>\n",
       "</table>\n",
       "<p>5 rows × 21 columns</p>\n",
       "</div>"
      ],
      "text/plain": [
       "   mass_grams  year    reclat   reclong  elevation  FIPS  area_sqkm      BARE  \\\n",
       "0     32000.0  1899  42.53333 -85.88333      225.0    26     250487  0.241572   \n",
       "1       469.0  1994  43.76111 -84.50778      218.0    26     250487  0.241572   \n",
       "2     10600.0  1921  44.51667 -83.95000      387.0    26     250487  0.241572   \n",
       "3      1551.0  1997  42.38467 -83.61150      279.0    26     250487  0.241572   \n",
       "4     51700.0  1883  42.96667 -85.76667      225.0    26     250487  0.241572   \n",
       "\n",
       "       CROPL     FOREST  ...    SHRUBL  SPARSE_VEGETATION     URBAN     WATER  \\\n",
       "0  35.820019  52.486729  ...  0.668927           0.026182  3.350872  2.644462   \n",
       "1  35.820019  52.486729  ...  0.668927           0.026182  3.350872  2.644462   \n",
       "2  35.820019  52.486729  ...  0.668927           0.026182  3.350872  2.644462   \n",
       "3  35.820019  52.486729  ...  0.668927           0.026182  3.350872  2.644462   \n",
       "4  35.820019  52.486729  ...  0.668927           0.026182  3.350872  2.644462   \n",
       "\n",
       "       WETL  Achrondrite  Chrondrite  Iron  Mesosiderite  Pallasite  \n",
       "0  0.312346            0           1     0             0          0  \n",
       "1  0.312346            0           1     0             0          0  \n",
       "2  0.312346            0           1     0             0          0  \n",
       "3  0.312346            0           1     0             0          0  \n",
       "4  0.312346            0           0     1             0          0  \n",
       "\n",
       "[5 rows x 21 columns]"
      ]
     },
     "execution_count": 72,
     "metadata": {},
     "output_type": "execute_result"
    }
   ],
   "source": [
    "# create X df\n",
    "X = ml_unscaled.drop('fall',axis =1)\n",
    "print(len(X))\n",
    "X.head()"
   ]
  },
  {
   "cell_type": "code",
   "execution_count": 73,
   "metadata": {},
   "outputs": [],
   "source": [
    "# create y series\n",
    "y = ml_unscaled['fall'].values"
   ]
  },
  {
   "cell_type": "code",
   "execution_count": 74,
   "metadata": {},
   "outputs": [],
   "source": [
    "# split data into xtrain and ytrain\n",
    "X_train, X_test, y_train, y_test = train_test_split(X, y, random_state=1)\n",
    "\n",
    "# Create a StandardScater model and fit it to the training data\n",
    "X_scaler = StandardScaler()\n",
    "X_scaler.fit(X_train)\n",
    "\n",
    "# Transform the training and testing data by using the X_scaler and y_scaler models\n",
    "X_train_scaled = X_scaler.transform(X_train)\n",
    "X_test_scaled = X_scaler.transform(X_test)"
   ]
  },
  {
   "cell_type": "code",
   "execution_count": 75,
   "metadata": {},
   "outputs": [
    {
     "name": "stdout",
     "output_type": "stream",
     "text": [
      "k: 1, Train/Test Score: 1.000/0.925\n",
      "k: 3, Train/Test Score: 0.958/0.939\n",
      "k: 5, Train/Test Score: 0.946/0.949\n",
      "k: 7, Train/Test Score: 0.943/0.956\n",
      "k: 9, Train/Test Score: 0.946/0.956\n",
      "k: 11, Train/Test Score: 0.943/0.956\n",
      "k: 13, Train/Test Score: 0.941/0.956\n",
      "k: 15, Train/Test Score: 0.941/0.959\n",
      "k: 17, Train/Test Score: 0.941/0.961\n",
      "k: 19, Train/Test Score: 0.937/0.949\n"
     ]
    },
    {
     "data": {
      "image/png": "[encoded data removed]",
      "text/plain": [
       "<Figure size 432x288 with 1 Axes>"
      ]
     },
     "metadata": {
      "needs_background": "light"
     },
     "output_type": "display_data"
    }
   ],
   "source": [
    "# Loop through different k values to find which has the highest accuracy.\n",
    "# Note: We use only odd numbers because we don't want any ties.\n",
    "train_scores = []\n",
    "test_scores = []\n",
    "for k in range(1, 20, 2):\n",
    "    knn = KNeighborsClassifier(n_neighbors=k)\n",
    "    knn.fit(X_train_scaled, y_train)\n",
    "    train_score = knn.score(X_train_scaled, y_train)\n",
    "    test_score = knn.score(X_test_scaled, y_test)\n",
    "    train_scores.append(train_score)\n",
    "    test_scores.append(test_score)\n",
    "    print(f\"k: {k}, Train/Test Score: {train_score:.3f}/{test_score:.3f}\")\n",
    "    \n",
    "    \n",
    "plt.plot(range(1, 20, 2), train_scores, marker='o')\n",
    "plt.plot(range(1, 20, 2), test_scores, marker=\"x\")\n",
    "plt.xlabel(\"k neighbors\")\n",
    "plt.ylabel(\"Testing accuracy score\")\n",
    "plt.show()"
   ]
  },
  {
   "cell_type": "code",
   "execution_count": 76,
   "metadata": {},
   "outputs": [
    {
     "name": "stdout",
     "output_type": "stream",
     "text": [
      "k=17 Test Acc: 0.961\n"
     ]
    }
   ],
   "source": [
    "# K = 17 Note that k: 17 returns highest precision for test set, but k:5 would be selected based on elbow chart\n",
    "knn = KNeighborsClassifier(n_neighbors=17)\n",
    "knn.fit(X_train_scaled, y_train)\n",
    "print('k=17 Test Acc: %.3f' % knn.score(X_test_scaled, y_test))"
   ]
  },
  {
   "cell_type": "code",
   "execution_count": 77,
   "metadata": {},
   "outputs": [
    {
     "name": "stdout",
     "output_type": "stream",
     "text": [
      "k=5 Test Acc: 0.949\n"
     ]
    }
   ],
   "source": [
    "# K = 5  Note that k: 17 returns highest precision for test set, but k:5 would be selected based on elbow chart\n",
    "knn2 = KNeighborsClassifier(n_neighbors=5)\n",
    "knn2.fit(X_train_scaled, y_train)\n",
    "print('k=5 Test Acc: %.3f' % knn2.score(X_test_scaled, y_test))"
   ]
  },
  {
   "cell_type": "code",
   "execution_count": 78,
   "metadata": {},
   "outputs": [
    {
     "data": {
      "text/plain": [
       "array([[ 25,  10],\n",
       "       [  6, 371]], dtype=int64)"
      ]
     },
     "execution_count": 78,
     "metadata": {},
     "output_type": "execute_result"
    }
   ],
   "source": [
    "# k = 17 create inputs and run confusion matrix [TrueNegative(25),FalsePositive(10)],[FalseNegative(6),TruePositive(371)]\n",
    "y_true = y_test\n",
    "y_pred = knn.predict(X_test_scaled)\n",
    "confusion_matrix(y_true, y_pred)"
   ]
  },
  {
   "cell_type": "code",
   "execution_count": 79,
   "metadata": {},
   "outputs": [
    {
     "data": {
      "text/plain": [
       "array([[ 19,  16],\n",
       "       [  5, 372]], dtype=int64)"
      ]
     },
     "execution_count": 79,
     "metadata": {},
     "output_type": "execute_result"
    }
   ],
   "source": [
    "# k = 5 create inputs and run confusion matrix [TrueNegative(),FalsePositive()],[FalseNegative(),TruePositive()]\n",
    "y_true2 = y_test\n",
    "y_pred2 = knn2.predict(X_test_scaled)\n",
    "confusion_matrix(y_true2, y_pred2)"
   ]
  },
  {
   "cell_type": "code",
   "execution_count": 80,
   "metadata": {},
   "outputs": [
    {
     "name": "stdout",
     "output_type": "stream",
     "text": [
      "              precision    recall  f1-score   support\n",
      "\n",
      "           0       0.81      0.71      0.76        35\n",
      "           1       0.97      0.98      0.98       377\n",
      "\n",
      "    accuracy                           0.96       412\n",
      "   macro avg       0.89      0.85      0.87       412\n",
      "weighted avg       0.96      0.96      0.96       412\n",
      "\n"
     ]
    }
   ],
   "source": [
    "# K = 17 create classification report\n",
    "print(classification_report(y_true, y_pred))"
   ]
  },
  {
   "cell_type": "code",
   "execution_count": 81,
   "metadata": {},
   "outputs": [
    {
     "name": "stdout",
     "output_type": "stream",
     "text": [
      "              precision    recall  f1-score   support\n",
      "\n",
      "           0       0.79      0.54      0.64        35\n",
      "           1       0.96      0.99      0.97       377\n",
      "\n",
      "    accuracy                           0.95       412\n",
      "   macro avg       0.88      0.76      0.81       412\n",
      "weighted avg       0.94      0.95      0.94       412\n",
      "\n"
     ]
    }
   ],
   "source": [
    "# K = 5  create classification report\n",
    "print(classification_report(y_true2, y_pred2))"
   ]
  },
  {
   "attachments": {},
   "cell_type": "markdown",
   "metadata": {},
   "source": [
    "# SUPPORT VECTOR CLASSIFIER"
   ]
  },
  {
   "cell_type": "code",
   "execution_count": 82,
   "metadata": {},
   "outputs": [],
   "source": [
    "# set target\n",
    "target = ml_unscaled[\"fall\"]\n",
    "target_names = [\"fall\", \"found\"]"
   ]
  },
  {
   "cell_type": "code",
   "execution_count": 83,
   "metadata": {},
   "outputs": [
    {
     "data": {
      "text/html": [
       "<div>\n",
       "<style scoped>\n",
       "    .dataframe tbody tr th:only-of-type {\n",
       "        vertical-align: middle;\n",
       "    }\n",
       "\n",
       "    .dataframe tbody tr th {\n",
       "        vertical-align: top;\n",
       "    }\n",
       "\n",
       "    .dataframe thead th {\n",
       "        text-align: right;\n",
       "    }\n",
       "</style>\n",
       "<table border=\"1\" class=\"dataframe\">\n",
       "  <thead>\n",
       "    <tr style=\"text-align: right;\">\n",
       "      <th></th>\n",
       "      <th>mass_grams</th>\n",
       "      <th>year</th>\n",
       "      <th>reclat</th>\n",
       "      <th>reclong</th>\n",
       "      <th>elevation</th>\n",
       "      <th>FIPS</th>\n",
       "      <th>area_sqkm</th>\n",
       "      <th>BARE</th>\n",
       "      <th>CROPL</th>\n",
       "      <th>FOREST</th>\n",
       "      <th>...</th>\n",
       "      <th>SHRUBL</th>\n",
       "      <th>SPARSE_VEGETATION</th>\n",
       "      <th>URBAN</th>\n",
       "      <th>WATER</th>\n",
       "      <th>WETL</th>\n",
       "      <th>Achrondrite</th>\n",
       "      <th>Chrondrite</th>\n",
       "      <th>Iron</th>\n",
       "      <th>Mesosiderite</th>\n",
       "      <th>Pallasite</th>\n",
       "    </tr>\n",
       "  </thead>\n",
       "  <tbody>\n",
       "    <tr>\n",
       "      <th>0</th>\n",
       "      <td>32000.0</td>\n",
       "      <td>1899</td>\n",
       "      <td>42.53333</td>\n",
       "      <td>-85.88333</td>\n",
       "      <td>225.0</td>\n",
       "      <td>26</td>\n",
       "      <td>250487</td>\n",
       "      <td>0.241572</td>\n",
       "      <td>35.820019</td>\n",
       "      <td>52.486729</td>\n",
       "      <td>...</td>\n",
       "      <td>0.668927</td>\n",
       "      <td>0.026182</td>\n",
       "      <td>3.350872</td>\n",
       "      <td>2.644462</td>\n",
       "      <td>0.312346</td>\n",
       "      <td>0</td>\n",
       "      <td>1</td>\n",
       "      <td>0</td>\n",
       "      <td>0</td>\n",
       "      <td>0</td>\n",
       "    </tr>\n",
       "    <tr>\n",
       "      <th>1</th>\n",
       "      <td>469.0</td>\n",
       "      <td>1994</td>\n",
       "      <td>43.76111</td>\n",
       "      <td>-84.50778</td>\n",
       "      <td>218.0</td>\n",
       "      <td>26</td>\n",
       "      <td>250487</td>\n",
       "      <td>0.241572</td>\n",
       "      <td>35.820019</td>\n",
       "      <td>52.486729</td>\n",
       "      <td>...</td>\n",
       "      <td>0.668927</td>\n",
       "      <td>0.026182</td>\n",
       "      <td>3.350872</td>\n",
       "      <td>2.644462</td>\n",
       "      <td>0.312346</td>\n",
       "      <td>0</td>\n",
       "      <td>1</td>\n",
       "      <td>0</td>\n",
       "      <td>0</td>\n",
       "      <td>0</td>\n",
       "    </tr>\n",
       "    <tr>\n",
       "      <th>2</th>\n",
       "      <td>10600.0</td>\n",
       "      <td>1921</td>\n",
       "      <td>44.51667</td>\n",
       "      <td>-83.95000</td>\n",
       "      <td>387.0</td>\n",
       "      <td>26</td>\n",
       "      <td>250487</td>\n",
       "      <td>0.241572</td>\n",
       "      <td>35.820019</td>\n",
       "      <td>52.486729</td>\n",
       "      <td>...</td>\n",
       "      <td>0.668927</td>\n",
       "      <td>0.026182</td>\n",
       "      <td>3.350872</td>\n",
       "      <td>2.644462</td>\n",
       "      <td>0.312346</td>\n",
       "      <td>0</td>\n",
       "      <td>1</td>\n",
       "      <td>0</td>\n",
       "      <td>0</td>\n",
       "      <td>0</td>\n",
       "    </tr>\n",
       "    <tr>\n",
       "      <th>3</th>\n",
       "      <td>1551.0</td>\n",
       "      <td>1997</td>\n",
       "      <td>42.38467</td>\n",
       "      <td>-83.61150</td>\n",
       "      <td>279.0</td>\n",
       "      <td>26</td>\n",
       "      <td>250487</td>\n",
       "      <td>0.241572</td>\n",
       "      <td>35.820019</td>\n",
       "      <td>52.486729</td>\n",
       "      <td>...</td>\n",
       "      <td>0.668927</td>\n",
       "      <td>0.026182</td>\n",
       "      <td>3.350872</td>\n",
       "      <td>2.644462</td>\n",
       "      <td>0.312346</td>\n",
       "      <td>0</td>\n",
       "      <td>1</td>\n",
       "      <td>0</td>\n",
       "      <td>0</td>\n",
       "      <td>0</td>\n",
       "    </tr>\n",
       "    <tr>\n",
       "      <th>4</th>\n",
       "      <td>51700.0</td>\n",
       "      <td>1883</td>\n",
       "      <td>42.96667</td>\n",
       "      <td>-85.76667</td>\n",
       "      <td>225.0</td>\n",
       "      <td>26</td>\n",
       "      <td>250487</td>\n",
       "      <td>0.241572</td>\n",
       "      <td>35.820019</td>\n",
       "      <td>52.486729</td>\n",
       "      <td>...</td>\n",
       "      <td>0.668927</td>\n",
       "      <td>0.026182</td>\n",
       "      <td>3.350872</td>\n",
       "      <td>2.644462</td>\n",
       "      <td>0.312346</td>\n",
       "      <td>0</td>\n",
       "      <td>0</td>\n",
       "      <td>1</td>\n",
       "      <td>0</td>\n",
       "      <td>0</td>\n",
       "    </tr>\n",
       "  </tbody>\n",
       "</table>\n",
       "<p>5 rows × 21 columns</p>\n",
       "</div>"
      ],
      "text/plain": [
       "   mass_grams  year    reclat   reclong  elevation  FIPS  area_sqkm      BARE  \\\n",
       "0     32000.0  1899  42.53333 -85.88333      225.0    26     250487  0.241572   \n",
       "1       469.0  1994  43.76111 -84.50778      218.0    26     250487  0.241572   \n",
       "2     10600.0  1921  44.51667 -83.95000      387.0    26     250487  0.241572   \n",
       "3      1551.0  1997  42.38467 -83.61150      279.0    26     250487  0.241572   \n",
       "4     51700.0  1883  42.96667 -85.76667      225.0    26     250487  0.241572   \n",
       "\n",
       "       CROPL     FOREST  ...    SHRUBL  SPARSE_VEGETATION     URBAN     WATER  \\\n",
       "0  35.820019  52.486729  ...  0.668927           0.026182  3.350872  2.644462   \n",
       "1  35.820019  52.486729  ...  0.668927           0.026182  3.350872  2.644462   \n",
       "2  35.820019  52.486729  ...  0.668927           0.026182  3.350872  2.644462   \n",
       "3  35.820019  52.486729  ...  0.668927           0.026182  3.350872  2.644462   \n",
       "4  35.820019  52.486729  ...  0.668927           0.026182  3.350872  2.644462   \n",
       "\n",
       "       WETL  Achrondrite  Chrondrite  Iron  Mesosiderite  Pallasite  \n",
       "0  0.312346            0           1     0             0          0  \n",
       "1  0.312346            0           1     0             0          0  \n",
       "2  0.312346            0           1     0             0          0  \n",
       "3  0.312346            0           1     0             0          0  \n",
       "4  0.312346            0           0     1             0          0  \n",
       "\n",
       "[5 rows x 21 columns]"
      ]
     },
     "execution_count": 83,
     "metadata": {},
     "output_type": "execute_result"
    }
   ],
   "source": [
    "# set data\n",
    "data = ml_unscaled.drop(\"fall\", axis=1)\n",
    "feature_names = data.columns\n",
    "data.head()"
   ]
  },
  {
   "cell_type": "code",
   "execution_count": 84,
   "metadata": {},
   "outputs": [],
   "source": [
    "# split data into train and test, scale x\n",
    "X_train, X_test, y_train, y_test = train_test_split(data, target, random_state=42)\n",
    "\n",
    "scaler = StandardScaler()\n",
    "scaler.fit(X_train)\n",
    "X_train_scaled = scaler.transform(X_train)\n",
    "X_test_scaled = scaler.transform(X_test)"
   ]
  },
  {
   "cell_type": "code",
   "execution_count": 85,
   "metadata": {},
   "outputs": [
    {
     "data": {
      "text/plain": [
       "SVC(kernel='linear', probability=True)"
      ]
     },
     "execution_count": 85,
     "metadata": {},
     "output_type": "execute_result"
    }
   ],
   "source": [
    "# Support vector machine linear classifier (took 6 1/2 min with the fan running high)\n",
    "model = SVC(kernel='linear', probability=True)\n",
    "model.fit(X_train, y_train)\n",
    "\n",
    "modelsc = SVC(kernel='linear', probability=True)\n",
    "modelsc.fit(X_train_scaled, y_train)"
   ]
  },
  {
   "cell_type": "code",
   "execution_count": 86,
   "metadata": {},
   "outputs": [
    {
     "data": {
      "image/png": "[encoded data removed]",
      "text/plain": [
       "<Figure size 432x288 with 1 Axes>"
      ]
     },
     "metadata": {
      "needs_background": "light"
     },
     "output_type": "display_data"
    }
   ],
   "source": [
    "# plot ROC curve\n",
    "y_pred_proba = model.predict_proba(X_test)[:,1]\n",
    "fpr, tpr, thresholds = roc_curve(y_test, y_pred_prob)\n",
    "roc_auc = auc(fpr, tpr)\n",
    "\n",
    "plt.figure()\n",
    "plt.plot(fpr, tpr, color='darkorange',\n",
    "         label=f'ROC curve (area = {roc_auc:0.2f})')\n",
    "plt.plot([0, 1], [0, 1], color='navy', linestyle='--')\n",
    "plt.xlim([0.0, 1.0])\n",
    "plt.ylim([0.0, 1.05])\n",
    "plt.xlabel('False Positive Rate')\n",
    "plt.ylabel('True Positive Rate')\n",
    "plt.title('Receiver operating characteristic example')\n",
    "plt.legend(loc=\"lower right\")\n",
    "plt.show()"
   ]
  },
  {
   "cell_type": "code",
   "execution_count": 87,
   "metadata": {},
   "outputs": [
    {
     "name": "stdout",
     "output_type": "stream",
     "text": [
      "Test Acc: 0.913\n",
      "Scaled Test Acc: 0.947\n"
     ]
    },
    {
     "data": {
      "text/plain": [
       "array([[  3,  33],\n",
       "       [  3, 373]], dtype=int64)"
      ]
     },
     "execution_count": 87,
     "metadata": {},
     "output_type": "execute_result"
    }
   ],
   "source": [
    "# Model Accuracy and confusion matrix\n",
    "print('Test Acc: %.3f' % model.score(X_test, y_test))\n",
    "print('Scaled Test Acc: %.3f' % modelsc.score(X_test_scaled, y_test))\n",
    "y_true = y_test\n",
    "y_pred = model.predict(X_test)\n",
    "cm = confusion_matrix(y_true, y_pred)\n",
    "cm"
   ]
  },
  {
   "cell_type": "code",
   "execution_count": 88,
   "metadata": {},
   "outputs": [
    {
     "name": "stdout",
     "output_type": "stream",
     "text": [
      "              precision    recall  f1-score   support\n",
      "\n",
      "        fall       0.50      0.08      0.14        36\n",
      "       found       0.92      0.99      0.95       376\n",
      "\n",
      "    accuracy                           0.91       412\n",
      "   macro avg       0.71      0.54      0.55       412\n",
      "weighted avg       0.88      0.91      0.88       412\n",
      "\n"
     ]
    }
   ],
   "source": [
    "# classification report\n",
    "predictions = model.predict(X_test)\n",
    "print(classification_report(y_test, predictions,\n",
    "                            target_names=target_names))"
   ]
  },
  {
   "cell_type": "code",
   "execution_count": 118,
   "metadata": {},
   "outputs": [
    {
     "data": {
      "text/plain": [
       "SVC(probability=True)"
      ]
     },
     "execution_count": 118,
     "metadata": {},
     "output_type": "execute_result"
    }
   ],
   "source": [
    "# Support vector machine rbf classifier\n",
    "bmodel = SVC(kernel='rbf', probability=True)\n",
    "bmodel.fit(X_train, y_train)\n",
    "\n",
    "bmodelsc = SVC(kernel='rbf', probability=True)\n",
    "bmodelsc.fit(X_train_scaled, y_train)"
   ]
  },
  {
   "cell_type": "code",
   "execution_count": 119,
   "metadata": {},
   "outputs": [
    {
     "data": {
      "image/png": "[encoded data removed]",
      "text/plain": [
       "<Figure size 432x288 with 1 Axes>"
      ]
     },
     "metadata": {
      "needs_background": "light"
     },
     "output_type": "display_data"
    }
   ],
   "source": [
    "# plot ROC curve RBF\n",
    "by_pred_prob = bmodel.predict_proba(X_test)[:,1]\n",
    "fpr, tpr, thresholds = roc_curve(y_test, by_pred_prob)\n",
    "roc_auc = auc(fpr, tpr)\n",
    "\n",
    "plt.figure()\n",
    "plt.plot(fpr, tpr, color='darkorange',\n",
    "         label=f'ROC curve (area = {roc_auc:0.2f})')\n",
    "plt.plot([0, 1], [0, 1], color='navy', linestyle='--')\n",
    "plt.xlim([0.0, 1.0])\n",
    "plt.ylim([0.0, 1.05])\n",
    "plt.xlabel('False Positive Rate')\n",
    "plt.ylabel('True Positive Rate')\n",
    "plt.title('Receiver operating characteristic example')\n",
    "plt.legend(loc=\"lower right\")\n",
    "plt.show()"
   ]
  },
  {
   "cell_type": "code",
   "execution_count": 116,
   "metadata": {},
   "outputs": [
    {
     "data": {
      "text/plain": [
       "SVC(kernel='sigmoid', probability=True)"
      ]
     },
     "execution_count": 116,
     "metadata": {},
     "output_type": "execute_result"
    }
   ],
   "source": [
    "# Support vector machine rbf classifier\n",
    "cmodel = SVC(kernel='sigmoid', probability=True)\n",
    "cmodel.fit(X_train, y_train)\n",
    "\n",
    "cmodelsc = SVC(kernel='sigmoid', probability=True)\n",
    "cmodelsc.fit(X_train_scaled, y_train)"
   ]
  },
  {
   "cell_type": "code",
   "execution_count": 117,
   "metadata": {},
   "outputs": [
    {
     "data": {
      "image/png": "[encoded data removed]",
      "text/plain": [
       "<Figure size 432x288 with 1 Axes>"
      ]
     },
     "metadata": {
      "needs_background": "light"
     },
     "output_type": "display_data"
    }
   ],
   "source": [
    "# plot ROC curve RBF  (with previous run of svc with sigmoid, area under roc curve was 0.36)\n",
    "cy_pred_prob = cmodel.predict_proba(X_test)[:,1]\n",
    "fpr, tpr, thresholds = roc_curve(y_test, cy_pred_prob)\n",
    "roc_auc = auc(fpr, tpr)\n",
    "\n",
    "plt.figure()\n",
    "plt.plot(fpr, tpr, color='darkorange',\n",
    "         label=f'ROC curve (area = {roc_auc:0.2f})')\n",
    "plt.plot([0, 1], [0, 1], color='navy', linestyle='--')\n",
    "plt.xlim([0.0, 1.0])\n",
    "plt.ylim([0.0, 1.05])\n",
    "plt.xlabel('False Positive Rate')\n",
    "plt.ylabel('True Positive Rate')\n",
    "plt.title('Receiver operating characteristic example')\n",
    "plt.legend(loc=\"lower right\")\n",
    "plt.show()"
   ]
  },
  {
   "cell_type": "code",
   "execution_count": 124,
   "metadata": {},
   "outputs": [
    {
     "data": {
      "text/plain": [
       "SVC(kernel='poly', probability=True)"
      ]
     },
     "execution_count": 124,
     "metadata": {},
     "output_type": "execute_result"
    }
   ],
   "source": [
    "# Support vector machine rbf classifier\n",
    "dmodel = SVC(kernel='poly', probability=True)\n",
    "dmodel.fit(X_train, y_train)\n",
    "\n",
    "dmodelsc = SVC(kernel='poly', probability=True)\n",
    "dmodelsc.fit(X_train_scaled, y_train)"
   ]
  },
  {
   "cell_type": "code",
   "execution_count": 125,
   "metadata": {},
   "outputs": [
    {
     "data": {
      "image/png": "[encoded data removed]",
      "text/plain": [
       "<Figure size 432x288 with 1 Axes>"
      ]
     },
     "metadata": {
      "needs_background": "light"
     },
     "output_type": "display_data"
    }
   ],
   "source": [
    "# plot ROC curve RBF  (1st & second poly runs roc 0.17)\n",
    "dy_pred_prob = dmodel.predict_proba(X_test)[:,1]\n",
    "fpr, tpr, thresholds = roc_curve(y_test, dy_pred_prob)\n",
    "roc_auc = auc(fpr, tpr)\n",
    "\n",
    "plt.figure()\n",
    "plt.plot(fpr, tpr, color='darkorange',\n",
    "         label=f'ROC curve (area = {roc_auc:0.2f})')\n",
    "plt.plot([0, 1], [0, 1], color='navy', linestyle='--')\n",
    "plt.xlim([0.0, 1.0])\n",
    "plt.ylim([0.0, 1.05])\n",
    "plt.xlabel('False Positive Rate')\n",
    "plt.ylabel('True Positive Rate')\n",
    "plt.title('Receiver operating characteristic example')\n",
    "plt.legend(loc=\"lower right\")\n",
    "plt.show()"
   ]
  },
  {
   "attachments": {},
   "cell_type": "markdown",
   "metadata": {},
   "source": [
    "# LINEAR REGRESSION AND LASSO "
   ]
  },
  {
   "cell_type": "code",
   "execution_count": 89,
   "metadata": {},
   "outputs": [],
   "source": [
    "#  set x and y\n",
    "X = ml_unscaled.drop([\"fall\"], axis=1)\n",
    "y = ml_unscaled['fall']"
   ]
  },
  {
   "cell_type": "code",
   "execution_count": 90,
   "metadata": {},
   "outputs": [
    {
     "name": "stdout",
     "output_type": "stream",
     "text": [
      "1648\n"
     ]
    },
    {
     "data": {
      "text/html": [
       "<div>\n",
       "<style scoped>\n",
       "    .dataframe tbody tr th:only-of-type {\n",
       "        vertical-align: middle;\n",
       "    }\n",
       "\n",
       "    .dataframe tbody tr th {\n",
       "        vertical-align: top;\n",
       "    }\n",
       "\n",
       "    .dataframe thead th {\n",
       "        text-align: right;\n",
       "    }\n",
       "</style>\n",
       "<table border=\"1\" class=\"dataframe\">\n",
       "  <thead>\n",
       "    <tr style=\"text-align: right;\">\n",
       "      <th></th>\n",
       "      <th>mass_grams</th>\n",
       "      <th>fall</th>\n",
       "      <th>year</th>\n",
       "      <th>reclat</th>\n",
       "      <th>reclong</th>\n",
       "      <th>elevation</th>\n",
       "      <th>FIPS</th>\n",
       "      <th>area_sqkm</th>\n",
       "      <th>BARE</th>\n",
       "      <th>CROPL</th>\n",
       "      <th>...</th>\n",
       "      <th>SHRUBL</th>\n",
       "      <th>SPARSE_VEGETATION</th>\n",
       "      <th>URBAN</th>\n",
       "      <th>WATER</th>\n",
       "      <th>WETL</th>\n",
       "      <th>Achrondrite</th>\n",
       "      <th>Chrondrite</th>\n",
       "      <th>Iron</th>\n",
       "      <th>Mesosiderite</th>\n",
       "      <th>Pallasite</th>\n",
       "    </tr>\n",
       "  </thead>\n",
       "  <tbody>\n",
       "    <tr>\n",
       "      <th>0</th>\n",
       "      <td>32000.0</td>\n",
       "      <td>0</td>\n",
       "      <td>1899</td>\n",
       "      <td>42.53333</td>\n",
       "      <td>-85.88333</td>\n",
       "      <td>225.0</td>\n",
       "      <td>26</td>\n",
       "      <td>250487</td>\n",
       "      <td>0.241572</td>\n",
       "      <td>35.820019</td>\n",
       "      <td>...</td>\n",
       "      <td>0.668927</td>\n",
       "      <td>0.026182</td>\n",
       "      <td>3.350872</td>\n",
       "      <td>2.644462</td>\n",
       "      <td>0.312346</td>\n",
       "      <td>0</td>\n",
       "      <td>1</td>\n",
       "      <td>0</td>\n",
       "      <td>0</td>\n",
       "      <td>0</td>\n",
       "    </tr>\n",
       "    <tr>\n",
       "      <th>1</th>\n",
       "      <td>469.0</td>\n",
       "      <td>0</td>\n",
       "      <td>1994</td>\n",
       "      <td>43.76111</td>\n",
       "      <td>-84.50778</td>\n",
       "      <td>218.0</td>\n",
       "      <td>26</td>\n",
       "      <td>250487</td>\n",
       "      <td>0.241572</td>\n",
       "      <td>35.820019</td>\n",
       "      <td>...</td>\n",
       "      <td>0.668927</td>\n",
       "      <td>0.026182</td>\n",
       "      <td>3.350872</td>\n",
       "      <td>2.644462</td>\n",
       "      <td>0.312346</td>\n",
       "      <td>0</td>\n",
       "      <td>1</td>\n",
       "      <td>0</td>\n",
       "      <td>0</td>\n",
       "      <td>0</td>\n",
       "    </tr>\n",
       "    <tr>\n",
       "      <th>2</th>\n",
       "      <td>10600.0</td>\n",
       "      <td>0</td>\n",
       "      <td>1921</td>\n",
       "      <td>44.51667</td>\n",
       "      <td>-83.95000</td>\n",
       "      <td>387.0</td>\n",
       "      <td>26</td>\n",
       "      <td>250487</td>\n",
       "      <td>0.241572</td>\n",
       "      <td>35.820019</td>\n",
       "      <td>...</td>\n",
       "      <td>0.668927</td>\n",
       "      <td>0.026182</td>\n",
       "      <td>3.350872</td>\n",
       "      <td>2.644462</td>\n",
       "      <td>0.312346</td>\n",
       "      <td>0</td>\n",
       "      <td>1</td>\n",
       "      <td>0</td>\n",
       "      <td>0</td>\n",
       "      <td>0</td>\n",
       "    </tr>\n",
       "    <tr>\n",
       "      <th>3</th>\n",
       "      <td>1551.0</td>\n",
       "      <td>0</td>\n",
       "      <td>1997</td>\n",
       "      <td>42.38467</td>\n",
       "      <td>-83.61150</td>\n",
       "      <td>279.0</td>\n",
       "      <td>26</td>\n",
       "      <td>250487</td>\n",
       "      <td>0.241572</td>\n",
       "      <td>35.820019</td>\n",
       "      <td>...</td>\n",
       "      <td>0.668927</td>\n",
       "      <td>0.026182</td>\n",
       "      <td>3.350872</td>\n",
       "      <td>2.644462</td>\n",
       "      <td>0.312346</td>\n",
       "      <td>0</td>\n",
       "      <td>1</td>\n",
       "      <td>0</td>\n",
       "      <td>0</td>\n",
       "      <td>0</td>\n",
       "    </tr>\n",
       "    <tr>\n",
       "      <th>4</th>\n",
       "      <td>51700.0</td>\n",
       "      <td>1</td>\n",
       "      <td>1883</td>\n",
       "      <td>42.96667</td>\n",
       "      <td>-85.76667</td>\n",
       "      <td>225.0</td>\n",
       "      <td>26</td>\n",
       "      <td>250487</td>\n",
       "      <td>0.241572</td>\n",
       "      <td>35.820019</td>\n",
       "      <td>...</td>\n",
       "      <td>0.668927</td>\n",
       "      <td>0.026182</td>\n",
       "      <td>3.350872</td>\n",
       "      <td>2.644462</td>\n",
       "      <td>0.312346</td>\n",
       "      <td>0</td>\n",
       "      <td>0</td>\n",
       "      <td>1</td>\n",
       "      <td>0</td>\n",
       "      <td>0</td>\n",
       "    </tr>\n",
       "  </tbody>\n",
       "</table>\n",
       "<p>5 rows × 22 columns</p>\n",
       "</div>"
      ],
      "text/plain": [
       "   mass_grams  fall  year    reclat   reclong  elevation  FIPS  area_sqkm  \\\n",
       "0     32000.0     0  1899  42.53333 -85.88333      225.0    26     250487   \n",
       "1       469.0     0  1994  43.76111 -84.50778      218.0    26     250487   \n",
       "2     10600.0     0  1921  44.51667 -83.95000      387.0    26     250487   \n",
       "3      1551.0     0  1997  42.38467 -83.61150      279.0    26     250487   \n",
       "4     51700.0     1  1883  42.96667 -85.76667      225.0    26     250487   \n",
       "\n",
       "       BARE      CROPL  ...    SHRUBL  SPARSE_VEGETATION     URBAN     WATER  \\\n",
       "0  0.241572  35.820019  ...  0.668927           0.026182  3.350872  2.644462   \n",
       "1  0.241572  35.820019  ...  0.668927           0.026182  3.350872  2.644462   \n",
       "2  0.241572  35.820019  ...  0.668927           0.026182  3.350872  2.644462   \n",
       "3  0.241572  35.820019  ...  0.668927           0.026182  3.350872  2.644462   \n",
       "4  0.241572  35.820019  ...  0.668927           0.026182  3.350872  2.644462   \n",
       "\n",
       "       WETL  Achrondrite  Chrondrite  Iron  Mesosiderite  Pallasite  \n",
       "0  0.312346            0           1     0             0          0  \n",
       "1  0.312346            0           1     0             0          0  \n",
       "2  0.312346            0           1     0             0          0  \n",
       "3  0.312346            0           1     0             0          0  \n",
       "4  0.312346            0           0     1             0          0  \n",
       "\n",
       "[5 rows x 22 columns]"
      ]
     },
     "execution_count": 90,
     "metadata": {},
     "output_type": "execute_result"
    }
   ],
   "source": [
    "# dataset has 20 features and 1648 samples\n",
    "print(len(ml_unscaled))\n",
    "ml_unscaled.head()"
   ]
  },
  {
   "cell_type": "code",
   "execution_count": 91,
   "metadata": {},
   "outputs": [],
   "source": [
    "# split data into test and train, scale x\n",
    "X_train, X_test, y_train, y_test = train_test_split(X, y, random_state=1)\n",
    "scaler = StandardScaler().fit(X_train)\n",
    "X_train_scaled = scaler.transform(X_train)\n",
    "X_test_scaled = scaler.transform(X_test)"
   ]
  },
  {
   "cell_type": "code",
   "execution_count": 92,
   "metadata": {},
   "outputs": [
    {
     "data": {
      "text/plain": [
       "0.3367706412910496"
      ]
     },
     "execution_count": 92,
     "metadata": {},
     "output_type": "execute_result"
    }
   ],
   "source": [
    "# fit linear regression model, print score\n",
    "reg = LinearRegression().fit(X_train_scaled, y_train)\n",
    "reg.score(X_test_scaled, y_test)"
   ]
  },
  {
   "cell_type": "code",
   "execution_count": 93,
   "metadata": {},
   "outputs": [
    {
     "data": {
      "text/plain": [
       "-0.0003031451307311528"
      ]
     },
     "execution_count": 93,
     "metadata": {},
     "output_type": "execute_result"
    }
   ],
   "source": [
    "# Select the columns that have a nonzero value from the LASSO regression.\n",
    "reg = Lasso(max_iter=200).fit(X_train_scaled, y_train)\n",
    "reg.score(X_test_scaled, y_test)"
   ]
  },
  {
   "attachments": {},
   "cell_type": "markdown",
   "metadata": {},
   "source": [
    "'The main problem with lasso regression is when we have correlated variables, it retains only one variable and sets other correlated variables to zero. That will possibly lead to some loss of information resulting in lower accuracy in our model.'\n",
    "\n",
    "https://www.mygreatlearning.com/blog/understanding-of-lasso-regression/#:~:text=The%20main%20problem%20with%20lasso,lower%20accuracy%20in%20our%20model.\n"
   ]
  },
  {
   "attachments": {},
   "cell_type": "markdown",
   "metadata": {},
   "source": [
    "# Extremely randomn trees"
   ]
  },
  {
   "cell_type": "code",
   "execution_count": 94,
   "metadata": {},
   "outputs": [],
   "source": [
    "#  set x and y\n",
    "X = ml_unscaled.drop([\"fall\"], axis=1)\n",
    "y = ml_unscaled['fall']"
   ]
  },
  {
   "cell_type": "code",
   "execution_count": 95,
   "metadata": {},
   "outputs": [],
   "source": [
    "# split into test/train, scale x\n",
    "X_train, X_test, y_train, y_test = train_test_split(X, y, random_state=1)\n",
    "scaler = StandardScaler().fit(X_train)\n",
    "X_train_scaled = scaler.transform(X_train)\n",
    "X_test_scaled = scaler.transform(X_test)"
   ]
  },
  {
   "cell_type": "code",
   "execution_count": 96,
   "metadata": {},
   "outputs": [
    {
     "name": "stdout",
     "output_type": "stream",
     "text": [
      "Training Score: 1.0\n",
      "Testing Score: 0.9368932038834952\n"
     ]
    }
   ],
   "source": [
    "# fit extra trees classifier model, print train and test score\n",
    "clf = ExtraTreesClassifier(random_state=1, n_estimators=50).fit(X_train_scaled, y_train)\n",
    "print(f'Training Score: {clf.score(X_train_scaled, y_train)}')\n",
    "print(f'Testing Score: {clf.score(X_test_scaled, y_test)}')"
   ]
  },
  {
   "attachments": {},
   "cell_type": "markdown",
   "metadata": {},
   "source": [
    "# Hierarchical Clustering"
   ]
  },
  {
   "cell_type": "code",
   "execution_count": 97,
   "metadata": {},
   "outputs": [
    {
     "name": "stdout",
     "output_type": "stream",
     "text": [
      "1648\n"
     ]
    },
    {
     "data": {
      "text/html": [
       "<div>\n",
       "<style scoped>\n",
       "    .dataframe tbody tr th:only-of-type {\n",
       "        vertical-align: middle;\n",
       "    }\n",
       "\n",
       "    .dataframe tbody tr th {\n",
       "        vertical-align: top;\n",
       "    }\n",
       "\n",
       "    .dataframe thead th {\n",
       "        text-align: right;\n",
       "    }\n",
       "</style>\n",
       "<table border=\"1\" class=\"dataframe\">\n",
       "  <thead>\n",
       "    <tr style=\"text-align: right;\">\n",
       "      <th></th>\n",
       "      <th>mass_grams</th>\n",
       "      <th>year</th>\n",
       "      <th>reclat</th>\n",
       "      <th>reclong</th>\n",
       "      <th>elevation</th>\n",
       "      <th>FIPS</th>\n",
       "      <th>area_sqkm</th>\n",
       "      <th>BARE</th>\n",
       "      <th>CROPL</th>\n",
       "      <th>FOREST</th>\n",
       "      <th>...</th>\n",
       "      <th>SHRUBL</th>\n",
       "      <th>SPARSE_VEGETATION</th>\n",
       "      <th>URBAN</th>\n",
       "      <th>WATER</th>\n",
       "      <th>WETL</th>\n",
       "      <th>Achrondrite</th>\n",
       "      <th>Chrondrite</th>\n",
       "      <th>Iron</th>\n",
       "      <th>Mesosiderite</th>\n",
       "      <th>Pallasite</th>\n",
       "    </tr>\n",
       "  </thead>\n",
       "  <tbody>\n",
       "    <tr>\n",
       "      <th>0</th>\n",
       "      <td>32000.0</td>\n",
       "      <td>1899</td>\n",
       "      <td>42.53333</td>\n",
       "      <td>-85.88333</td>\n",
       "      <td>225.0</td>\n",
       "      <td>26</td>\n",
       "      <td>250487</td>\n",
       "      <td>0.241572</td>\n",
       "      <td>35.820019</td>\n",
       "      <td>52.486729</td>\n",
       "      <td>...</td>\n",
       "      <td>0.668927</td>\n",
       "      <td>0.026182</td>\n",
       "      <td>3.350872</td>\n",
       "      <td>2.644462</td>\n",
       "      <td>0.312346</td>\n",
       "      <td>0</td>\n",
       "      <td>1</td>\n",
       "      <td>0</td>\n",
       "      <td>0</td>\n",
       "      <td>0</td>\n",
       "    </tr>\n",
       "    <tr>\n",
       "      <th>1</th>\n",
       "      <td>469.0</td>\n",
       "      <td>1994</td>\n",
       "      <td>43.76111</td>\n",
       "      <td>-84.50778</td>\n",
       "      <td>218.0</td>\n",
       "      <td>26</td>\n",
       "      <td>250487</td>\n",
       "      <td>0.241572</td>\n",
       "      <td>35.820019</td>\n",
       "      <td>52.486729</td>\n",
       "      <td>...</td>\n",
       "      <td>0.668927</td>\n",
       "      <td>0.026182</td>\n",
       "      <td>3.350872</td>\n",
       "      <td>2.644462</td>\n",
       "      <td>0.312346</td>\n",
       "      <td>0</td>\n",
       "      <td>1</td>\n",
       "      <td>0</td>\n",
       "      <td>0</td>\n",
       "      <td>0</td>\n",
       "    </tr>\n",
       "    <tr>\n",
       "      <th>2</th>\n",
       "      <td>10600.0</td>\n",
       "      <td>1921</td>\n",
       "      <td>44.51667</td>\n",
       "      <td>-83.95000</td>\n",
       "      <td>387.0</td>\n",
       "      <td>26</td>\n",
       "      <td>250487</td>\n",
       "      <td>0.241572</td>\n",
       "      <td>35.820019</td>\n",
       "      <td>52.486729</td>\n",
       "      <td>...</td>\n",
       "      <td>0.668927</td>\n",
       "      <td>0.026182</td>\n",
       "      <td>3.350872</td>\n",
       "      <td>2.644462</td>\n",
       "      <td>0.312346</td>\n",
       "      <td>0</td>\n",
       "      <td>1</td>\n",
       "      <td>0</td>\n",
       "      <td>0</td>\n",
       "      <td>0</td>\n",
       "    </tr>\n",
       "    <tr>\n",
       "      <th>3</th>\n",
       "      <td>1551.0</td>\n",
       "      <td>1997</td>\n",
       "      <td>42.38467</td>\n",
       "      <td>-83.61150</td>\n",
       "      <td>279.0</td>\n",
       "      <td>26</td>\n",
       "      <td>250487</td>\n",
       "      <td>0.241572</td>\n",
       "      <td>35.820019</td>\n",
       "      <td>52.486729</td>\n",
       "      <td>...</td>\n",
       "      <td>0.668927</td>\n",
       "      <td>0.026182</td>\n",
       "      <td>3.350872</td>\n",
       "      <td>2.644462</td>\n",
       "      <td>0.312346</td>\n",
       "      <td>0</td>\n",
       "      <td>1</td>\n",
       "      <td>0</td>\n",
       "      <td>0</td>\n",
       "      <td>0</td>\n",
       "    </tr>\n",
       "    <tr>\n",
       "      <th>4</th>\n",
       "      <td>51700.0</td>\n",
       "      <td>1883</td>\n",
       "      <td>42.96667</td>\n",
       "      <td>-85.76667</td>\n",
       "      <td>225.0</td>\n",
       "      <td>26</td>\n",
       "      <td>250487</td>\n",
       "      <td>0.241572</td>\n",
       "      <td>35.820019</td>\n",
       "      <td>52.486729</td>\n",
       "      <td>...</td>\n",
       "      <td>0.668927</td>\n",
       "      <td>0.026182</td>\n",
       "      <td>3.350872</td>\n",
       "      <td>2.644462</td>\n",
       "      <td>0.312346</td>\n",
       "      <td>0</td>\n",
       "      <td>0</td>\n",
       "      <td>1</td>\n",
       "      <td>0</td>\n",
       "      <td>0</td>\n",
       "    </tr>\n",
       "  </tbody>\n",
       "</table>\n",
       "<p>5 rows × 21 columns</p>\n",
       "</div>"
      ],
      "text/plain": [
       "   mass_grams  year    reclat   reclong  elevation  FIPS  area_sqkm      BARE  \\\n",
       "0     32000.0  1899  42.53333 -85.88333      225.0    26     250487  0.241572   \n",
       "1       469.0  1994  43.76111 -84.50778      218.0    26     250487  0.241572   \n",
       "2     10600.0  1921  44.51667 -83.95000      387.0    26     250487  0.241572   \n",
       "3      1551.0  1997  42.38467 -83.61150      279.0    26     250487  0.241572   \n",
       "4     51700.0  1883  42.96667 -85.76667      225.0    26     250487  0.241572   \n",
       "\n",
       "       CROPL     FOREST  ...    SHRUBL  SPARSE_VEGETATION     URBAN     WATER  \\\n",
       "0  35.820019  52.486729  ...  0.668927           0.026182  3.350872  2.644462   \n",
       "1  35.820019  52.486729  ...  0.668927           0.026182  3.350872  2.644462   \n",
       "2  35.820019  52.486729  ...  0.668927           0.026182  3.350872  2.644462   \n",
       "3  35.820019  52.486729  ...  0.668927           0.026182  3.350872  2.644462   \n",
       "4  35.820019  52.486729  ...  0.668927           0.026182  3.350872  2.644462   \n",
       "\n",
       "       WETL  Achrondrite  Chrondrite  Iron  Mesosiderite  Pallasite  \n",
       "0  0.312346            0           1     0             0          0  \n",
       "1  0.312346            0           1     0             0          0  \n",
       "2  0.312346            0           1     0             0          0  \n",
       "3  0.312346            0           1     0             0          0  \n",
       "4  0.312346            0           0     1             0          0  \n",
       "\n",
       "[5 rows x 21 columns]"
      ]
     },
     "execution_count": 97,
     "metadata": {},
     "output_type": "execute_result"
    }
   ],
   "source": [
    "# remove fall from dataset (used during supervised learning)\n",
    "hc_df = ml_unscaled.drop(['fall'], axis = 1)\n",
    "print(len(hc_df))\n",
    "hc_df.head()"
   ]
  },
  {
   "cell_type": "code",
   "execution_count": 98,
   "metadata": {},
   "outputs": [],
   "source": [
    "# normalize dataset\n",
    "normalized = normalize(hc_df)"
   ]
  },
  {
   "cell_type": "code",
   "execution_count": 99,
   "metadata": {},
   "outputs": [
    {
     "data": {
      "text/html": [
       "<div>\n",
       "<style scoped>\n",
       "    .dataframe tbody tr th:only-of-type {\n",
       "        vertical-align: middle;\n",
       "    }\n",
       "\n",
       "    .dataframe tbody tr th {\n",
       "        vertical-align: top;\n",
       "    }\n",
       "\n",
       "    .dataframe thead th {\n",
       "        text-align: right;\n",
       "    }\n",
       "</style>\n",
       "<table border=\"1\" class=\"dataframe\">\n",
       "  <thead>\n",
       "    <tr style=\"text-align: right;\">\n",
       "      <th></th>\n",
       "      <th>mass_grams</th>\n",
       "      <th>year</th>\n",
       "      <th>reclat</th>\n",
       "      <th>reclong</th>\n",
       "      <th>elevation</th>\n",
       "      <th>FIPS</th>\n",
       "      <th>area_sqkm</th>\n",
       "      <th>BARE</th>\n",
       "      <th>CROPL</th>\n",
       "      <th>FOREST</th>\n",
       "      <th>...</th>\n",
       "      <th>SHRUBL</th>\n",
       "      <th>SPARSE_VEGETATION</th>\n",
       "      <th>URBAN</th>\n",
       "      <th>WATER</th>\n",
       "      <th>WETL</th>\n",
       "      <th>Achrondrite</th>\n",
       "      <th>Chrondrite</th>\n",
       "      <th>Iron</th>\n",
       "      <th>Mesosiderite</th>\n",
       "      <th>Pallasite</th>\n",
       "    </tr>\n",
       "  </thead>\n",
       "  <tbody>\n",
       "    <tr>\n",
       "      <th>0</th>\n",
       "      <td>0.126718</td>\n",
       "      <td>0.007520</td>\n",
       "      <td>0.000168</td>\n",
       "      <td>-0.000340</td>\n",
       "      <td>0.000891</td>\n",
       "      <td>0.000103</td>\n",
       "      <td>0.991910</td>\n",
       "      <td>9.566089e-07</td>\n",
       "      <td>0.000142</td>\n",
       "      <td>0.000208</td>\n",
       "      <td>...</td>\n",
       "      <td>0.000003</td>\n",
       "      <td>1.036799e-07</td>\n",
       "      <td>0.000013</td>\n",
       "      <td>0.000010</td>\n",
       "      <td>0.000001</td>\n",
       "      <td>0.0</td>\n",
       "      <td>0.000004</td>\n",
       "      <td>0.000000</td>\n",
       "      <td>0.0</td>\n",
       "      <td>0.0</td>\n",
       "    </tr>\n",
       "    <tr>\n",
       "      <th>1</th>\n",
       "      <td>0.001872</td>\n",
       "      <td>0.007960</td>\n",
       "      <td>0.000175</td>\n",
       "      <td>-0.000337</td>\n",
       "      <td>0.000870</td>\n",
       "      <td>0.000104</td>\n",
       "      <td>0.999966</td>\n",
       "      <td>9.643784e-07</td>\n",
       "      <td>0.000143</td>\n",
       "      <td>0.000210</td>\n",
       "      <td>...</td>\n",
       "      <td>0.000003</td>\n",
       "      <td>1.045220e-07</td>\n",
       "      <td>0.000013</td>\n",
       "      <td>0.000011</td>\n",
       "      <td>0.000001</td>\n",
       "      <td>0.0</td>\n",
       "      <td>0.000004</td>\n",
       "      <td>0.000000</td>\n",
       "      <td>0.0</td>\n",
       "      <td>0.0</td>\n",
       "    </tr>\n",
       "    <tr>\n",
       "      <th>2</th>\n",
       "      <td>0.042278</td>\n",
       "      <td>0.007662</td>\n",
       "      <td>0.000178</td>\n",
       "      <td>-0.000335</td>\n",
       "      <td>0.001544</td>\n",
       "      <td>0.000104</td>\n",
       "      <td>0.999075</td>\n",
       "      <td>9.635192e-07</td>\n",
       "      <td>0.000143</td>\n",
       "      <td>0.000209</td>\n",
       "      <td>...</td>\n",
       "      <td>0.000003</td>\n",
       "      <td>1.044288e-07</td>\n",
       "      <td>0.000013</td>\n",
       "      <td>0.000011</td>\n",
       "      <td>0.000001</td>\n",
       "      <td>0.0</td>\n",
       "      <td>0.000004</td>\n",
       "      <td>0.000000</td>\n",
       "      <td>0.0</td>\n",
       "      <td>0.0</td>\n",
       "    </tr>\n",
       "    <tr>\n",
       "      <th>3</th>\n",
       "      <td>0.006192</td>\n",
       "      <td>0.007972</td>\n",
       "      <td>0.000169</td>\n",
       "      <td>-0.000334</td>\n",
       "      <td>0.001114</td>\n",
       "      <td>0.000104</td>\n",
       "      <td>0.999948</td>\n",
       "      <td>9.643613e-07</td>\n",
       "      <td>0.000143</td>\n",
       "      <td>0.000210</td>\n",
       "      <td>...</td>\n",
       "      <td>0.000003</td>\n",
       "      <td>1.045201e-07</td>\n",
       "      <td>0.000013</td>\n",
       "      <td>0.000011</td>\n",
       "      <td>0.000001</td>\n",
       "      <td>0.0</td>\n",
       "      <td>0.000004</td>\n",
       "      <td>0.000000</td>\n",
       "      <td>0.0</td>\n",
       "      <td>0.0</td>\n",
       "    </tr>\n",
       "    <tr>\n",
       "      <th>4</th>\n",
       "      <td>0.202132</td>\n",
       "      <td>0.007362</td>\n",
       "      <td>0.000168</td>\n",
       "      <td>-0.000335</td>\n",
       "      <td>0.000880</td>\n",
       "      <td>0.000102</td>\n",
       "      <td>0.979330</td>\n",
       "      <td>9.444769e-07</td>\n",
       "      <td>0.000140</td>\n",
       "      <td>0.000205</td>\n",
       "      <td>...</td>\n",
       "      <td>0.000003</td>\n",
       "      <td>1.023650e-07</td>\n",
       "      <td>0.000013</td>\n",
       "      <td>0.000010</td>\n",
       "      <td>0.000001</td>\n",
       "      <td>0.0</td>\n",
       "      <td>0.000000</td>\n",
       "      <td>0.000004</td>\n",
       "      <td>0.0</td>\n",
       "      <td>0.0</td>\n",
       "    </tr>\n",
       "  </tbody>\n",
       "</table>\n",
       "<p>5 rows × 21 columns</p>\n",
       "</div>"
      ],
      "text/plain": [
       "   mass_grams      year    reclat   reclong  elevation      FIPS  area_sqkm  \\\n",
       "0    0.126718  0.007520  0.000168 -0.000340   0.000891  0.000103   0.991910   \n",
       "1    0.001872  0.007960  0.000175 -0.000337   0.000870  0.000104   0.999966   \n",
       "2    0.042278  0.007662  0.000178 -0.000335   0.001544  0.000104   0.999075   \n",
       "3    0.006192  0.007972  0.000169 -0.000334   0.001114  0.000104   0.999948   \n",
       "4    0.202132  0.007362  0.000168 -0.000335   0.000880  0.000102   0.979330   \n",
       "\n",
       "           BARE     CROPL    FOREST  ...    SHRUBL  SPARSE_VEGETATION  \\\n",
       "0  9.566089e-07  0.000142  0.000208  ...  0.000003       1.036799e-07   \n",
       "1  9.643784e-07  0.000143  0.000210  ...  0.000003       1.045220e-07   \n",
       "2  9.635192e-07  0.000143  0.000209  ...  0.000003       1.044288e-07   \n",
       "3  9.643613e-07  0.000143  0.000210  ...  0.000003       1.045201e-07   \n",
       "4  9.444769e-07  0.000140  0.000205  ...  0.000003       1.023650e-07   \n",
       "\n",
       "      URBAN     WATER      WETL  Achrondrite  Chrondrite      Iron  \\\n",
       "0  0.000013  0.000010  0.000001          0.0    0.000004  0.000000   \n",
       "1  0.000013  0.000011  0.000001          0.0    0.000004  0.000000   \n",
       "2  0.000013  0.000011  0.000001          0.0    0.000004  0.000000   \n",
       "3  0.000013  0.000011  0.000001          0.0    0.000004  0.000000   \n",
       "4  0.000013  0.000010  0.000001          0.0    0.000000  0.000004   \n",
       "\n",
       "   Mesosiderite  Pallasite  \n",
       "0           0.0        0.0  \n",
       "1           0.0        0.0  \n",
       "2           0.0        0.0  \n",
       "3           0.0        0.0  \n",
       "4           0.0        0.0  \n",
       "\n",
       "[5 rows x 21 columns]"
      ]
     },
     "execution_count": 99,
     "metadata": {},
     "output_type": "execute_result"
    }
   ],
   "source": [
    "# add column headers to normalized df and print\n",
    "df2 = pd.DataFrame(normalized)\n",
    "df2.columns = hc_df.columns\n",
    "df2.head()"
   ]
  },
  {
   "cell_type": "code",
   "execution_count": 100,
   "metadata": {},
   "outputs": [],
   "source": [
    "# Perform hierarchical clustering\n",
    "mergings = linkage(normalized, method='ward')"
   ]
  },
  {
   "cell_type": "code",
   "execution_count": 101,
   "metadata": {},
   "outputs": [
    {
     "data": {
      "image/png": "[encoded data removed]",
      "text/plain": [
       "<Figure size 864x576 with 1 Axes>"
      ]
     },
     "metadata": {
      "needs_background": "light"
     },
     "output_type": "display_data"
    }
   ],
   "source": [
    "# Generate a dendrogram\n",
    "plt.figure(figsize=(12,8))\n",
    "\n",
    "dendrogram(mergings,\n",
    "          leaf_rotation=90,\n",
    "          leaf_font_size=5)\n",
    "\n",
    "plt.show()"
   ]
  },
  {
   "cell_type": "code",
   "execution_count": 102,
   "metadata": {},
   "outputs": [],
   "source": [
    "# Generate cluster labels with sklearn.cluster's AgglomerativeClustering\n",
    "cluster = AgglomerativeClustering(n_clusters=2,\n",
    "                                 affinity='euclidean',\n",
    "                                 linkage='ward')\n",
    "labels = cluster.fit_predict(df2)"
   ]
  },
  {
   "cell_type": "code",
   "execution_count": 103,
   "metadata": {},
   "outputs": [
    {
     "data": {
      "text/plain": [
       "Index(['mass_grams', 'year', 'reclat', 'reclong', 'elevation', 'FIPS',\n",
       "       'area_sqkm', 'BARE', 'CROPL', 'FOREST', 'GRSL', 'SHRUBL',\n",
       "       'SPARSE_VEGETATION', 'URBAN', 'WATER', 'WETL', 'Achrondrite',\n",
       "       'Chrondrite', 'Iron', 'Mesosiderite', 'Pallasite'],\n",
       "      dtype='object')"
      ]
     },
     "execution_count": 103,
     "metadata": {},
     "output_type": "execute_result"
    }
   ],
   "source": [
    "# list df2 columns\n",
    "df2.columns"
   ]
  },
  {
   "cell_type": "code",
   "execution_count": 104,
   "metadata": {},
   "outputs": [
    {
     "data": {
      "image/png": "[encoded data removed]",
      "text/plain": [
       "<Figure size 432x288 with 1 Axes>"
      ]
     },
     "metadata": {
      "needs_background": "light"
     },
     "output_type": "display_data"
    }
   ],
   "source": [
    "# Create a scatter plot with two of the features\n",
    "plt.scatter(df2['mass_grams'], df2['elevation'], c=labels)\n",
    "plt.show()"
   ]
  },
  {
   "cell_type": "code",
   "execution_count": 105,
   "metadata": {},
   "outputs": [
    {
     "data": {
      "image/png": "[encoded data removed]",
      "text/plain": [
       "<Figure size 432x288 with 1 Axes>"
      ]
     },
     "metadata": {
      "needs_background": "light"
     },
     "output_type": "display_data"
    }
   ],
   "source": [
    "# Create a scatter plot with two of the features\n",
    "plt.scatter(df2['mass_grams'], df2['FIPS'], c=labels)\n",
    "plt.show()"
   ]
  }
 ],
 "metadata": {
  "kernelspec": {
   "display_name": "mlenv",
   "language": "python",
   "name": "python3"
  },
  "language_info": {
   "codemirror_mode": {
    "name": "ipython",
    "version": 3
   },
   "file_extension": ".py",
   "mimetype": "text/x-python",
   "name": "python",
   "nbconvert_exporter": "python",
   "pygments_lexer": "ipython3",
   "version": "3.7.7"
  },
  "orig_nbformat": 4
 },
 "nbformat": 4,
 "nbformat_minor": 2
}
